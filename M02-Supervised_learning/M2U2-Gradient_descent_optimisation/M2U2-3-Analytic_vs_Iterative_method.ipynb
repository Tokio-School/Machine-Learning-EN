{
 "cells": [
  {
   "cell_type": "markdown",
   "id": "214e25ad-b1cd-40df-9f7a-86d90add5a35",
   "metadata": {},
   "source": [
    "# Multivariate Linear Regression: Analytic vs Iterative method\n",
    "M2U2 - Exercise 3\n",
    "\n",
    "## What are we going to do?\n",
    "- Solve linear regression using the analytical method\n",
    "\n",
    "Remember to follow the instructions for the submission of assignments indicated in [Submission Instructions](https://github.com/Tokio-School/Machine-Learning-EN/blob/main/Submission_instructions.md)."
   ]
  },
  {
   "cell_type": "markdown",
   "id": "9f6431ae-9df9-4879-bf85-bd84ab6ec22e",
   "metadata": {},
   "source": [
    "## Solve the model using the analytic method\n",
    "\n",
    "This time, we will solve or train the model using the normal equation, which has the following form:\n",
    "\n",
    "$\\Theta_{(n,1)} = (X^T \\times X)^{-1} \\times X^T \\times Y$"
   ]
  },
  {
   "cell_type": "code",
   "execution_count": null,
   "id": "f1413401-b8fe-49b6-8377-2d552e749414",
   "metadata": {},
   "outputs": [],
   "source": [
    "import numpy as np"
   ]
  },
  {
   "cell_type": "markdown",
   "id": "6ed87898-106b-4fc2-a7de-900b14a95945",
   "metadata": {},
   "source": [
    "### Task 1: Generate a synthetic dataset with no error term"
   ]
  },
  {
   "cell_type": "code",
   "execution_count": null,
   "id": "2070c447-caf9-4515-8f02-1f394ab367e1",
   "metadata": {},
   "outputs": [],
   "source": [
    "# TODO: Generate a synthetic dataset, with no error term, in the form of your choice\n",
    "\n",
    "m = 0\n",
    "n = 0\n",
    "\n",
    "X = [...]\n",
    "Theta_true = [...]\n",
    "Y = [...]\n",
    "\n",
    "# Check the values and dimensions (\"shape\") of the vectors\n",
    "print('Theta to be estimated:')\n",
    "print()\n",
    "\n",
    "print('First 10 rows and 5 columns of X and Y:')\n",
    "print()\n",
    "print()\n",
    "\n",
    "print('Dimensions of X and Y:')\n",
    "print('shape', 'shape')"
   ]
  },
  {
   "cell_type": "markdown",
   "id": "f818135b-ea09-44dd-a1d4-e71c3ccc6b65",
   "metadata": {},
   "source": [
    "### Task 2: Use the normal equation\n",
    "\n",
    "Use the following function to solve the linear regression model, optimising its coefficients $\\Theta$, by completing the following cell:"
   ]
  },
  {
   "cell_type": "code",
   "execution_count": null,
   "id": "0b558e31-06f9-4b5d-a1ce-9a57a41593f6",
   "metadata": {},
   "outputs": [],
   "source": [
    "# TODO: Use the function that solves the normal equation\n",
    "\n",
    "def normal_equation(x, y):\n",
    "    \"\"\" Calculate the optimal theta using the normal equation for multivariate linear regression\n",
    "    \n",
    "    Positional arguments:\n",
    "    x -- Numpy 2D array with the values of the independent variables from the examples, of size m x n\n",
    "    y -- Numpy 1D array with the dependent/target variable, of size m x 1\n",
    "    \n",
    "    Return:\n",
    "    theta -- Numpy 1D array with the weights of the model coefficients, of size  1 x n (row vector)\n",
    "    \"\"\"\n",
    "    \n",
    "    theta = [...]\n",
    "    \n",
    "    return theta"
   ]
  },
  {
   "cell_type": "markdown",
   "id": "cfa7b645-54b0-4272-95b9-d657d42b6c10",
   "metadata": {},
   "source": [
    "## Task 3: Check the implementation\n",
    "\n",
    "Use the synthetic dataset you created earlier to check that your implementation returns the same or very close to the original $\\Theta$ value.\n",
    "\n",
    "Try to check it several times, changing parameters such as the number of examples and the number of features.\n",
    "\n",
    "Also, add an error term to the Y again. In this case, the initial and final $\\Theta$ will not quite match as we have introduced error or \"noise\" into the training dataset.\n",
    "\n",
    "Sometimes, the normal equation is not invertible, so you may encounter that error. In that case, don't worry, it is a limitation of the analytical method and not of your particular implementation if it works in the other cases."
   ]
  },
  {
   "cell_type": "code",
   "execution_count": null,
   "id": "8d7972f3-22ec-4941-a8fa-a737fc3034fd",
   "metadata": {},
   "outputs": [],
   "source": [
    "# TODO: Check the implementation of your normal equation\n",
    "\n",
    "theta = normal_equation(X, Y)\n",
    "\n",
    "print('Theta original:')\n",
    "print(Theta_true)\n",
    "print('Theta to be estimated:')\n",
    "print(theta)\n",
    "print('Shape of both thetas:')\n",
    "print(Theta_verd.shape, theta.shape)\n",
    "\n",
    "print('Difference between both Thetas:')\n",
    "print(Theta_true - theta)"
   ]
  }
 ],
 "metadata": {
  "environment": {
   "kernel": "python3",
   "name": "common-cpu.m91",
   "type": "gcloud",
   "uri": "gcr.io/deeplearning-platform-release/base-cpu:m91"
  },
  "kernelspec": {
   "display_name": "Python 3",
   "language": "python",
   "name": "python3"
  },
  "language_info": {
   "codemirror_mode": {
    "name": "ipython",
    "version": 3
   },
   "file_extension": ".py",
   "mimetype": "text/x-python",
   "name": "python",
   "nbconvert_exporter": "python",
   "pygments_lexer": "ipython3",
   "version": "3.7.12"
  }
 },
 "nbformat": 4,
 "nbformat_minor": 5
}
