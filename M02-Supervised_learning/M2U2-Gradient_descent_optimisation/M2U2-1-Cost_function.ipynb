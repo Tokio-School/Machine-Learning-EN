{
 "cells": [
  {
   "cell_type": "markdown",
   "id": "afa5ce9e-a97f-4c44-99b9-a7b8adc6ef2d",
   "metadata": {},
   "source": [
    "# Multivariate Linear Regression: Cost function\n",
    "M2U2 - Exercise 1\n",
    "\n",
    "## What are we going to do?\n",
    "- Implement the cost function for multivariate linear regression\n",
    "\n",
    "Recuerda seguir las instrucciones para las entregas de prácticas indicadas en [Instrucciones entregas](https://github.com/Tokio-School/Machine-Learning/blob/main/Instrucciones%20entregas.md)."
   ]
  },
  {
   "cell_type": "code",
   "execution_count": 1,
   "id": "5ea635e5-42ec-4c2c-87cc-005f88c517cc",
   "metadata": {},
   "outputs": [],
   "source": [
    "import numpy as np"
   ]
  },
  {
   "cell_type": "markdown",
   "id": "4842b324-770d-4c7d-9c56-d5288d9532ee",
   "metadata": {},
   "source": [
    "## Tarea 1: Implementar la función de coste para regresión lineal multivariable no vectorizada\n",
    "\n",
    "En esta tarea, debes implementar la función de coste para regresión lineal multivariable en Python. La función de coste debe seguir la función incluida en las diapositvas y en el manual del curso.\n",
    "\n",
    "Para ello, primero rellena el código de la siguiente celda para implementar la función de coste no vectorizada.\n",
    "\n",
    "Las diferencias entre una implementación vectorizada y no vectorizada son las siguientes:\n",
    "- La vectorizada utiliza operaciones de álgebra lineal, de operaciones entre vectores/matrices.\n",
    "- La no vectorizada se implementa con bucles de control for en Python, iterando entre las secuencias/listas de elementos uno a uno.\n",
    "- La vectorizada utiliza Numpy, sus arrays ndarray y operaciones como np.matmul().\n",
    "- La no vectorizada es menos eficiente, ya que no utiliza los métodos numéricos de Numpy sobre operaciones de C++.\n",
    "- Sin embargo, la no vectorizada es bastante más sencilla de comprender en un primer momento, al ser Python puro, sin depender de otras funciones y dimensiones de vectores.\n",
    "\n",
    "Recuerda la ecuación:\n",
    "\n",
    "$$Y = h_\\Theta(X) = X \\times \\Theta^T$$\n",
    "\n",
    "$$J_\\theta = \\frac{1}{2m} \\sum_{i = 0}^{m} (h_\\theta(x^i) - y^i)^2$$\n",
    "\n",
    "Para implementarla, sigue estos pasos:\n",
    "1. Tómate un tiempo para revisar la ecuación y asegúrate que comprendes todas las operaciones matemáticas reflejadas en ella\n",
    "1. Vuelve a ejercicios anteriores o revisa las diapositivas y anota en una hoja de papel (o celda auxiliar) las dimensiones de cada vector o matriz de la ecuación\n",
    "1. Anota en dicho papel o celda auxiliar las operaciones de álgebra lineal paso a paso\n",
    "    1. Comienza por sustituir $h_{\\theta}$ en la 2ª ecuación por su valor de la 1ª\n",
    "    1. La primera operación es hallar la $h_{\\theta}$ o Y predicha para cada fila de X (multiplicándola por $\\Theta$)\n",
    "    1. La 2ª, restarle el valor de Y para dicho ejemplo/fila de X, hayando su residuo\n",
    "    1. Luego elevar al cuadrado el resultado\n",
    "    1. A continuación, sumar todos los cuadrados de los residuos para todos los ejemplos/filas de X\n",
    "    1. Por último, dividirlos por 2 * m\n",
    "1. Anota al lado de cada paso las dimensiones que debería tener su resultado. Recuerda que el resultado final de la función de coste es un escalar o número\n",
    "1. Por último, piensa cómo iterar con bucles for por cada valor de X, $\\Theta$ e Y para implementar la función de coste:\n",
    "    1. Implementa la fórmula usando únicamente bucles for y la función sum() de la librería estándar de Python, sin usar métodos ni operadores de Numpy\n",
    "    1. Itera por todas las filas o ejemplos de X (m filas)\n",
    "    1. Dentro de dicho bucle, itera por las características o valores de X y $\\Theta$ para calcular la Y predicha para dicho ejemplo\n",
    "    1. Una vez hallados todos los residuos, halla el coste total\n",
    "\n",
    "*Notas:*\n",
    "- Los pasos mencionados son sólo una guía, una ayuda. En cada ejercicio, implementa tu código a tu manera, con el planteamiento que prefieras, utilizando el esquema de código de la celda o no\n",
    "- No te preocupes demasiado por ahora por saber si funciona correctamente o no, puesto que en la siguiente tarea la comprobaremos. Si hubiera algún error, puedes volver a esta celda para corregir tu código."
   ]
  },
  {
   "cell_type": "code",
   "execution_count": null,
   "id": "ce9d0283-b875-438b-87ee-1ad05f888057",
   "metadata": {},
   "outputs": [],
   "source": [
    "# TODO: Implementa la función de coste no vectorizada siguiendo la siguiente plantilla\n",
    "\n",
    "def cost_function_non_vectorized(x, y, theta):\n",
    "    \"\"\" Computa la función de coste para el dataset y coeficientes considerados.\n",
    "    \n",
    "    Argumentos posicionales:\n",
    "    x -- array 2D de Numpy con los valores de las variables independientes de los ejemplos, de tamaño m x n\n",
    "    y -- array 1D de Numpy con la variable dependiente/objetivo, de tamaño m x 1\n",
    "    theta -- array 1D de Numpy con los pesos de los coeficientes del modelo, de tamaño 1 x n (vector fila)\n",
    "    \n",
    "    Devuelve:\n",
    "    j -- float con el coste para dicho array theta\n",
    "    \"\"\"\n",
    "    m = [...]\n",
    "    \n",
    "    # Recuerda comprobar las dimensiones de la multiplicación matricial para hacerla correctamente\n",
    "    j = [...]\n",
    "    \n",
    "    return j"
   ]
  },
  {
   "cell_type": "markdown",
   "id": "7343d92e-593c-4d08-b53c-fd87a8ea63be",
   "metadata": {},
   "source": [
    "## Tarea 2: Comprueba tu implementación\n",
    "\n",
    "Para comprobar tu implementación, rescata tu código del notebook anterior acerca de datasets sintéticos para regresión lineal multivariable y utilízalos para generar un dataset en la siguiente celda:"
   ]
  },
  {
   "cell_type": "code",
   "execution_count": null,
   "id": "121c20ef-6db9-4483-a3bc-8d7df70b5c39",
   "metadata": {},
   "outputs": [],
   "source": [
    "# TODO: Genera un dataset sintético, con término de error, de la forma que escojas, con Numpy o Scikit-learn\n",
    "\n",
    "m = 0\n",
    "n = 0\n",
    "e = 0.\n",
    "\n",
    "X = [...]\n",
    "\n",
    "Theta_verd = [...]\n",
    "\n",
    "Y = [...]\n",
    "\n",
    "# Comprueba los valores y dimensiones (forma o \"shape\") de los vectores\n",
    "print('Theta real a estimar:')\n",
    "print()\n",
    "\n",
    "print('Primeras 10 filas y 5 columnas de X e Y:')\n",
    "print()\n",
    "print()\n",
    "\n",
    "print('Dimensiones de X e Y:')\n",
    "print('shape', 'shape')"
   ]
  },
  {
   "cell_type": "markdown",
   "id": "0657b0ba-9003-4b37-b090-501fdda7e751",
   "metadata": {},
   "source": [
    "Ahora vamos a comprobar tu implementación de la función de coste en las siguientes celdas.\n",
    "\n",
    "Recuerda que la función de coste representa el \"error\" de tu modelo, el sumatorio de los cuadrados de los resíduos del mismo.\n",
    "\n",
    "Por ello, la función de coste tiene las siguientes características:\n",
    "- No tiene unidades, por lo que no podemos saber si su valor es \"demasiado alto o bajo\", simplemente comparar los costes de dos modelos (conjuntos de $\\Theta$) diferentes\n",
    "- Tiene un valor de 0 para la $\\Theta$ teóricamente óptima\n",
    "- Sus valores siempre son positivos\n",
    "- Tiene un valor más alto cuanto más se aleja la $\\Theta$ utilizada de la $\\Theta$ óptima\n",
    "- Su valor crece con el cuadrado de los residuos del modelo\n",
    "\n",
    "Por lo tanto, utiliza la siguiente celda para comprobar la implementación de tu función con diferentes $\\Theta$, corrigiendo tu función si es necesario. Comprueba que:\n",
    "1. Si la $\\Theta$ es igual que la $\\Theta_{verd}$ (obtenida al definir el dataset), el coste es 0\n",
    "1. Si la $\\Theta$ es distinta que la $\\Theta_{verd}$, el coste es distinto a 0 y positivo\n",
    "1. Cuanto más alejada está la $\\Theta$ de la $\\Theta_{verd}$, mayor es el coste (compruébalo con 3 $\\Theta$ diferentes a $\\Theta_{verd}$, en orden de menor a mayor)\n",
    "\n",
    "*Nota:* Para ello, utiliza la misma celda, modificando sus variables varias veces."
   ]
  },
  {
   "cell_type": "code",
   "execution_count": null,
   "id": "5b0c3496-d5d4-4370-9d16-8f6dce079397",
   "metadata": {},
   "outputs": [],
   "source": [
    "#TODO: Comprueba la implementación de tu función de coste\n",
    "\n",
    "theta = Theta_verd    # Modifica y comprueba varios valores de theta\n",
    "\n",
    "j = cost_function_non_vectorized(X, Y, theta)\n",
    "\n",
    "print('Coste del modelo:')\n",
    "print(j)\n",
    "print('Theta comprobado y Theta real:')\n",
    "print(theta)\n",
    "print(Theta_verd)"
   ]
  },
  {
   "cell_type": "markdown",
   "id": "e49eab48-7d31-427f-98f3-116b409e819b",
   "metadata": {},
   "source": [
    "## Tarea 3: Vectorizar la función de coste\n",
    "\n",
    "Ahora vamos a implementar una nueva función de coste, pero en esta ocasión vectorizada.\n",
    "\n",
    "Una función vectorizada es aquella que se realiza en base a operaciones de álgebra lineal, en lugar de p. ej. los bucles for utilizados en la primera función, y por tanto su computación es mucho más rápida y eficiente, más aún si se realiza en GPUs o procesadores especializados.\n",
    "\n",
    "Implementa de nuevo la función de coste, pero esta vez utilizando exclusivamente las operaciones de álgebra lineal para operar con vectores/arrays de Numpy.\n",
    "\n",
    "Consejos:\n",
    "- Comprueba las dimensiones del resultado de cada operación o paso intermedio una a una si lo necesitas\n",
    "- Intenta implementar la ecuación con el mínimo número de operaciones posibles, sin bucles ni iteraciones\n",
    "- Utiliza funciones como [numpy.matmul()](https://numpy.org/doc/stable/reference/generated/numpy.matmul.html) o numpy.sum().\n",
    "- Utiliza ndarray.reshape() para *theta* si te da algún problema en la multiplicación matricial, para conseguir un vector ndarray 2D (n+1, 1) en lugar de un 1D (n+1,)\n",
    "- Asegúrate de devolver un valor *j* float, no un ndarray 2D con 1 solo elemento. Extráelo con sus índices si es necesario."
   ]
  },
  {
   "cell_type": "code",
   "execution_count": null,
   "id": "b1e17dd3-4baa-4c25-aec8-c544143b8e5f",
   "metadata": {},
   "outputs": [],
   "source": [
    "# TODO: Implementa la función de coste vectorizada siguiendo la siguiente plantilla\n",
    "\n",
    "def cost_function(x, y, theta):\n",
    "    \"\"\" Computa la función de coste para el dataset y coeficientes considerados.\n",
    "    \n",
    "    Argumentos posicionales:\n",
    "    x -- array 2D de Numpy con los valores de las variables independientes de los ejemplos, de tamaño m x n\n",
    "    y -- array 1D de Numpy con la variable dependiente/objetivo, de tamaño m x 1\n",
    "    theta -- array 1D de Numpy con los pesos de los coeficientes del modelo, de tamaño 1 x n (vector fila)\n",
    "    \n",
    "    Devuelve:\n",
    "    j -- float con el coste para dicho array theta\n",
    "    \"\"\"\n",
    "    m = [...]\n",
    "    \n",
    "    # Recuerda comprobar las dimensiones de la multiplicación matricial para hacerla correctamente\n",
    "    j = [...]\n",
    "    \n",
    "    return j"
   ]
  },
  {
   "cell_type": "markdown",
   "id": "0cb236d2-fc70-4696-b31e-6d5aa54ec4f0",
   "metadata": {},
   "source": [
    "Por último, vuelve a la tarea 2 y repite los mismos pasos para comprobar ahora tu función vectorizada."
   ]
  }
 ],
 "metadata": {
  "environment": {
   "kernel": "python3",
   "name": "common-cpu.m87",
   "type": "gcloud",
   "uri": "gcr.io/deeplearning-platform-release/base-cpu:m87"
  },
  "kernelspec": {
   "display_name": "Python 3",
   "language": "python",
   "name": "python3"
  },
  "language_info": {
   "codemirror_mode": {
    "name": "ipython",
    "version": 3
   },
   "file_extension": ".py",
   "mimetype": "text/x-python",
   "name": "python",
   "nbconvert_exporter": "python",
   "pygments_lexer": "ipython3",
   "version": "3.7.12"
  }
 },
 "nbformat": 4,
 "nbformat_minor": 5
}
