{
 "cells": [
  {
   "cell_type": "markdown",
   "id": "afa5ce9e-a97f-4c44-99b9-a7b8adc6ef2d",
   "metadata": {},
   "source": [
    "# Multivariate Linear Regression: Cost function\n",
    "M2U2 - Exercise 1\n",
    "\n",
    "## What are we going to do?\n",
    "- Implement the cost function for multivariate linear regression\n",
    "\n",
    "Remember to follow the instructions for the submission of assignments indicated in [Submission Instructions](https://github.com/Tokio-School/Machine-Learning-EN/blob/main/Submission_instructions.md)."
   ]
  },
  {
   "cell_type": "code",
   "execution_count": 1,
   "id": "5ea635e5-42ec-4c2c-87cc-005f88c517cc",
   "metadata": {},
   "outputs": [],
   "source": [
    "import numpy as np"
   ]
  },
  {
   "cell_type": "markdown",
   "id": "4842b324-770d-4c7d-9c56-d5288d9532ee",
   "metadata": {},
   "source": [
    "## Task 1: Implement the cost function for multivariate linear regression\n",
    "\n",
    "In this task, you must implement the cost function for multivariate linear regression in Python using NumPy. The cost function must follow the function included in the slides and in the course manual.\n",
    "\n",
    "To do this, first fill in the code in the following cell to implement the cost function.\n",
    "\n",
    "The differences between a vectorised and a non-vectorised implementation are as follows:\n",
    "- Vectorised uses linear algebra operations, from operations between vectors/matrices.\n",
    "- Non-vectorised is implemented with Python for control loops, iterating between sequences/lists of elements one at a time.\n",
    "- Vectorised uses Numpy, its ndarray arrays and operations such as np.matmul().\n",
    "- Non-vectorised is less efficient, as it does not use Numpy's numerical methods over C++ operations.\n",
    "- However, non-vectorised is much easier to understand at first, being pure Python, without relying on other functions and vector dimensions.\n",
    "\n",
    "Recall the equation:\n",
    "\n",
    "$$Y = h_\\Theta(X) = X \\times \\Theta^T$$\n",
    "\n",
    "$$J_\\theta = \\frac{1}{2m} \\sum_{i = 0}^{m} (h_\\theta(x^i) - y^i)^2$$\n",
    "\n",
    "To implement it, follow these steps:\n",
    "1. Take some time to review the equation and make sure you understand all the mathematical operations reflected in it\n",
    "1. Go back to previous exercises or review the slides and write down on a sheet of paper (or auxiliary cell) the dimensions of each vector or matrix in the equation\n",
    "1. Write down the linear algebra operations step by step on this paper or in an auxiliary cell\n",
    "    1. Start by substituting $h_{\\theta}$ in the 2nd equation for its value from the 1st equation\n",
    "    1. The first operation is to find the $h_{\\theta}$ or Y predicted for each row of X (multiplying it by $\\Theta$)\n",
    "    1. 2nd, subtract the value of Y for this example/row of X, finding its residual\n",
    "    1. Then square the result\n",
    "    1. Then, sum all the squares of the residuals for all examples/rows of X\n",
    "    1. Finally, divide them by 2 * m\n",
    "1. Write down next to each step the dimensions that your result should have. Remember that the final result of the cost function is a scalar or number\n",
    "1. Finally, think about how to iterate with for loops for each value of X, Θ, and Y, to implement the cost function:\n",
    "    1. Implement the formula using only for loops and the sum() function from the standard Python library, without using Numpy methods or operators.\n",
    "    1. Iterate over all the rows or examples of X (m rows)\n",
    "    1. Within that loop, iterate over the features or values of X and $\\Theta$ to calculate the predicted Y for that example\n",
    "    1. Once all the residuals have been found, find the total cost\n",
    "\n",
    "*Notes:*\n",
    "- The steps mentioned above are only a guide, an assist. In each exercise, implement your code in your own way, with the approach you prefer, using the cell code scheme or not\n",
    "- Don't worry too much for now about whether it is working correctly or not, as we will check it in the next task. If there are any errors, you can return to this cell to correct your code."
   ]
  },
  {
   "cell_type": "code",
   "execution_count": null,
   "id": "ce9d0283-b875-438b-87ee-1ad05f888057",
   "metadata": {},
   "outputs": [],
   "source": [
    "# TODO: Implementa la función de coste no vectorizada siguiendo la siguiente plantilla\n",
    "\n",
    "def cost_function_non_vectorized(x, y, theta):\n",
    "    \"\"\" Computa la función de coste para el dataset y coeficientes considerados.\n",
    "    \n",
    "    Argumentos posicionales:\n",
    "    x -- array 2D de Numpy con los valores de las variables independientes de los ejemplos, de tamaño m x n\n",
    "    y -- array 1D de Numpy con la variable dependiente/objetivo, de tamaño m x 1\n",
    "    theta -- array 1D de Numpy con los pesos de los coeficientes del modelo, de tamaño 1 x n (vector fila)\n",
    "    \n",
    "    Devuelve:\n",
    "    j -- float con el coste para dicho array theta\n",
    "    \"\"\"\n",
    "    m = [...]\n",
    "    \n",
    "    # Recuerda comprobar las dimensiones de la multiplicación matricial para hacerla correctamente\n",
    "    j = [...]\n",
    "    \n",
    "    return j"
   ]
  },
  {
   "cell_type": "markdown",
   "id": "7343d92e-593c-4d08-b53c-fd87a8ea63be",
   "metadata": {},
   "source": [
    "## Tarea 2: Comprueba tu implementación\n",
    "\n",
    "Para comprobar tu implementación, rescata tu código del notebook anterior acerca de datasets sintéticos para regresión lineal multivariable y utilízalos para generar un dataset en la siguiente celda:"
   ]
  },
  {
   "cell_type": "code",
   "execution_count": null,
   "id": "121c20ef-6db9-4483-a3bc-8d7df70b5c39",
   "metadata": {},
   "outputs": [],
   "source": [
    "# TODO: Genera un dataset sintético, con término de error, de la forma que escojas, con Numpy o Scikit-learn\n",
    "\n",
    "m = 0\n",
    "n = 0\n",
    "e = 0.\n",
    "\n",
    "X = [...]\n",
    "\n",
    "Theta_verd = [...]\n",
    "\n",
    "Y = [...]\n",
    "\n",
    "# Comprueba los valores y dimensiones (forma o \"shape\") de los vectores\n",
    "print('Theta real a estimar:')\n",
    "print()\n",
    "\n",
    "print('Primeras 10 filas y 5 columnas de X e Y:')\n",
    "print()\n",
    "print()\n",
    "\n",
    "print('Dimensiones de X e Y:')\n",
    "print('shape', 'shape')"
   ]
  },
  {
   "cell_type": "markdown",
   "id": "0657b0ba-9003-4b37-b090-501fdda7e751",
   "metadata": {},
   "source": [
    "Ahora vamos a comprobar tu implementación de la función de coste en las siguientes celdas.\n",
    "\n",
    "Recuerda que la función de coste representa el \"error\" de tu modelo, el sumatorio de los cuadrados de los resíduos del mismo.\n",
    "\n",
    "Por ello, la función de coste tiene las siguientes características:\n",
    "- No tiene unidades, por lo que no podemos saber si su valor es \"demasiado alto o bajo\", simplemente comparar los costes de dos modelos (conjuntos de $\\Theta$) diferentes\n",
    "- Tiene un valor de 0 para la $\\Theta$ teóricamente óptima\n",
    "- Sus valores siempre son positivos\n",
    "- Tiene un valor más alto cuanto más se aleja la $\\Theta$ utilizada de la $\\Theta$ óptima\n",
    "- Su valor crece con el cuadrado de los residuos del modelo\n",
    "\n",
    "Por lo tanto, utiliza la siguiente celda para comprobar la implementación de tu función con diferentes $\\Theta$, corrigiendo tu función si es necesario. Comprueba que:\n",
    "1. Si la $\\Theta$ es igual que la $\\Theta_{verd}$ (obtenida al definir el dataset), el coste es 0\n",
    "1. Si la $\\Theta$ es distinta que la $\\Theta_{verd}$, el coste es distinto a 0 y positivo\n",
    "1. Cuanto más alejada está la $\\Theta$ de la $\\Theta_{verd}$, mayor es el coste (compruébalo con 3 $\\Theta$ diferentes a $\\Theta_{verd}$, en orden de menor a mayor)\n",
    "\n",
    "*Nota:* Para ello, utiliza la misma celda, modificando sus variables varias veces."
   ]
  },
  {
   "cell_type": "code",
   "execution_count": null,
   "id": "5b0c3496-d5d4-4370-9d16-8f6dce079397",
   "metadata": {},
   "outputs": [],
   "source": [
    "#TODO: Comprueba la implementación de tu función de coste\n",
    "\n",
    "theta = Theta_verd    # Modifica y comprueba varios valores de theta\n",
    "\n",
    "j = cost_function_non_vectorized(X, Y, theta)\n",
    "\n",
    "print('Coste del modelo:')\n",
    "print(j)\n",
    "print('Theta comprobado y Theta real:')\n",
    "print(theta)\n",
    "print(Theta_verd)"
   ]
  },
  {
   "cell_type": "markdown",
   "id": "e49eab48-7d31-427f-98f3-116b409e819b",
   "metadata": {},
   "source": [
    "## Tarea 3: Vectorizar la función de coste\n",
    "\n",
    "Ahora vamos a implementar una nueva función de coste, pero en esta ocasión vectorizada.\n",
    "\n",
    "Una función vectorizada es aquella que se realiza en base a operaciones de álgebra lineal, en lugar de p. ej. los bucles for utilizados en la primera función, y por tanto su computación es mucho más rápida y eficiente, más aún si se realiza en GPUs o procesadores especializados.\n",
    "\n",
    "Implementa de nuevo la función de coste, pero esta vez utilizando exclusivamente las operaciones de álgebra lineal para operar con vectores/arrays de Numpy.\n",
    "\n",
    "Consejos:\n",
    "- Comprueba las dimensiones del resultado de cada operación o paso intermedio una a una si lo necesitas\n",
    "- Intenta implementar la ecuación con el mínimo número de operaciones posibles, sin bucles ni iteraciones\n",
    "- Utiliza funciones como [numpy.matmul()](https://numpy.org/doc/stable/reference/generated/numpy.matmul.html) o numpy.sum().\n",
    "- Utiliza ndarray.reshape() para *theta* si te da algún problema en la multiplicación matricial, para conseguir un vector ndarray 2D (n+1, 1) en lugar de un 1D (n+1,)\n",
    "- Asegúrate de devolver un valor *j* float, no un ndarray 2D con 1 solo elemento. Extráelo con sus índices si es necesario."
   ]
  },
  {
   "cell_type": "code",
   "execution_count": null,
   "id": "b1e17dd3-4baa-4c25-aec8-c544143b8e5f",
   "metadata": {},
   "outputs": [],
   "source": [
    "# TODO: Implementa la función de coste vectorizada siguiendo la siguiente plantilla\n",
    "\n",
    "def cost_function(x, y, theta):\n",
    "    \"\"\" Computa la función de coste para el dataset y coeficientes considerados.\n",
    "    \n",
    "    Argumentos posicionales:\n",
    "    x -- array 2D de Numpy con los valores de las variables independientes de los ejemplos, de tamaño m x n\n",
    "    y -- array 1D de Numpy con la variable dependiente/objetivo, de tamaño m x 1\n",
    "    theta -- array 1D de Numpy con los pesos de los coeficientes del modelo, de tamaño 1 x n (vector fila)\n",
    "    \n",
    "    Devuelve:\n",
    "    j -- float con el coste para dicho array theta\n",
    "    \"\"\"\n",
    "    m = [...]\n",
    "    \n",
    "    # Recuerda comprobar las dimensiones de la multiplicación matricial para hacerla correctamente\n",
    "    j = [...]\n",
    "    \n",
    "    return j"
   ]
  },
  {
   "cell_type": "markdown",
   "id": "0cb236d2-fc70-4696-b31e-6d5aa54ec4f0",
   "metadata": {},
   "source": [
    "Por último, vuelve a la tarea 2 y repite los mismos pasos para comprobar ahora tu función vectorizada."
   ]
  }
 ],
 "metadata": {
  "environment": {
   "kernel": "python3",
   "name": "common-cpu.m87",
   "type": "gcloud",
   "uri": "gcr.io/deeplearning-platform-release/base-cpu:m87"
  },
  "kernelspec": {
   "display_name": "Python 3",
   "language": "python",
   "name": "python3"
  },
  "language_info": {
   "codemirror_mode": {
    "name": "ipython",
    "version": 3
   },
   "file_extension": ".py",
   "mimetype": "text/x-python",
   "name": "python",
   "nbconvert_exporter": "python",
   "pygments_lexer": "ipython3",
   "version": "3.7.12"
  }
 },
 "nbformat": 4,
 "nbformat_minor": 5
}
