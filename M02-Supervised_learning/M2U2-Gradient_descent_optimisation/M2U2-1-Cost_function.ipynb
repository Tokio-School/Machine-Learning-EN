{
 "cells": [
  {
   "cell_type": "markdown",
   "id": "afa5ce9e-a97f-4c44-99b9-a7b8adc6ef2d",
   "metadata": {},
   "source": [
    "# Multivariate Linear Regression: Cost function\n",
    "M2U2 - Exercise 1\n",
    "\n",
    "## What are we going to do?\n",
    "- Implement the cost function for multivariate linear regression\n",
    "\n",
    "Remember to follow the instructions for the submission of assignments indicated in [Submission Instructions](https://github.com/Tokio-School/Machine-Learning-EN/blob/main/Submission_instructions.md)."
   ]
  },
  {
   "cell_type": "code",
   "execution_count": 1,
   "id": "5ea635e5-42ec-4c2c-87cc-005f88c517cc",
   "metadata": {},
   "outputs": [],
   "source": [
    "import numpy as np"
   ]
  },
  {
   "cell_type": "markdown",
   "id": "4842b324-770d-4c7d-9c56-d5288d9532ee",
   "metadata": {},
   "source": [
    "## Task 1: Implement the cost function for multivariate linear regression\n",
    "\n",
    "In this task, you must implement the cost function for multivariate linear regression in Python using NumPy. The cost function must follow the function included in the slides and in the course manual.\n",
    "\n",
    "To do this, first fill in the code in the following cell to implement the cost function.\n",
    "\n",
    "The differences between a vectorised and a non-vectorised implementation are as follows:\n",
    "- Vectorised uses linear algebra operations, from operations between vectors/matrices.\n",
    "- Non-vectorised is implemented with Python for control loops, iterating between sequences/lists of elements one at a time.\n",
    "- Vectorised uses Numpy, its ndarray arrays and operations such as np.matmul().\n",
    "- Non-vectorised is less efficient, as it does not use Numpy's numerical methods over C++ operations.\n",
    "- However, non-vectorised is much easier to understand at first, being pure Python, without relying on other functions and vector dimensions.\n",
    "\n",
    "Recall the equation:\n",
    "\n",
    "$$Y = h_\\Theta(X) = X \\times \\Theta^T$$\n",
    "\n",
    "$$J_\\theta = \\frac{1}{2m} \\sum_{i = 0}^{m} (h_\\theta(x^i) - y^i)^2$$\n",
    "\n",
    "To implement it, follow these steps:\n",
    "1. Take some time to review the equation and make sure you understand all the mathematical operations reflected in it\n",
    "1. Go back to previous exercises or review the slides and write down on a sheet of paper (or auxiliary cell) the dimensions of each vector or matrix in the equation\n",
    "1. Write down the linear algebra operations step by step on this paper or in an auxiliary cell\n",
    "    1. Start by substituting $h_{\\theta}$ in the 2nd equation for its value from the 1st equation\n",
    "    1. The first operation is to find the $h_{\\theta}$ or Y predicted for each row of X (multiplying it by $\\Theta$)\n",
    "    1. 2nd, subtract the value of Y for this example/row of X, finding its residual\n",
    "    1. Then square the result\n",
    "    1. Then, sum all the squares of the residuals for all examples/rows of X\n",
    "    1. Finally, divide them by 2 * m\n",
    "1. Write down next to each step the dimensions that your result should have. Remember that the final result of the cost function is a scalar or number\n",
    "1. Finally, think about how to iterate with for loops for each value of X, Θ, and Y, to implement the cost function:\n",
    "    1. Implement the formula using only for loops and the sum() function from the standard Python library, without using Numpy methods or operators.\n",
    "    1. Iterate over all the rows or examples of X (m rows)\n",
    "    1. Within that loop, iterate over the features or values of X and $\\Theta$ to calculate the predicted Y for that example\n",
    "    1. Once all the residuals have been found, find the total cost\n",
    "\n",
    "*Notes:*\n",
    "- The steps mentioned above are only a guide, an assist. In each exercise, implement your code in your own way, with the approach you prefer, using the cell code scheme or not\n",
    "- Don't worry too much for now about whether it is working correctly or not, as we will check it in the next task. If there are any errors, you can return to this cell to correct your code."
   ]
  },
  {
   "cell_type": "code",
   "execution_count": null,
   "id": "ce9d0283-b875-438b-87ee-1ad05f888057",
   "metadata": {},
   "outputs": [],
   "source": [
    "# TODO: Implement the non-vectorised cost function following the template below\n",
    "\n",
    "def cost_function_non_vectorized(x, y, theta):\n",
    "    \"\"\" Computes the cost function for the considered dataset and coefficients.\n",
    "    \n",
    "    Positional arguments:\n",
    "    x -- Numpy 2D array with the values of the independent variables from the examples, of size m x n\n",
    "    y -- Numpy 1D array with the dependent/target variable, of size m x 1\n",
    "    theta -- Numpy 1D array with the weights of the model coefficients, of size 1 x n (row vector)\n",
    "    \n",
    "    Return:\n",
    "    j -- float with the cost for this theta array\n",
    "    \"\"\"\n",
    "    m = [...]\n",
    "    \n",
    "    # Remember to check the dimensions of the matrix multiplication to do it correctly\n",
    "    j = [...]\n",
    "    \n",
    "    return j"
   ]
  },
  {
   "cell_type": "markdown",
   "id": "7343d92e-593c-4d08-b53c-fd87a8ea63be",
   "metadata": {},
   "source": [
    "## Task 2: Check your implementation\n",
    "\n",
    "To test your implementation, retrieve your code from the previous notebook about synthetic datasets for multivariate linear regression and use it to generate a dataset in the following cell:"
   ]
  },
  {
   "cell_type": "code",
   "execution_count": null,
   "id": "121c20ef-6db9-4483-a3bc-8d7df70b5c39",
   "metadata": {},
   "outputs": [],
   "source": [
    "# TODO: Generate a synthetic dataset, with error term, in the form of your choice, with NumPy or Scikit-learn\n",
    "\n",
    "m = 0\n",
    "n = 0\n",
    "e = 0.\n",
    "\n",
    "X = [...]\n",
    "\n",
    "Theta_true = [...]\n",
    "\n",
    "Y = [...]\n",
    "\n",
    "# Check the values and dimensions (form or \"shape\") of the vectors\n",
    "print('Actual theta to be estimated:')\n",
    "print()\n",
    "\n",
    "print('First 10 rows and 5 columns of X and Y:')\n",
    "print()\n",
    "print()\n",
    "\n",
    "print('Dimensions of X and Y:')\n",
    "print('shape', 'shape')"
   ]
  },
  {
   "cell_type": "markdown",
   "id": "0657b0ba-9003-4b37-b090-501fdda7e751",
   "metadata": {},
   "source": [
    "Now let's check your implementation of the cost function in the following cells.\n",
    "\n",
    "Remember that the cost function represents the \"error\" of your model, the sum of the squares of the residuals of your model.\n",
    "\n",
    "Therefore, the cost function has the following features:\n",
    "- It has no units, so we cannot know if its value is \"too high or too low\", just compare the costs of two different models (sets of $\\Theta$)\n",
    "- It has a value of 0 for the theoretically optimal $\\Theta$\n",
    "- Its values are always positive\n",
    "- It has a higher value the further away the $\\Theta$ used is from the optimal $\\Theta$\n",
    "- Its value increases with the square of the residuals of the model\n",
    "\n",
    "Therefore, use the next cell to check the implementation of your function with different $\\Theta$, correcting your function if necessary. Check that:\n",
    "1. If $\\Theta$ is equal to $\\Theta_{true}$ (obtained when defining the dataset), the cost is 0\n",
    "1. If $\\Theta$ is different than $\\Theta_{true}$, the cost is non-0 and positive\n",
    "1. The further away $\\Theta$ is from the $\\Theta_{true}$, the higher the cost (check this with 3 different $\\Theta$ other than $\\Theta_{true}$, in order from lowest to highest)\n",
    "\n",
    "*Note:* For this, use the same cell, modifying its variables several times."
   ]
  },
  {
   "cell_type": "code",
   "execution_count": null,
   "id": "5b0c3496-d5d4-4370-9d16-8f6dce079397",
   "metadata": {},
   "outputs": [],
   "source": [
    "#TODO: Check the implementation of your cost function\n",
    "\n",
    "theta = Theta_true    # Modifiy and test several values of theta\n",
    "\n",
    "j = cost_function_non_vectorized(X, Y, theta)\n",
    "\n",
    "print('Cost of the model:')\n",
    "print(j)\n",
    "print('Theta checked and actual theta:')\n",
    "print(theta)\n",
    "print(Theta_true)"
   ]
  },
  {
   "cell_type": "markdown",
   "id": "e49eab48-7d31-427f-98f3-116b409e819b",
   "metadata": {},
   "source": [
    "## Task 3: Vectorise the cost function\n",
    "\n",
    "Now we are going to implement a new cost function, but this time vectorised.\n",
    "\n",
    "A vectorised function is one that is implemented based on linear algebraic operations, instead of e.g., the for loops used in the first function, and therefore its computation is much faster and more efficient, especially if it is run on GPUs or specialised processors.\n",
    "\n",
    "It implements the cost function again, but this time using exclusively linear algebra operations to operate with NumPy vectors/arrays.\n",
    "\n",
    "Tips:\n",
    "- Check the dimensions of the result of each operation or intermediate step, one by one if necessary\n",
    "- Try to implement the equation with as few operations as possible, without loops or iterations\n",
    "- Use functions like [numpy.matmul()](https://numpy.org/doc/stable/reference/generated/numpy.matmul.html) or numpy.sum().\n",
    "- Use ndarray.reshape() for *theta* if you have any problems with matrix multiplying, to get a 2D (n+1, 1) ndarray vector instead of a 1D (n+1,).\n",
    "- Make sure you return a float *j* value, not a 2D ndarray with 1 element. Extract it with its indices if necessary."
   ]
  },
  {
   "cell_type": "code",
   "execution_count": null,
   "id": "b1e17dd3-4baa-4c25-aec8-c544143b8e5f",
   "metadata": {},
   "outputs": [],
   "source": [
    "# TODO: Implement the non-vectorised cost function following the template below\n",
    "\n",
    "def cost_function(x, y, theta):\n",
    "    \"\"\" Computes the cost function for the considered dataset and coefficients.\n",
    "    \n",
    "    Positional arguments:\n",
    "    x -- Numpy 2D array with the values of the independent variables from the examples, of size m x n\n",
    "    y -- Numpy 1D array with the dependent/target variable, of size m x 1\n",
    "    theta -- Numpy 1D array with the weights of the model coefficients, of size 1 x n (row vector)\n",
    "    \n",
    "    Return:\n",
    "    j -- float with the cost for this theta array\n",
    "    \"\"\"\n",
    "    m = [...]\n",
    "    \n",
    "    # Remember to check the dimensions of the matrix multiplication to do it correctly\n",
    "    j = [...]\n",
    "    \n",
    "    return j"
   ]
  },
  {
   "cell_type": "markdown",
   "id": "0cb236d2-fc70-4696-b31e-6d5aa54ec4f0",
   "metadata": {},
   "source": [
    "Finally, go back to task 2 and repeat the same steps to now check your vectorized function."
   ]
  }
 ],
 "metadata": {
  "environment": {
   "kernel": "python3",
   "name": "common-cpu.m87",
   "type": "gcloud",
   "uri": "gcr.io/deeplearning-platform-release/base-cpu:m87"
  },
  "kernelspec": {
   "display_name": "Python 3",
   "language": "python",
   "name": "python3"
  },
  "language_info": {
   "codemirror_mode": {
    "name": "ipython",
    "version": 3
   },
   "file_extension": ".py",
   "mimetype": "text/x-python",
   "name": "python",
   "nbconvert_exporter": "python",
   "pygments_lexer": "ipython3",
   "version": "3.7.12"
  }
 },
 "nbformat": 4,
 "nbformat_minor": 5
}
