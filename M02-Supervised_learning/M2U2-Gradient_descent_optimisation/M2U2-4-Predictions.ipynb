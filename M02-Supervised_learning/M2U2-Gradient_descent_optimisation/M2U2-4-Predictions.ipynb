{
 "cells": [
  {
   "cell_type": "markdown",
   "id": "3c66bed4-806b-4376-9650-d5ee945a70d1",
   "metadata": {},
   "source": [
    "# Linear Regression: Predictions\n",
    "M2U2 - Exercise 4\n",
    "\n",
    "## What are we going to do?\n",
    "- Making predictions with a model\n",
    "\n",
    "Remember to follow the instructions for the submission of assignments indicated in [Submission Instructions](https://github.com/Tokio-School/Machine-Learning-EN/blob/main/Submission_instructions.md)."
   ]
  },
  {
   "cell_type": "markdown",
   "id": "bf263410-2b66-44fc-8b1b-bd58464aa1d4",
   "metadata": {},
   "source": [
    "## Task 1: Create a synthetic dataset\n",
    "\n",
    "Generate a synthetic dataset for this task In this case, we will not use the dataset to calculate a Θ, the coefficients of the model, but we will use $\\Theta$ to make predictions about new examples."
   ]
  },
  {
   "cell_type": "code",
   "execution_count": null,
   "id": "7fd1cec1-42c4-431a-a14f-627cd1ddd753",
   "metadata": {},
   "outputs": [],
   "source": [
    "# TODO: Generate a synthetic dataset, with no error term, in the form of your choice\n",
    "\n",
    "m = 0\n",
    "n = 0\n",
    "\n",
    "X = [...]\n",
    "Theta = [...]\n",
    "Y = [...]\n",
    "\n",
    "# Check the values and dimensions (form or \"shape\") of the vectors\n",
    "print('Theta to be estimated:')\n",
    "print()\n",
    "\n",
    "print('First 10 rows and 5 columns of X and Y:')\n",
    "print()\n",
    "print()\n",
    "\n",
    "print('Dimensions of X and Y:')\n",
    "print('shape', 'shape')"
   ]
  },
  {
   "cell_type": "markdown",
   "id": "f087776a-d154-44b1-b77c-d34daddcd633",
   "metadata": {},
   "source": [
    "## Task 2: Make predictions with the model\n",
    "\n",
    "The model consists only of the $\\Theta$ coefficients, we do not need X or Y to define the model.\n",
    "\n",
    "Once the optimal $\\Theta$ has been obtained, either by training the model or by generating the dataset directly as in this case, we will use the linear regression equation to make predictions:\n",
    "\n",
    "$Y_{pred} = X \\times \\Theta$"
   ]
  },
  {
   "cell_type": "code",
   "execution_count": null,
   "id": "2ca1fa74-480f-47e7-b773-9b5ce57ad6f4",
   "metadata": {},
   "outputs": [],
   "source": [
    "# TODO: Make predictions using the Theta coefficients\n",
    "\n",
    "def predict(x, theta):\n",
    "    \"\"\" Make predictions for new examples\n",
    "\n",
    "    Positional arguments:\n",
    "    x -- Numpy 2D array with the values of the independent variables from the examples, of size m x n\n",
    "    theta -- Numpy 1D array with the weights of the model coefficients, of size  1 x n (row vector)\n",
    "    \n",
    "    Return:\n",
    "    y_pred -- Numpy 1D array with the dependent/target variable, of size m x 1\n",
    "    \"\"\"\n",
    "    y_pred = [...]\n",
    "    \n",
    "    return y_pred"
   ]
  },
  {
   "cell_type": "markdown",
   "id": "257a648d-49eb-4904-89d6-839880646efe",
   "metadata": {},
   "source": [
    "To make predictions, check that you get a value which is very similar to the original Y:"
   ]
  },
  {
   "cell_type": "code",
   "execution_count": null,
   "id": "017436c0-97c3-4cc6-958a-1075fa8b3520",
   "metadata": {},
   "outputs": [],
   "source": [
    "# TODO: Check the difference between your predictions and the original Y, i.e., the residuals\n",
    "\n",
    "y_pred = predict(x, theta)\n",
    "\n",
    "# Calculate the difference in absolute value between Y_pred and the original Y\n",
    "residuals = [...]\n",
    "\n",
    "print(residuals)"
   ]
  },
  {
   "cell_type": "markdown",
   "id": "950804e3-b619-4c65-b340-07b9f4ced974",
   "metadata": {},
   "source": [
    "To create multiple subgraphs, do you dare to use Matplotlib's subplots function?\n",
    "\n",
    "https://matplotlib.org/stable/gallery/subplots_axes_and_figures/subplots_demo.html"
   ]
  },
  {
   "cell_type": "code",
   "execution_count": null,
   "id": "b792fe0a-e17b-47f6-b9ac-950d6b3d2eda",
   "metadata": {},
   "outputs": [],
   "source": [
    "# TODO: Graphically represent the predictions and the original Y\n",
    "\n",
    "plt.figure()\n",
    "\n",
    "# Represents a dot plot with original Y vs. X, and predicted Y vs. X, in different colours,\n",
    "# with labels for each colour\n",
    "# It also represents the residuals for each X as a line/bar graph\n",
    "\n",
    "plt.title('Predictions')\n",
    "plt.xlabel('X')\n",
    "plt.ylabel('Y real')\n",
    "\n",
    "plt.plot([...])\n",
    "\n",
    "plt.grid()\n",
    "plt.show()"
   ]
  },
  {
   "cell_type": "markdown",
   "id": "b257612e-4efd-4af5-a219-344291197f7c",
   "metadata": {},
   "source": [
    "In this simple way we can make predictions with a model.\n",
    "\n",
    "In the following labs we will see how to make predictions for models that we train ourselves.\n",
    "\n",
    "### Predictions about a dataset with error term\n",
    "\n",
    "On the other hand, these predictions fit well with the original Y values, as the dataset did not have any error or variance terms.\n",
    "\n",
    "*What if you go back to your synthetic dataset generation code and modify it to add an error term?\n",
    "In this case, how will the predictions behave, and will they match the original Y?*\n",
    "\n",
    "You can check this by modifying the original code cell, adding an error term to *Y*and rerunning the rest."
   ]
  }
 ],
 "metadata": {
  "environment": {
   "kernel": "python3",
   "name": "common-cpu.m94",
   "type": "gcloud",
   "uri": "gcr.io/deeplearning-platform-release/base-cpu:m94"
  },
  "kernelspec": {
   "display_name": "Python 3",
   "language": "python",
   "name": "python3"
  },
  "language_info": {
   "codemirror_mode": {
    "name": "ipython",
    "version": 3
   },
   "file_extension": ".py",
   "mimetype": "text/x-python",
   "name": "python",
   "nbconvert_exporter": "python",
   "pygments_lexer": "ipython3",
   "version": "3.7.12"
  }
 },
 "nbformat": 4,
 "nbformat_minor": 5
}
