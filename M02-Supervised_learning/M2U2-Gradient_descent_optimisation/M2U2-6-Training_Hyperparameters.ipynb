{
 "cells": [
  {
   "cell_type": "markdown",
   "id": "58ab6f1f-db65-45ea-a1b8-45afe5146a9e",
   "metadata": {},
   "source": [
    "# Linear Regression: Training Hyperparameters\n",
    "M2U2 - Exercise 6\n",
    "\n",
    "## What are we going to do?\n",
    "- We will test the effect of different hyperparameters on the training of a model\n",
    "\n",
    "Remember to follow the instructions for the submission of assignments indicated in [Submission Instructions](https://github.com/Tokio-School/Machine-Learning-EN/blob/main/Submission_instructions.md)."
   ]
  },
  {
   "cell_type": "markdown",
   "id": "4886664c-e5bc-4697-b6e0-1d281df590b4",
   "metadata": {},
   "source": [
    "## Effect of the hyperparameters\n",
    "\n",
    "In this lab we are not going to introduce any new concepts or implement any code that we have not implemented in previous exercises.\n",
    "\n",
    "The aim of this exercise is to have an opportunity to test how different hyperparameters and other settings affect our training process.\n",
    "\n",
    "To do this, you are simply going to copy your code cells from the previous exercise ([Linear regression: Example of a synthetic dataset](https://github.com/Tokio-School/Machine-Learning-EN/blob/main/M02-Supervised_learning/M2U1-Linear_regression/M2U1-2-Synthetic_datasets.ipynb), you will modify the hyperparameters many times and test their effect on the training, and validate your implementation again, which you will then use in multiple subsequent exercises.\n",
    "\n",
    "By the way, *do you know the JupyterLab hotkeys? They will be very useful during the course:* https://jupyterlab.readthedocs.io/en/stable/user/interface.html#keyboard-shortcuts"
   ]
  },
  {
   "cell_type": "code",
   "execution_count": 1,
   "id": "7be14e80-41b5-4ee7-9f93-4e545ba25ea3",
   "metadata": {},
   "outputs": [],
   "source": [
    "import time\n",
    "import numpy as np\n",
    "from matplotlib import pyplot as plt"
   ]
  },
  {
   "cell_type": "markdown",
   "id": "1b7145f0-4971-45d6-89b8-2dd0fab3f032",
   "metadata": {},
   "source": [
    "## Creation of a synthetic dataset\n",
    "\n",
    "Copy the cell from the previous exercise to create a synthetic dataset, with a bias term and an error term. Give the error term a value other than 0."
   ]
  },
  {
   "cell_type": "code",
   "execution_count": 2,
   "id": "e6f01689-241a-44ee-8e85-e2360155bb47",
   "metadata": {},
   "outputs": [],
   "source": [
    "# TODO: Copy the corresponding cell code here, or copy the whole cell and delete it."
   ]
  },
  {
   "cell_type": "markdown",
   "id": "4556d33f-42cd-4086-8b61-0dee85b21bb9",
   "metadata": {},
   "source": [
    "## Training the model\n",
    "\n",
    "Copy the cell with the cost and gradient descent functions and the cell that trains the model using gradient descent."
   ]
  },
  {
   "cell_type": "markdown",
   "id": "efc2c3eb-53a9-4f29-b3b5-5f6c7c89d5d9",
   "metadata": {},
   "source": [
    "## Check the training of the model\n",
    "\n",
    "Copy the cell that plots the historical cost function of your model."
   ]
  },
  {
   "cell_type": "markdown",
   "id": "119a9adc-fb51-4ad0-b6d0-9f1b6c34fce3",
   "metadata": {},
   "source": [
    "## Model evaluation\n",
    "\n",
    "Copy the cell that calculates and graphs the residuals of your model.\n",
    "\n",
    "Add to that cell the predicted Y calculation (*Y_pred*) from the previous cell, as without that variable your code will not work correctly.."
   ]
  },
  {
   "cell_type": "markdown",
   "id": "19b8d4a3-e835-4d12-9de9-24b41812ff39",
   "metadata": {},
   "source": [
    "## Modify the hyperparameters and check their effect.\n",
    "\n",
    "Now proceed to modify the different hyperparameters one by one and check their effect. The training hyperparameters and other configuration parameters that we are going to modify are the following:\n",
    "1. *m* and *n*\n",
    "1. The dataset error term, *error*\n",
    "1. The training rate, *alpha*\n",
    "1. The convergence parameter, *e*\n",
    "1. The maximum number of iterations, *iter_*\n",
    "\n",
    "We want you to be as autonomous as possible in this task, to take this time to experiment, to discover the behaviour of these parameters for yourself, to learn how to modify them in the future, when we need to modify them to optimise the training of more complex models.\n",
    "\n",
    "So, *why not take this opportunity to enjoy and discover for yourself what happens when we modify them, both individually and jointly?*\n",
    "\n",
    "When you are ready to continue, you can move on to the last section"
   ]
  },
  {
   "cell_type": "markdown",
   "id": "6aca73c2-d94d-4535-9b5b-1b5055f1aed1",
   "metadata": {},
   "source": [
    "## Hyperparameter modification: questions and conclusions\n",
    "\n",
    "We are including some simple questions for you to answer as an evaluation exercise based on your assessment in the previous topic. You can modify this markdown cell and add your answers to it."
   ]
  },
  {
   "cell_type": "markdown",
   "id": "3ca92e81-0c6f-4faa-b064-b6cb46f2fe13",
   "metadata": {},
   "source": [
    "1. *What happens when we increase the number of examples?*\n",
    "1. *How does it affect the training time?*\n",
    "1. *How does it affect the accuracy or final cost of the model?*\n",
    "1. *What happens when we increase the number of features? How does this impact the training time and the accuracy of the model?*\n",
    "1. *How does the error term affect your training? Its accuracy, the number of iterations until convergence...*\n",
    "1. *Does modifying the maximum number of iterations affect the training? Does it have any impact on the training time, the final accuracy, etc.?*\n",
    "1. *Is there a limit to the maximum number of iterations, or can we increase this number to infinity to achieve e.g., improved accuracy?*\n",
    "1. *Is the maximum number of iterations related to the training convergence parameter?*\n",
    "1. *Is the convergence parameter related to the final cost of the model?*\n",
    "1. *How does the training rate affect the model? Its speed, its accuracy?*\n",
    "1. *Can we increase the training rate to infinity, or is there a limit beyond which it stops working for both maximum and minimum values?*"
   ]
  },
  {
   "cell_type": "markdown",
   "id": "0ec88c16-3d8a-4591-b8e7-d1672dcc9874",
   "metadata": {},
   "source": [
    "Curiosities: Let's test your current working environment. This will give us an idea of its robustness, but also a baseline for you to remember in the future and to know its limits:\n",
    "1. *What is the maximum number of exxamples and features supported by the resources of your current working environment* Run several tests, and when you reach the limit of features, modify the number of examples. Obtain about 3 points from combinations of both values from which your environment returns a resource error\n",
    "\n",
    "1. 2.	Get an idea of the training time needed for a typical model in your environment for a basic algorithm like linear regression. With a 15% error term, a limit on iterations, a learning rate, and a sufficient convergence parameter, write down the time it takes to train the model on your computer. Pueba con varios valores de nº de ejemplos y características, digamos p. ej. un tamaño de dataset \"pequeño\", \"medio\" y \"grande\"."
   ]
  },
  {
   "cell_type": "code",
   "execution_count": null,
   "id": "66ad5f43-8a0c-4f74-9333-c942eb61f97a",
   "metadata": {},
   "outputs": [],
   "source": [
    "# TODO: Representa visualmente en una gráfica de líneas los tiempos de entrenamiento para los 3 tamaños de dataset"
   ]
  },
  {
   "cell_type": "markdown",
   "id": "f3beb1de-7137-4577-b92e-b18d72ebbc1b",
   "metadata": {},
   "source": [
    "Por último, *¿hay alguna conclusión adicional que hayas descubierto y no se incluya en las preguntas anteriores? ¡Estamos deseando oirte!*"
   ]
  }
 ],
 "metadata": {
  "environment": {
   "kernel": "python3",
   "name": "common-cpu.m87",
   "type": "gcloud",
   "uri": "gcr.io/deeplearning-platform-release/base-cpu:m87"
  },
  "kernelspec": {
   "display_name": "Python 3",
   "language": "python",
   "name": "python3"
  },
  "language_info": {
   "codemirror_mode": {
    "name": "ipython",
    "version": 3
   },
   "file_extension": ".py",
   "mimetype": "text/x-python",
   "name": "python",
   "nbconvert_exporter": "python",
   "pygments_lexer": "ipython3",
   "version": "3.7.12"
  }
 },
 "nbformat": 4,
 "nbformat_minor": 5
}
