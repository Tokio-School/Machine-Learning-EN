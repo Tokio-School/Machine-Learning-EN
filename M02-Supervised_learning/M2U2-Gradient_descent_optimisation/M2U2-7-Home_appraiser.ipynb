{
 "cells": [
  {
   "cell_type": "markdown",
   "id": "89bbc7a1-1bd6-4502-9794-9a2d6973cbb4",
   "metadata": {},
   "source": [
    "# Linear Regression: Home appraiser example\n",
    "M2U2 - Exercise 7\n",
    "\n",
    "## What are we going to do?\n",
    "- We will train a multivariate linear regression model\n",
    "- We will create a synthetic dataset following a real data schema\n",
    "\n",
    "Remember to follow the instructions for the submission of assignments indicated in [Submission Instructions](https://github.com/Tokio-School/Machine-Learning-EN/blob/main/Submission_instructions.md)."
   ]
  },
  {
   "cell_type": "code",
   "execution_count": null,
   "id": "ea2a6120-5d57-4455-b640-9e0c838d7522",
   "metadata": {},
   "outputs": [],
   "source": [
    "import time\n",
    "import numpy as np\n",
    "from matplotlib import pyplot as plt"
   ]
  },
  {
   "cell_type": "markdown",
   "id": "6527942d-d241-439e-b2e3-3da5d89e989a",
   "metadata": {},
   "source": [
    "## Synthetic house valuation dataset\n",
    "\n",
    "This time we are going to explore how to create a synthetic dataset that follows the structure we want to simulate a real dataset with full flexibility.\n",
    "\n",
    "In this case, we are going to use a real estate dataset as an example, with the objective of training a housing dataset with the following features:\n",
    "\n",
    "Target or dependent variable:\n",
    "- Sale price (int)\n",
    "\n",
    "Features, explanatory or independent variables:\n",
    "- Useful surface area (int)\n",
    "- Location (int, representing the neighbourhood as an ordinal category)\n",
    "- Type of dwelling (int, representing flat, detached house, semi-detached house, penthouse, etc. as an ordinal category)\n",
    "- Nº of rooms (int)\n",
    "- Nº of bathrooms (int)\n",
    "- Garage (int, 0/1 representing whether it has one, or not)\n",
    "- Surface area of common areas (int)\n",
    "- Year of construction (int)\n",
    "\n",
    "Our model will attempt to approximate a multivariate linear function that allows us to interpret the housing market and make predictions about the selling price of new homes, based on the linear function:\n",
    "\n",
    "$$Y = h_\\Theta(x) = X \\times \\Theta^T$$\n",
    "Where $h_\\Theta(x)$ is the linear hypothesis."
   ]
  },
  {
   "cell_type": "markdown",
   "id": "d8ad8a9f-756e-41ed-b40c-f3908169d2c5",
   "metadata": {},
   "source": [
    "### Creation of a synthetic dataset\n",
    "\n",
    "First, we will create an example of a house with known data, with the values of its features and the sale price:"
   ]
  },
  {
   "cell_type": "code",
   "execution_count": null,
   "id": "c0c447fb-6b84-42fe-97bc-ae1cadc2bba5",
   "metadata": {},
   "outputs": [],
   "source": [
    "x_ej1 = np.asarray([100, 4, 2, 2, 1, 0, 30, 10])\n",
    "y_ej1 = np.asarray([80000])\n",
    "\n",
    "print('Sale price of the house:', y_ej1[0])\n",
    "print('Useful surface area:', x_ej1[0])\n",
    "print('Location:', x_ej1[1])\n",
    "print('Dwelling type:', x_ej1[2])\n",
    "print('Nº of rooms:', x_ej1[3])\n",
    "print('Nº of bathrooms:', x_ej1[4])\n",
    "print('Garage (yes/no):', x_ej1[5])\n",
    "print('Surface area of common areas:', x_ej1[6])\n",
    "print('Age:', x_ej1[7])"
   ]
  },
  {
   "cell_type": "markdown",
   "id": "774b6589-b81f-459a-b900-af941154ab8f",
   "metadata": {},
   "source": [
    "In this way, we can create new examples with the values we want as needed.\n",
    "\n",
    "Modify the values of the previous dwelling to manually generate other dwellings.\n",
    "\n",
    "In the same way that we have manually created a housing example, we will automatically create multiple random examples:\n",
    "\n",
    "*Note*: For the sake of simplicity when generating random numbers with code, we will use *float* instead of *int* in the same logical ranges for the features of the dwellings."
   ]
  },
  {
   "cell_type": "code",
   "execution_count": null,
   "id": "0b707c05-0eeb-4653-8283-6cbbf7c6be0e",
   "metadata": {},
   "outputs": [],
   "source": [
    "m = 100           # nº of housing examples\n",
    "n = x_ej1.shape[0]    # nº of features of each dwelling\n",
    "\n",
    "X = np.random.rand(m, n)\n",
    "\n",
    "print('First 10 examples of X:')\n",
    "print(X[:10, :])\n",
    "print('Size of the matrix of X examples:')\n",
    "print(X.shape)"
   ]
  },
  {
   "cell_type": "markdown",
   "id": "eab5696b-fbb2-43a5-8ab1-e3743a1a0b9f",
   "metadata": {},
   "source": [
    "*How can we create the vector *Y* of sales prices from our synthetic dataset, so that it follows the linear relationship we want to approximate?*\n",
    "\n",
    "To do this, we must start from a *Theta_true* as in previous exercises.\n",
    "\n",
    "Sometimes, the problem is to get a Y in the range we want by modifying each value of *Theta_true*, which can be quite tedious.\n",
    "\n",
    "In other cases, an alternative would be to manually create *X* and *Y*, and then calculate the *Theta_true* corresponding to those matrices.\n",
    "\n",
    "In this case, we will manually create *Theta_true* in order to be able to interpret its values:"
   ]
  },
  {
   "cell_type": "code",
   "execution_count": null,
   "id": "42430a82-3a9b-4a22-8946-4e061fdc0435",
   "metadata": {},
   "outputs": [],
   "source": [
    "x = X[0, :]\n",
    "\n",
    "print('Example of dwelling with random featuress:')\n",
    "print(x)\n",
    "\n",
    "Theta_true = np.asarray([1000., -500, 10000, 5000, 2500, 6000, 50, -1500])\n",
    "\n",
    "print('\\nEj. de pesos de características creados manualmente:')\n",
    "print(Theta_verd)\n",
    "print(Theta_verd.shape)\n",
    "\n",
    "print('\\nEl precio de venta de dicha vivienda viene dado por sus características:')\n",
    "print('Por cada m2 de superficie útil:', Theta_verd[0])\n",
    "print('Por cada km de distancia al centro:', Theta_verd[1])\n",
    "print('Según el tipo de vivienda:', Theta_verd[2])\n",
    "print('Según el nº de habitaciones:', Theta_verd[3])\n",
    "print('Según el nº de cuartos de baño:', Theta_verd[4])\n",
    "print('Según si tiene garaje:', Theta_verd[5])\n",
    "print('Por cada m2 de superficie de zonas comunes:', Theta_verd[6])\n",
    "print('Por cada año de antigüedad:', Theta_verd[7])"
   ]
  },
  {
   "cell_type": "markdown",
   "id": "7057a1d4-589f-4628-b082-80efc63b290f",
   "metadata": {},
   "source": [
    "Cada uno de estos pesos multiplicará su característica correspondiente, sumando o restando al precio total de la vivienda.\n",
    "\n",
    "Sin embargo, a nuestro set de datos sintético ideal le falta un término muy importante, el _bias_ o _intercept_:\n",
    "El _bias_ es el término _b_ de cualquier recta $y = m * x \\times b$, el que respresenta la suma de todas las constantes que afectan a nuestro modelo o el precio base, antes de verse modificado por el resto de características.\n",
    "\n",
    "Este _bias_ es muy importante porque un modelo no sólo debe poder aproximar pesos o coeficientes que multipliquen a las características dadas, sino también a valores constantes que no dependan de las características concretas de cada ejemplo.\n",
    "\n",
    "O lo que es lo mismo: _precio = coeficientes * características + \"bias o precio base\"_.\n",
    "\n",
    "P. ej., en el caso de viviendas, sería el precio de partida de todas las viviendas, si lo hubiera, independientemente de sus características, las cuales suman o restan a partir del mismo. En el caso de un estudio sin habitaciones independientes, WC compartido, sin garaje, etc., etc., donde todas sus características fueran 0, nos permitiría determinar su precio de venta, *que no sería de 0 € seguramente*.\n",
    "\n",
    "Añadimos a *Theta_verd* un _bias_ o precio de partida."
   ]
  },
  {
   "cell_type": "code",
   "execution_count": null,
   "id": "107b5038-783a-4d94-b5c1-521ee23d559e",
   "metadata": {},
   "outputs": [],
   "source": [
    "# CUIDADO: Cada vez que ejecutamos esta celda estamos añadiendo una columna\n",
    "# de 1s a Theta_verd y X, por lo que sólo debemos ejecutarla una vez\n",
    "\n",
    "Theta_verd = np.insert(Theta_verd, 0, 25000)    # 25000 € de precio de partida = theta[0]\n",
    "X = np.insert(X, 0, np.ones(m), axis=1)\n",
    "\n",
    "print('Theta verdadero y 10 primeros ejemplos (filas) de X:')\n",
    "print(Theta_verd)\n",
    "print(X[:10, :])\n",
    "print('Tamaños de X y Tetha verdadero:')\n",
    "print(X.shape)\n",
    "print(Theta_verd.shape)"
   ]
  },
  {
   "cell_type": "markdown",
   "id": "4639fb44-a934-4067-8a0d-5d341dc2d5f8",
   "metadata": {},
   "source": [
    "Contando con dicho *Theta_verd*, podemos establecer el vector *Y* de precios de venta de nuestros ejemplos:"
   ]
  },
  {
   "cell_type": "code",
   "execution_count": null,
   "id": "074cf941-6c77-4c40-82fa-8baa12d7c76c",
   "metadata": {},
   "outputs": [],
   "source": [
    "# TODO: Modifica el siguiente código para añadir un término de error aleatorio a Y\n",
    "\n",
    "error = 0.15\n",
    "\n",
    "Y = np.matmul(X, Theta_verd)\n",
    "\n",
    "print('Precios de venta:')\n",
    "print(Y)\n",
    "print(Y.shape)"
   ]
  },
  {
   "cell_type": "markdown",
   "id": "15f8211d-9ffb-42a9-ac1b-a49e20e9387a",
   "metadata": {},
   "source": [
    "*Nota*: Al no haber usado valores int finalmente, los precios de venta son también valores float."
   ]
  },
  {
   "cell_type": "markdown",
   "id": "638e93e9-faf1-4b2a-b8d0-2bbed579e869",
   "metadata": {},
   "source": [
    "## Entrenamiento del modelo\n",
    "\n",
    "Una vez listo nuestro dataset de datos de entrenamiento, vamos a entrenar el modelo de regresión lineal.\n",
    "\n",
    "Para ello, copia las celdas correspondientes de los últimos ejercicios para entrenar el modelo con estos datos y evalúa su comportamiento:"
   ]
  },
  {
   "cell_type": "code",
   "execution_count": null,
   "id": "54eea739-68eb-4c39-9f7a-d442177fea57",
   "metadata": {},
   "outputs": [],
   "source": [
    "# TODO: Copia las celdas correspondientes para entrenar un modelo por regresión lineal y evaluar su entrenamiento"
   ]
  },
  {
   "cell_type": "markdown",
   "id": "dc8b0ce2-0d81-4757-87ae-5fc5a5c0af2a",
   "metadata": {},
   "source": [
    "## Predicciones \n",
    "\n",
    "Por tanto, si creamos un nuevo ejemplo de vivienda manualmente con características aleatorias, podemos hacer una predicción sobre su precio de venta:"
   ]
  },
  {
   "cell_type": "code",
   "execution_count": null,
   "id": "62fa743e-fd1f-4c5a-816a-8066dbd0ab21",
   "metadata": {},
   "outputs": [],
   "source": [
    "# TODO: Crea una nueva vivienda con características aleatorias y calcula su Y predicha\n",
    "# Recuerda añadirle a X un término de bias de 1.\n",
    "x_pred = [...]\n",
    "\n",
    "y_pred = np.matmul(x_pred, theta)    # Usa la theta entrenada por tu modelo en el paso anterior\n",
    "\n",
    "print('Ej. de vivienda aleatorio:')\n",
    "print(x_pred)\n",
    "\n",
    "print('Precio predicho para dicha vivienda:')\n",
    "print(y_pred)"
   ]
  },
  {
   "cell_type": "markdown",
   "id": "894b4b58-6557-4141-b4ec-a3e918fbe7bc",
   "metadata": {},
   "source": [
    "¿Y nuestro dataset sintético original? ¿Qué precio de venta tendría? ¿Y qué resíduos tendría nuestro modelo sobre ellos?"
   ]
  },
  {
   "cell_type": "code",
   "execution_count": null,
   "id": "abc46147-9e8d-43c2-b839-51ce9e990a7b",
   "metadata": {},
   "outputs": [],
   "source": [
    "# TODO: Calcula y representa gráficamente los resíduos del modelo\n",
    "\n",
    "Y_pred = [...]\n",
    "\n",
    "residuos = [...]\n",
    "\n",
    "plt.figure()\n",
    "\n",
    "# Dale un título a la gráfica y etiquetas a sus ejes\n",
    "\n",
    "plt.show()"
   ]
  }
 ],
 "metadata": {
  "environment": {
   "kernel": "python3",
   "name": "common-cpu.m87",
   "type": "gcloud",
   "uri": "gcr.io/deeplearning-platform-release/base-cpu:m87"
  },
  "kernelspec": {
   "display_name": "Python 3",
   "language": "python",
   "name": "python3"
  },
  "language_info": {
   "codemirror_mode": {
    "name": "ipython",
    "version": 3
   },
   "file_extension": ".py",
   "mimetype": "text/x-python",
   "name": "python",
   "nbconvert_exporter": "python",
   "pygments_lexer": "ipython3",
   "version": "3.7.12"
  }
 },
 "nbformat": 4,
 "nbformat_minor": 5
}
