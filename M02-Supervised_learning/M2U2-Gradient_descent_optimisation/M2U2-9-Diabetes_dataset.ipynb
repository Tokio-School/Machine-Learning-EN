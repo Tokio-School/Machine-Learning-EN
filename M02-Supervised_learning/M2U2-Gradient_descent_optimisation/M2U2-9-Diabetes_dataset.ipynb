{
 "cells": [
  {
   "cell_type": "markdown",
   "id": "7770db87-84a8-4449-9a79-84bbaf5cb644",
   "metadata": {
    "tags": []
   },
   "source": [
    "# Linear Regression: An example of a real diabetes dataset\n",
    "M2U2 - Exercise 9\n",
    "\n",
    "## What are we going to do?\n",
    "- We will train a multivariate linear regression ML model on a real dataset\n",
    "\n",
    "Remember to follow the instructions for the submission of assignments indicated in [Submission Instructions](https://github.com/Tokio-School/Machine-Learning-EN/blob/main/Submission_instructions.md)."
   ]
  },
  {
   "cell_type": "markdown",
   "id": "81290257-7dcf-4851-9a15-03bd27f00170",
   "metadata": {},
   "source": [
    "## Diabetes progression dataset\n",
    "\n",
    "This exercise complements the previous exercise as the 2nd real dataset.\n",
    "\n",
    "This dataset is a small dataset of only 442 examples and 10 features, representing the progression of diabetes in some patients.\n",
    "\n",
    "You can find the dataset and examples of how to download it here: [Diabetes dataset](https://scikit-learn.org/stable/datasets/toy_dataset.html#diabetes-dataset)\n",
    "\n",
    "Check the dataset. You may have to make some minor modifications to the data or your implementation to solve it according to the method we have been using."
   ]
  },
  {
   "cell_type": "code",
   "execution_count": null,
   "id": "58299ab7-7026-4d23-bf1b-a12c32da41e3",
   "metadata": {},
   "outputs": [],
   "source": [
    "# TODO: Navigate to the dataset, download it, browse its examples and visualize its features\n",
    "\n",
    "# Load the dataset\n",
    "[...]\n",
    "\n",
    "# Explore some examples (at least 5)\n",
    "[...]\n",
    "\n",
    "# Represent the target variable and at least 3 characteristics that you consider highly significant with a boxplot chart\n",
    "[...]"
   ]
  },
  {
   "cell_type": "markdown",
   "id": "2a472ee0-ba0e-474a-adb4-50f491bbba9e",
   "metadata": {},
   "source": [
    "## Train the model, test the training process, and evaluate the final result\n",
    "\n",
    "For this exercise you will not have specific instructions, a guide, or a template of code cells, but we want to give you the freedom and the possibility to face your first real problem, from scratch.\n",
    "\n",
    "Los objetivos de este ejercicio son, de nuevo:\n",
    "1. Download the dataset to train the model\n",
    "1. Train a multivariate linear regression model on this dataset, which will attempt to predict the progression of diabetes.\n",
    "1. Check the model training process\n",
    "1. Evaluate the model by checking its final weights and the graph of its residuals.\n",
    "\n",
    "To do this, look at the steps you have followed in previous exercises and copy here the cells and code you need to solve it.\n",
    "\n",
    "Come on!"
   ]
  },
  {
   "cell_type": "markdown",
   "id": "a0a91c86-9d69-4fca-863f-a09bece77ccf",
   "metadata": {},
   "source": [
    "*BONUS:* Take a look at the source of the dataset, which you will find on Scikit-learn, where does it come from, which articles, papers, and tutorials reference it?*"
   ]
  }
 ],
 "metadata": {
  "environment": {
   "kernel": "python3",
   "name": "common-cpu.m87",
   "type": "gcloud",
   "uri": "gcr.io/deeplearning-platform-release/base-cpu:m87"
  },
  "kernelspec": {
   "display_name": "Python 3",
   "language": "python",
   "name": "python3"
  },
  "language_info": {
   "codemirror_mode": {
    "name": "ipython",
    "version": 3
   },
   "file_extension": ".py",
   "mimetype": "text/x-python",
   "name": "python",
   "nbconvert_exporter": "python",
   "pygments_lexer": "ipython3",
   "version": "3.7.12"
  }
 },
 "nbformat": 4,
 "nbformat_minor": 5
}
