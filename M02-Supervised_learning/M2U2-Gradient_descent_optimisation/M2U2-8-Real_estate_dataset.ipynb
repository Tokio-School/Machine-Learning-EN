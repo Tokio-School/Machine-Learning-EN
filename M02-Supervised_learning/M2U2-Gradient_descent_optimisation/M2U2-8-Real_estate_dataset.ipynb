{
 "cells": [
  {
   "cell_type": "markdown",
   "id": "24b8dffe-b786-4809-8670-0c2c892da116",
   "metadata": {},
   "source": [
    "# Linear Regression: Real estate dataset example\n",
    "M2U2 - Exercise 8\n",
    "\n",
    "## What are we going to do?\n",
    "- We will train a multivariate linear regression ML model on a real estate dataset\n",
    "\n",
    "Remember to follow the instructions for the submission of assignments indicated in [Submission Instructions](https://github.com/Tokio-School/Machine-Learning-EN/blob/main/Submission_instructions.md)."
   ]
  },
  {
   "cell_type": "markdown",
   "id": "3a9f7c31-44c6-42c4-a99d-406eeb07ed15",
   "metadata": {},
   "source": [
    "## Boston real estate prices dataset\n",
    "\n",
    "This dataset is a small dataset, only 506 examples and 13 features, but it is a real dataset that we can use to test our model training implementation and start solving exercises with real data.\n",
    "\n",
    "You can find the dataset and examples of how to download it here: [Boston house prices dataset](https://scikit-learn.org/stable/datasets/toy_dataset.html#boston-house-prices-dataset)\n",
    "\n",
    "Check the dataset. You may have to make some minor modifications to the data or your implementation to solve it according to the method we have been using."
   ]
  },
  {
   "cell_type": "code",
   "execution_count": null,
   "id": "38f4a952-d042-4a7d-a102-30f42cc7fa6c",
   "metadata": {},
   "outputs": [],
   "source": [
    "# TODO: Navigate to the dataset, download it, browse its examples and visualize its features\n",
    "\n",
    "# Load the dataset\n",
    "[...]\n",
    "\n",
    "# Explore some examples (at least 5)\n",
    "[...]\n",
    "\n",
    "# Represent the target variable and at least 3 features that you consider highly significant with a boxplot chart\n",
    "[...]"
   ]
  },
  {
   "cell_type": "markdown",
   "id": "1af257db-d3f5-4cd2-b983-ed3a27c2a419",
   "metadata": {},
   "source": [
    "## Train the model, test the training process and evaluate the final result\n",
    "\n",
    "For this exercise you will not have specific instructions, a guide, or a template of code cells, but we want to give you the freedom and the possibility to face your first real problem, from scratch.\n",
    "\n",
    "The objectives of this exercise are, again:\n",
    "1. Download the dataset to train the model\n",
    "1. Train a multivariate linear regression model on this dataset, which will attempt to predict real estate valuations in Boston\n",
    "1. Check the training process of the model\n",
    "1. Evaluate the model by checking its final weights and the graph of its residuals\n",
    "\n",
    "To do this, look at the steps you have followed in previous exercises and copy the cells and code you need to solve it here.\n",
    "\n",
    "Come on!"
   ]
  },
  {
   "cell_type": "markdown",
   "id": "50b573fa-e03f-45ca-9d2c-b2144eae77d3",
   "metadata": {},
   "source": [
    "*BONUS:* Take a look at the source of the dataset, which you will find on Scikit-learn, *here does it come from? Which articles, papers, and tutorials reference it?*"
   ]
  }
 ],
 "metadata": {
  "environment": {
   "kernel": "python3",
   "name": "common-cpu.m87",
   "type": "gcloud",
   "uri": "gcr.io/deeplearning-platform-release/base-cpu:m87"
  },
  "kernelspec": {
   "display_name": "Python 3",
   "language": "python",
   "name": "python3"
  },
  "language_info": {
   "codemirror_mode": {
    "name": "ipython",
    "version": 3
   },
   "file_extension": ".py",
   "mimetype": "text/x-python",
   "name": "python",
   "nbconvert_exporter": "python",
   "pygments_lexer": "ipython3",
   "version": "3.7.12"
  }
 },
 "nbformat": 4,
 "nbformat_minor": 5
}
