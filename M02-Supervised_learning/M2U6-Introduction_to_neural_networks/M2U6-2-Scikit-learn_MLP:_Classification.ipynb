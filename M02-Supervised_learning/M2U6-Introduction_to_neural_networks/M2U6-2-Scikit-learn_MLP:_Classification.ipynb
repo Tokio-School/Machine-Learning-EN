{
 "cells": [
  {
   "cell_type": "markdown",
   "id": "9f198998-3a32-4d6a-a918-aaf1f100f6bf",
   "metadata": {},
   "source": [
    "# Scikit-learn MLP: Classification with the Labeled Faces in the Wild dataset\n",
    "M2U6 - Exercise 2\n",
    "\n",
    "## What are we going to do?\n",
    "- We will use the Labeled Faces in the Wild dataset\n",
    "- We will train a multilayer classification neural network\n",
    "- We will optimise its regularisation using validation\n",
    "- We will evaluate the neural network on the test subset\n",
    "\n",
    "Remember to follow the instructions for the submission of assignments indicated in [Submission Instructions](https://github.com/Tokio-School/Machine-Learning-EN/blob/main/Submission_instructions.md).\n",
    "\n",
    "## Instructions\n",
    "We are going to train another neural network (RNN), in this case for classification. For this we will train a deep or multi-layer RNN (multi-layer perceptron) for multiclass classification, with the sigmoid activation function.\n",
    "\n",
    "The multiclass classification dataset on which we will train the model will be a real dataset: the Labeled Faces in the Wild celebrity face dataset, included in Scikit-learn, in its version of the face recognition problem.\n",
    "\n",
    "References:\n",
    "- [The Labeled Faces in the Wild face recognition dataset](https://scikit-learn.org/stable/datasets/real_world.html#labeled-faces-in-the-wild-dataset)\n",
    "- [sklearn.datasets.fetch_lfw_people](https://scikit-learn.org/stable/modules/generated/sklearn.datasets.fetch_lfw_people.html)\n",
    "- [Neuronal network models: Classification](https://scikit-learn.org/stable/modules/neural_networks_supervised.html#classification)\n",
    "- [sklearn.neural_network.MLPClassifier](https://scikit-learn.org/stable/modules/generated/sklearn.neural_network.MLPClassifier.html)"
   ]
  },
  {
   "cell_type": "code",
   "execution_count": null,
   "id": "013b77dd-1e2b-4fd5-be32-7b50f35597c9",
   "metadata": {},
   "outputs": [],
   "source": [
    "# TODO: Import all the necessary modules into this cell"
   ]
  },
  {
   "cell_type": "markdown",
   "id": "083a863a-2ddb-4129-82e5-df6429f1adf8",
   "metadata": {},
   "source": [
    "## Download the dataset and analyse it\n",
    "\n",
    "Download the LFW dataset in format `(dataset.data, dataset.target)` and analyse it to get an idea of its features, dimensionality, etc...\n",
    "\n",
    "E.g., *does it need to be normalised, are the examples randomly ordered?*"
   ]
  },
  {
   "cell_type": "code",
   "execution_count": null,
   "id": "3002f1c8-6bb7-473f-a771-9c0aee8a214c",
   "metadata": {},
   "outputs": [],
   "source": [
    "# TODO: Download the dataset and analyse some of its examples"
   ]
  },
  {
   "cell_type": "markdown",
   "id": "b6a679c1-f0d3-4f03-a5d6-bcdceea957e4",
   "metadata": {},
   "source": [
    "## Preprocess the data\n",
    "\n",
    "Once again, we will preprocess the data following our usual steps, as necessary:\n",
    "- Randomly reorder the data.\n",
    "- Normalise the data.\n",
    "- Divide into training and test subsets (we will use cross-validation by K-fold)."
   ]
  },
  {
   "cell_type": "code",
   "execution_count": null,
   "id": "67e295c8-2355-421a-bbe8-101bf227b452",
   "metadata": {},
   "outputs": [],
   "source": [
    "# TODO: Randomly reorder the data"
   ]
  },
  {
   "cell_type": "code",
   "execution_count": null,
   "id": "de83c682-b7b7-45ba-b0a6-8fc8247ca621",
   "metadata": {},
   "outputs": [],
   "source": [
    "# TODO: Normalise the data only if necessary"
   ]
  },
  {
   "cell_type": "code",
   "execution_count": null,
   "id": "6a618c22-fe9e-42cd-8689-1197ff4ce27d",
   "metadata": {},
   "outputs": [],
   "source": [
    "# TODO: Divide the dataset into training and test subsets"
   ]
  },
  {
   "cell_type": "markdown",
   "id": "e9e943e5-3d55-465b-9ab3-ffa81ca5259a",
   "metadata": {},
   "source": [
    "## Train an initial multilayer RNN\n",
    "\n",
    "Once again, to check our implementation and verify that a multilayer RNN multiclass classification model is able to solve this dataset, we will train an initial RNN, without regularisation.\n",
    "\n",
    "Train it on the training subset and evaluate it using its `model.score()` on the test subset:"
   ]
  },
  {
   "cell_type": "code",
   "execution_count": null,
   "id": "4ff7d63a-989d-4000-b637-85cd18a5cbf9",
   "metadata": {},
   "outputs": [],
   "source": [
    "# TODO: Train a multilayer RNN without regularisation\n",
    "# As a topology, use 2 intermediate layers with 25 nodes each\n",
    "hidden_layer_sizes = (25, 25)\n",
    "\n",
    "# Use the sigmoid logistic ativation function to train the RNN\n",
    "activation = 'logistic'"
   ]
  },
  {
   "cell_type": "markdown",
   "id": "7ad128de-e30a-4b7e-9b56-c02f3ab249e8",
   "metadata": {},
   "source": [
    "## Optimise the RNN using cross-validation\n",
    "\n",
    "We will optimise the different hyperparameters of the RNN by cross-validating our model using K-fold.\n",
    "\n",
    "We will use [sklearn.model_selection.GridSearchCV](https://scikit-learn.org/stable/modules/generated/sklearn.model_selection.GridSearchCV.html) since we have to optimise 2 values simultaneously:\n",
    "- *hidden_layer_sizes*: The number of hidden layers and the number of neurons per layer, in the range `[1, 4]` hidden layers and `[10, 50]` neurons per layer.\n",
    "- *alpha*: L2 regularisation parameter, in the range `[10^0, 10^7]`.\n",
    "\n",
    "Depending on the resources of your working environment and the time it takes to train the models, you may evaluate as many values as you deem appropriate within these ranges:"
   ]
  },
  {
   "cell_type": "code",
   "execution_count": null,
   "id": "9eaab131-fdb7-435d-8c52-8a7d673edd94",
   "metadata": {},
   "outputs": [],
   "source": [
    "# TODO: Train a multi-layer RNN by optimising its hidden_layer_sizes and alpha hyperparameters using CV"
   ]
  },
  {
   "cell_type": "code",
   "execution_count": null,
   "id": "d63f44d1-02b7-42c4-89e2-57400e177aec",
   "metadata": {},
   "outputs": [],
   "source": [
    "# TODO: Choose the most optimal model among the trained ones"
   ]
  },
  {
   "cell_type": "markdown",
   "id": "1d4c0b68-d460-4909-8fb5-557ab8208487",
   "metadata": {},
   "source": [
    "## Evaluate the RNN on the test subset\n",
    "\n",
    "Finally, evaluate the RNN on the test subset using its `model.score()`, the average classification accuracy:"
   ]
  },
  {
   "cell_type": "code",
   "execution_count": null,
   "id": "826f54c8-8fde-44a8-9152-c794e3009416",
   "metadata": {},
   "outputs": [],
   "source": [
    "# TODO: Evaluate the RNN on the test subset"
   ]
  },
  {
   "cell_type": "markdown",
   "id": "b5e7dd28-30c9-4363-aff3-d39785bcb200",
   "metadata": {},
   "source": [
    "Represent some of the predicted faces.\n",
    "\n",
    "To do this, you can follow this example: [Faces recognition example using eigenfaces and SVMs](https://scikit-learn.org/stable/auto_examples/applications/plot_face_recognition.html) (do not worry about *eigenfaces* and *eigenvalues*, as we have not yet explained this concept during the course)."
   ]
  },
  {
   "cell_type": "markdown",
   "id": "fc8341f0-ca80-47e7-a9c0-2a5aa75b5dda",
   "metadata": {},
   "source": [
    "*Bonus*: Compare the accuracy of your RNN with that of the classification SVM model you used on this same dataset. *Which model has the higher final accuracy*"
   ]
  }
 ],
 "metadata": {
  "environment": {
   "kernel": "python3",
   "name": "common-cpu.m87",
   "type": "gcloud",
   "uri": "gcr.io/deeplearning-platform-release/base-cpu:m87"
  },
  "kernelspec": {
   "display_name": "Python 3",
   "language": "python",
   "name": "python3"
  },
  "language_info": {
   "codemirror_mode": {
    "name": "ipython",
    "version": 3
   },
   "file_extension": ".py",
   "mimetype": "text/x-python",
   "name": "python",
   "nbconvert_exporter": "python",
   "pygments_lexer": "ipython3",
   "version": "3.7.12"
  }
 },
 "nbformat": 4,
 "nbformat_minor": 5
}
