{
 "cells": [
  {
   "cell_type": "markdown",
   "id": "6af5dc28-e41b-4170-823d-2519be463973",
   "metadata": {},
   "source": [
    "# Scikit-learn MLP: Linear Regression with the California Housing dataset\n",
    "M2U6 - Exercise 1\n",
    "\n",
    "## What are we going to do?\n",
    "- We will use the California Housing dataset\n",
    "- We will train a multilayer neural network for linear regression\n",
    "- We will optimise its regularisation using validation\n",
    "- We will evaluate the neural network on the test subset\n",
    "\n",
    "Remember to follow the instructions for the submission of assignments indicated in [Submission Instructions](https://github.com/Tokio-School/Machine-Learning/blob/main/Instrucciones%20entregas.md).\n",
    "\n",
    "## Instructions\n",
    "We are going to train our first neural network (RNN). In this case we will train a deep or multi-layer RNN (multi-layer perceptron) for regression, with a RELU (\"REctified Linear Unit\") activation function.\n",
    "\n",
    "The regression dataset on which we will train the model will be a real dataset: the California Housing real estate price prediction dataset, included in Scikit-learn.\n",
    "\n",
    "Referencias:\n",
    "- [California Housing dataset](https://scikit-learn.org/stable/datasets/real_world.html#california-housing-dataset)\n",
    "- [sklearn.datasets.fetch_california_housing](https://scikit-learn.org/stable/modules/generated/sklearn.datasets.fetch_california_housing.html)\n",
    "- [Neuronal network models: Regression](https://scikit-learn.org/stable/modules/neural_networks_supervised.html#regression)\n",
    "- [sklearn.neural_network.MLPRegressor](https://scikit-learn.org/stable/modules/generated/sklearn.neural_network.MLPRegressor.html)"
   ]
  },
  {
   "cell_type": "code",
   "execution_count": null,
   "id": "1de1076e-04fb-4cf4-8540-573b6aca2667",
   "metadata": {},
   "outputs": [],
   "source": [
    "# TODO: Import all the necessary modules into this cell"
   ]
  },
  {
   "cell_type": "markdown",
   "id": "c7f0f5d5-83ac-412c-9376-4e3848b47082",
   "metadata": {},
   "source": [
    "## Download the dataset and analyse it\n",
    "\n",
    "Download the California Housing dataset in *X* *Y* format `(data.data, data.target)` and analyse it to get an idea of its features, dimensionality, etc...\n",
    "\n",
    "E.g., *does it need to be normalised, are the examples randomly disordered?*"
   ]
  },
  {
   "cell_type": "code",
   "execution_count": null,
   "id": "b2c13e86-de74-4a07-bd66-4de8f89f9a8d",
   "metadata": {},
   "outputs": [],
   "source": [
    "# TODO: Download the dataset and analyse some of its examples"
   ]
  },
  {
   "cell_type": "markdown",
   "id": "f0511233-9948-438a-93a1-e6689db4c21c",
   "metadata": {},
   "source": [
    "## Preprocess the data\n",
    "\n",
    "Once again, we will preprocess the data following our usual steps, as necessary:\n",
    "- Randomly reorder the data.\n",
    "- Normalise the data.\n",
    "- Divide into training and test subsets (we will use cross-validation by K-fold)."
   ]
  },
  {
   "cell_type": "code",
   "execution_count": null,
   "id": "33090b70-e10a-4c51-845a-8b03b77c661e",
   "metadata": {},
   "outputs": [],
   "source": [
    "# TODO: Randomly reorder the data"
   ]
  },
  {
   "cell_type": "code",
   "execution_count": null,
   "id": "38730a2e-9749-46a7-a26e-cb520755c71b",
   "metadata": {},
   "outputs": [],
   "source": [
    "# TODO: Normalise the data only if necessary"
   ]
  },
  {
   "cell_type": "code",
   "execution_count": null,
   "id": "1f2f6545-84c4-412f-b064-1f5e4734f183",
   "metadata": {},
   "outputs": [],
   "source": [
    "# TODO: Divide the dataset into training and test subsets"
   ]
  },
  {
   "cell_type": "markdown",
   "id": "4c30ef7b-16c2-4895-b55d-7d1d11580207",
   "metadata": {},
   "source": [
    "## Train an initial multilayer RNN\n",
    "\n",
    "Once again, to check our implementation and verify that a multilayer RNN linear regression model is able to solve this dataset, we will train an initial RNN, without regularisation.\n",
    "\n",
    "Train it on the training subset and evaluate it using its `model.score()` on the test subset:"
   ]
  },
  {
   "cell_type": "code",
   "execution_count": null,
   "id": "f8a80470-b588-4943-b84a-2ed96f5dd062",
   "metadata": {},
   "outputs": [],
   "source": [
    "# TODO: Train a multilayer RNN without regularisation\n",
    "# As a topology, use 2 intermediate layers with 25 neurons each\n",
    "hidden_layer_sizes = (25, 25)"
   ]
  },
  {
   "cell_type": "markdown",
   "id": "d1fa5402-0558-4e56-8f1d-c1976dd87ea4",
   "metadata": {},
   "source": [
    "## Optimise the RNN using cross-validation\n",
    "\n",
    "We will optimise the different hyperparameters of the RNN for our CV model, using K-fold.\n",
    "\n",
    "Use [sklearn.model_selection.GridSearchCV](https://scikit-learn.org/stable/modules/generated/sklearn.model_selection.GridSearchCV.html) since we have to optimise 2 values simultaneously:\n",
    "- *hidden_layer_sizes*: The number of hidden layers and the number of neurons per layer, in the range `[1, 4]` hidden layers and `[10, 50]` neurons per layer.\n",
    "- *alpha*: L2 regularisation parameter, in the range `[10^0, 10^7]`.\n",
    "\n",
    "Depending on the resources of your working environment and the time it takes to train the models, you may evaluate as many values as you deem appropriate within these ranges:"
   ]
  },
  {
   "cell_type": "code",
   "execution_count": null,
   "id": "c9c3a59d-a550-4044-bdd9-308783969af9",
   "metadata": {},
   "outputs": [],
   "source": [
    "# TODO: Train a multi-layer RNN by optimising its hidden_layer_sizes and alpha hyperparameters using CV"
   ]
  },
  {
   "cell_type": "markdown",
   "id": "9372bc2c-ad47-4cfa-9f43-d996fcffca93",
   "metadata": {},
   "source": [
    "## Evaluate the RNN on the test subset\n",
    "\n",
    "Finally, evaluate the RNN on the test subset using its `model.score()`, the coefficient of determination R^2:"
   ]
  },
  {
   "cell_type": "code",
   "execution_count": null,
   "id": "8c84eb28-2a2e-4839-9285-8ef2e68d225a",
   "metadata": {},
   "outputs": [],
   "source": [
    "# TODO: Evaluate the RNN on the test subset"
   ]
  }
 ],
 "metadata": {
  "environment": {
   "kernel": "python3",
   "name": "common-cpu.m87",
   "type": "gcloud",
   "uri": "gcr.io/deeplearning-platform-release/base-cpu:m87"
  },
  "kernelspec": {
   "display_name": "Python 3",
   "language": "python",
   "name": "python3"
  },
  "language_info": {
   "codemirror_mode": {
    "name": "ipython",
    "version": 3
   },
   "file_extension": ".py",
   "mimetype": "text/x-python",
   "name": "python",
   "nbconvert_exporter": "python",
   "pygments_lexer": "ipython3",
   "version": "3.7.12"
  }
 },
 "nbformat": 4,
 "nbformat_minor": 5
}
