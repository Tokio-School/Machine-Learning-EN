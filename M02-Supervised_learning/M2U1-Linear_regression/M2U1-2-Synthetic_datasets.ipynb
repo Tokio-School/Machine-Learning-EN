{
 "cells": [
  {
   "cell_type": "markdown",
   "id": "c0ae2b82-6c66-4298-af76-72364ff94e03",
   "metadata": {},
   "source": [
    "# Multivariate Linear Regression: Synthetic datasets\n",
    "M2U1 - Exercise 2\n",
    "\n",
    "## What are we going to do?\n",
    "- Create a synthetic (artificial) dataset with NumPy\n",
    "- Create a synthetic dataset with a random error term\n",
    "- Create a synthetic dataset with unconsidered parameters\n",
    "- Create a synthetic dataset with Scikit-learn\n",
    "\n",
    "Remember to follow the instructions for the submission of assignments indicated in [Submission Instructions](https://github.com/Tokio-School/Machine-Learning-EN/blob/main/Submission_instructions.md)."
   ]
  },
  {
   "cell_type": "markdown",
   "id": "6ca79148-5ed3-46e6-8491-47e145c7c6b3",
   "metadata": {},
   "source": [
    "## Instructions\n",
    "\n",
    "A synthetic dataset is a dataset of artificially created examples. These datasets are very useful for testing algorithms and our implementation, since we will be able to control the features of the dataset at all times.\n",
    "\n",
    "Similarly, since the influence of the training dataset and its cleaning, pre-processing, etc., are key to training ML models, when we are going to perform an implementation for the first time it would not be difficult to find multiple datasets with controlled features and, in particular, to be sure whether possible errors in the training are caused by our implementation or by the source data.\n",
    "\n",
    "Fill in the code of the following cells according to the instructions to create the different synthetic datasets."
   ]
  },
  {
   "cell_type": "code",
   "execution_count": null,
   "id": "eeb48472-fd3c-402e-a0f1-6f37de0a39fc",
   "metadata": {},
   "outputs": [],
   "source": [
    "import numpy as np\n",
    "\n",
    "from matplotlib import pyplot as plt"
   ]
  },
  {
   "cell_type": "markdown",
   "id": "79261e41-cb48-4c27-b2fb-82c08549eb06",
   "metadata": {},
   "source": [
    "## Task 1: Create a synthetic dataset with NumPy\n",
    "\n",
    "For this task we are going to create a synthetic dataset using NumPy’s functions.\n",
    "With this method we can completely control the features of the dataset.\n",
    "\n",
    "Recall the multiple linear regression equation and the dimensions of the vectors:\n",
    "\n",
    "$Y = X \\times \\Theta^T$\n",
    "\n",
    "m = nº of examples\n",
    "\n",
    "n = nº of features/coefficients\n",
    "\n",
    "$Y_{m \\times 1}$ (vector column)\n",
    "\n",
    "$X_{m \\times n}$ (2D matrix)\n",
    "\n",
    "$\\Theta_{1 \\times n}$ (vector row)\n",
    "\n",
    "*HINT:* Use the Numpy function np.random.random() for a random array"
   ]
  },
  {
   "cell_type": "code",
   "execution_count": null,
   "id": "607cc1e5-5783-4419-9c8c-33b2726c6e8c",
   "metadata": {},
   "outputs": [],
   "source": [
    "# TODO: Create the following arrays that define the original dataset\n",
    "\n",
    "# Choose some values for m and n (tipo: int)\n",
    "m = 0\n",
    "n = 0\n",
    "\n",
    "# X is a 2D m x n array of random nºs between -100 and 100\n",
    "# Use NumPy’s functions to generate an m x n array with random nºs between [0, 1)\n",
    "# Random Nº in the range [a, b): ndarray * (b - a) + a, where a = -100 and b = 100\n",
    "X = [...]\n",
    "\n",
    "# Insert the bias term b or X0 to parallelise the equation\n",
    "# Insert a 1. (float) column to the left of X with Numpy's insert function np.insert()\n",
    "X = X\n",
    "\n",
    "# Theta is a 1D 1 x n array that we can also implement as n x 1(column or row)\n",
    "# Generate it with n +1 random elements [0, 1) in order to add the bias term\n",
    "Theta = [...]\n",
    "\n",
    "# Compute Y by multiplying the vectors X and Theta with np.matmul()\n",
    "Y = [...]\n",
    "\n",
    "# Comprueba los valores y dimensiones (forma o \"shape\") de los arrays con la propiedad ndarray.shape\n",
    "print('Theta a estimar:')\n",
    "print()\n",
    "print()\n",
    "\n",
    "print('Primeras 10 filas y 5 columnas de X e Y:')\n",
    "print()\n",
    "print()\n",
    "\n",
    "print('Dimensiones de X e Y:')\n",
    "print('shape', 'shape')"
   ]
  },
  {
   "cell_type": "code",
   "execution_count": null,
   "id": "d18d5b50-a811-4fe5-a7b7-f2cd26bf6b88",
   "metadata": {},
   "outputs": [],
   "source": [
    "# TODO: Representa X_1 vs Y en una gráfica 2D de puntos de Matplotlib\n",
    "# X_1 es la columna nº 2 de X, la primera cuyos valores no son todos 1.\n",
    "# A partir de ahora, intenta usar etiquetas para los ejes y un título de la gráfica\n",
    "\n",
    "plt.figure()\n",
    "\n",
    "# Tu código aquí\n",
    "\n",
    "plt.show()"
   ]
  },
  {
   "cell_type": "markdown",
   "id": "96e4a1c3-8318-4c53-8466-5b177fb497e6",
   "metadata": {},
   "source": [
    "Una vez implementados correctamente, *¿por qué no varías los términos m y n y compruebas que puedes crear arrays de diversas dimensiones?*"
   ]
  },
  {
   "cell_type": "markdown",
   "id": "c79eb1ec-b79a-4379-b566-ead3b420a124",
   "metadata": {
    "tags": []
   },
   "source": [
    "## Tarea 2: Crear un dataset sintético con un término de error aleatorio\n",
    "\n",
    "Ahora vamos a repetir los pasos del punto anterior, pero añadiendo un término de error aleatorio a Y, para hacer un dataset con datos no tan precisos, más parecidos a una situación real, pudiendo controlar dicho error.\n",
    "\n",
    "*PISTA:* Usa la función de Numpy np.uniform() para un valor entre el rango de +/- e"
   ]
  },
  {
   "cell_type": "code",
   "execution_count": null,
   "id": "c6854cfd-7062-4552-ac0c-36c2a0adbad0",
   "metadata": {},
   "outputs": [],
   "source": [
    "# TODO: Crea los siguientes arrays que definen el dataset original con un término de error aleatorio\n",
    "\n",
    "# Escoge unos valores de m y n (tipo: int)\n",
    "m = 0\n",
    "n = 0\n",
    "\n",
    "# X es un array 2D m x n de nºs aleatorios entre -100 y 100\n",
    "# Usa las funciones de Numpy para generar un array m x n de nºs aleatorios entre [0, 1)\n",
    "# Nº aleatorio en el rango [a, b): ndarray * (b - a) + a, donde a = -100 y b = 100\n",
    "X = [...]\n",
    "\n",
    "# Inserta el término de bias b o X0 para paralelizar la ecuación\n",
    "# Inserta una columna de 1. (float) a la izquierda de X con la función de inserción de Numpy np.insert()\n",
    "X = X\n",
    "\n",
    "# Theta es un array 1D 1 x n que también podemos implementar como n x 1 (fila)\n",
    "# Genéralo con n + 1 elementos aleatorios [0, 1) para añadir el término de bias\n",
    "Theta = [...]\n",
    "\n",
    "# Computa Y multiplicando los vectores X y Theta con np.matmul()\n",
    "Y = [...]\n",
    "\n",
    "# A partir de aquí, añadimos el término de error e en porcentaje (0.1 = 10%, 0.25 = 25%, etc.)\n",
    "e = 0.1\n",
    "\n",
    "# En la siguiente línea, sustituye \"termino_error\" por un término que represente un número aleatorio en el rango +/- e (p.ej. +/- 10%)\n",
    "# De esta forma, el término de error será un porcentaje de +/- el término de error sobre el valor de Y original\n",
    "# Recuerda que debemos sumar un error a cada Y entre el valor positivo y negativo de e, no sumar e directamente\n",
    "Y_final = Y + Y * termino_error\n",
    "\n",
    "# Comprueba los valores y dimensiones (forma o \"shape\") de los arrays con la propiedad ndarray.shape\n",
    "print('Theta a estimar:')\n",
    "print()\n",
    "print()\n",
    "\n",
    "print('Primeras 10 filas y 5 columnas de X e Y:')\n",
    "print()\n",
    "print()\n",
    "\n",
    "print('Dimensiones de X e Y:')\n",
    "print('shape', 'shape')"
   ]
  },
  {
   "cell_type": "markdown",
   "id": "e272a7f3-97d9-48d4-bc07-984b33147cf1",
   "metadata": {},
   "source": [
    "Varía el término del error para comprobar su efecto sobre *Y_final*.\n",
    "\n",
    "*¿Te atreves a representar gráficamente Y vs X e Y_final vs X para apreciar el término del error?*"
   ]
  },
  {
   "cell_type": "code",
   "execution_count": null,
   "id": "fd08b1c9-5e07-4ca7-8d51-78cee0b90956",
   "metadata": {},
   "outputs": [],
   "source": [
    "# TODO: Representa X vs Y y X vs Y_final en una gráfica de puntos de Matplotlib\n",
    "\n",
    "plt.figure()\n",
    "\n",
    "# Tu código aquí\n",
    "\n",
    "plt.show()"
   ]
  },
  {
   "cell_type": "markdown",
   "id": "39502444-3083-42fb-85b4-edf3fbf6a33f",
   "metadata": {
    "tags": []
   },
   "source": [
    "## Tarea 3: Crear un dataset sintético con parámetros no considerados\n",
    "\n",
    "En ocasiones, con datasets de la vida real, sucede que nuestra variable Y viene influenciada por múltiples características, de las cuales puede que no estemos considerando todas. Imagina, p. ej., una tasación de viviendas, pero que haya alguna característica de las mismas que los clientes tengan en consideración pero que nosotros no la tengamos disponible en nuestro set de datos de entrenamiento.\n",
    "\n",
    "P. ej., la cercanía a la parada de metro, bus o cercanías más próxima, el tiempo hasta la salida a la autovía más cercana, lo moderno del barrio o la diferencia en impuestos municipales frente a otros municipios cercanos.\n",
    "\n",
    "En dichos casos, queremos comparar nuestra implementación o nuestros modelos con modelos que tengan en cuenta más o menos características de las que realmente afectan a la variable Y.\n",
    "\n",
    "Por tanto, un dataset sintético muy útil en estas ocasiones sería aquel que viene dado por múltiples características (múltiples columnas de X), pero que sus columnas se ven reducidas a un número menor finalmente a la hora de entrenar nuestro modelo."
   ]
  },
  {
   "cell_type": "code",
   "execution_count": null,
   "id": "8d73cc78-4bcd-4151-92d0-6c98a82c5e89",
   "metadata": {},
   "outputs": [],
   "source": [
    "# TODO: Crea los siguientes arrays que definen el dataset original con un término de error aleatorio\n",
    "\n",
    "# Escoge unos valores de m y n (tipo: int)\n",
    "m = 0\n",
    "n = 0\n",
    "\n",
    "# X es un array 2D m x n de nºs aleatorios entre -100 y 100\n",
    "# Usa las funciones de Numpy para generar un array m x n de nºs aleatorios entre [0, 1)\n",
    "# Nº aleatorio en el rango [a, b): ndarray * (b - a) + a, donde a = -100 y b = 100\n",
    "X = [...]\n",
    "\n",
    "# Inserta el término de bias b o X0 para paralelizar la ecuación\n",
    "# Inserta una columna de 1. (float) a la izquierda de X con la función de inserción de Numpy np.insert()\n",
    "X = X\n",
    "\n",
    "# Theta es un array 1D 1 x n que también podemos implementar como n x 1 (fila)\n",
    "# Genéralo con n + 1 elementos aleatorios [0, 1) para añadir el término de bias\n",
    "Theta = [...]\n",
    "\n",
    "# Computa Y multiplicando los vectores X y Theta con np.matmul()\n",
    "Y = [...]\n",
    "\n",
    "# A partir de aquí, añadimos el término de error e en porcentaje (0.1 = 10%, 0.25 = 25%, etc.)\n",
    "e = 0.1\n",
    "\n",
    "# En la siguiente línea, sustituye \"termino_error\" por un término que represente un número aleatorio en el rango +/- e (i.e. +/- 10%)\n",
    "# De esta forma, el término de error será un porcentaje de +/- el término de error sobre el valor de Y original\n",
    "Y = Y + Y * termino_error\n",
    "\n",
    "# Finalmente, restringe el nº de columnas de X y valores de Theta a considerar a sólo los n_final primeros\n",
    "# Puedes usar los slices de Numpy/Python para ello\n",
    "n_final = 1\n",
    "\n",
    "Y_final = Y\n",
    "X_final = X[...]\n",
    "Theta_final = Theta[...]\n",
    "\n",
    "# Comprueba los valores y dimensiones (forma o \"shape\") de los arrays con la propiedad ndarray.shape\n",
    "print('Theta a estimar:')\n",
    "print()\n",
    "print()\n",
    "\n",
    "print('Primeras 10 filas y 5 columnas de X e Y:')\n",
    "print()\n",
    "print()\n",
    "\n",
    "print('Dimensiones de X e Y:')\n",
    "print('shape', 'shape')"
   ]
  },
  {
   "cell_type": "markdown",
   "id": "32cdbe0b-e49e-4706-902b-454b4433a1f9",
   "metadata": {},
   "source": [
    "## Tarea 4: Crear un dataset sintético con Scikit-learn\n",
    "\n",
    "Scikit-learn viene con varios módulos para disponer de datasets para desarrollo o evaluación. Habitualmente usamos datasets generados sintéticamente para desarrollo, y utilizamos alguno de los datasets más comunes para evaluar y comparar diferentes algoritmos e implementaciones, como veremos durante el curso.\n",
    "\n",
    "Las herramientas de generación de datasets puedes encontrarlas en la documentación: https://scikit-learn.org/stable/datasets/sample_generators.html\n",
    "\n",
    "Recuerda que, habitualmente, cada página de la documentación incluye varios notebooks con ejemplos de su uso.\n",
    "\n",
    "Revisa la documentación en detalle, puesto que estas funciones las podrás utilizar durante el curso para cualquier dataset que necesites descargarte o generar sintéticamente."
   ]
  },
  {
   "cell_type": "code",
   "execution_count": null,
   "id": "65f752a6-c2ff-4847-a61a-e43229eb1ca1",
   "metadata": {},
   "outputs": [],
   "source": [
    "# TODO: Usa las funciones de Scikit-learn para generar un dataset sintético pensado para resolver un problema de regresión lineal multivariable\n",
    "# Escoge la función correcta para ello\n",
    "\n",
    "# Importa el módulo correspondiente\n",
    "from sklearn import [...]\n",
    "\n",
    "# Genera el dataset con la función correspondiente y obten la Theta o coeficientes utilizados para generar el dataset\n",
    "# Habitualmente se realiza con el parámetro coef=True\n",
    "# Recuerda añadir un término de error/ruido\n",
    "X, Y, Theta = [...]\n",
    "\n",
    "# Comprueba los valores y dimensiones (forma o \"shape\") de los arrays con la propiedad ndarray.shape\n",
    "print('Theta a estimar:')\n",
    "print()\n",
    "print()\n",
    "\n",
    "print('Primeras 10 filas y 5 columnas de X e Y:')\n",
    "print()\n",
    "print()\n",
    "\n",
    "print('Dimensiones de X e Y:')\n",
    "print('shape', 'shape')"
   ]
  },
  {
   "cell_type": "markdown",
   "id": "1e900efc-1f1c-42df-87f4-352f6fd2c3e7",
   "metadata": {},
   "source": [
    "*¿Qué m y n tendrá dicho dataset?*"
   ]
  },
  {
   "cell_type": "code",
   "execution_count": null,
   "id": "b9ffd30b-af67-43eb-93fa-910b6caeccee",
   "metadata": {},
   "outputs": [],
   "source": [
    "# TODO: Averigua la m y n de dicho dataset con la forma o tamaño de los arrays\n",
    "m = [...]\n",
    "n = [...]"
   ]
  },
  {
   "cell_type": "markdown",
   "id": "9c2bd9ff-6726-4de5-b308-37c94f5e39a8",
   "metadata": {},
   "source": [
    "Repite los pasos de la celda anterior para descargar un dataset pequeño de muestra o \"toy\" pensado para resolver un problema de regresión lineal multivariable.\n",
    "\n",
    "Datasets toy: https://scikit-learn.org/stable/datasets/toy_dataset.html"
   ]
  },
  {
   "cell_type": "code",
   "execution_count": null,
   "id": "8024392f-9416-4f7c-839a-2017a4de5ebf",
   "metadata": {},
   "outputs": [],
   "source": [
    "# TODO: Repite los pasos de la celda anterior para descargar un dataset pequeño de muestra o \"toy\" pensado para resolver un problema de regresión lineal multivariable\n",
    "# Escoge uno de los datasets correctos para ello"
   ]
  }
 ],
 "metadata": {
  "environment": {
   "kernel": "python3",
   "name": "common-cpu.m94",
   "type": "gcloud",
   "uri": "gcr.io/deeplearning-platform-release/base-cpu:m94"
  },
  "kernelspec": {
   "display_name": "Python 3",
   "language": "python",
   "name": "python3"
  },
  "language_info": {
   "codemirror_mode": {
    "name": "ipython",
    "version": 3
   },
   "file_extension": ".py",
   "mimetype": "text/x-python",
   "name": "python",
   "nbconvert_exporter": "python",
   "pygments_lexer": "ipython3",
   "version": "3.7.12"
  }
 },
 "nbformat": 4,
 "nbformat_minor": 5
}
