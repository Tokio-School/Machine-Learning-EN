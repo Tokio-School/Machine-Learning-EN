{
 "cells": [
  {
   "cell_type": "markdown",
   "id": "09a786aa-445c-4259-851a-e9fe70f57f36",
   "metadata": {},
   "source": [
    "# Simple Linear Regression: Least-squares adjustment\n",
    "M2U1 - Exercise 1\n",
    "\n",
    "## What are we going to do?\n",
    "- Import datasets into the working environment\n",
    "- Manually fit a simple least squares linear regression\n",
    "- Solve said regression using NumPy mathematical functions\n",
    "- Visualise the regression with Matplotlib\n",
    "\n",
    "Remember to follow the instructions for the submission of assignments indicated in [Submission Instructions](https://github.com/Tokio-School/Machine-Learning-EN/blob/main/Submission_instructions.md)."
   ]
  },
  {
   "cell_type": "markdown",
   "id": "1997f247-8b3e-497d-b468-8dcad6344edb",
   "metadata": {},
   "source": [
    "## Task 1: Import datasets\n",
    "\n",
    "For this exercise we must import the following datasets into the local environment, that we used in a previous exercise, and which will be available in that unit:\n",
    "- [M1U1-2-dataset_tarea2.csv](https://github.com/Tokio-School/Machine-Learning/blob/main/M01-Introducci%C3%B3n_al_Machine_Learning/M1U1-Introducci%C3%B3n_al_big_data_y_ML/M1U1-2-dataset_tarea2.csv)\n",
    "\n",
    "Depending on your work environment, you will need to follow different steps to import the datasets. You can import them either in Google Colab or in your VM or local environment, using the JupyterLab interface or using your environment's functionalities.\n",
    "Because the environments are so different, we don't include step-by-step instructions for doing this, but you shouldn't have any difficulty importing them :).\n",
    "\n",
    "Take this time to familiarise yourself with your working environment and explore the options for importing datasets locally."
   ]
  },
  {
   "cell_type": "markdown",
   "id": "2a94c225-5a82-43dc-995a-5d093f1932ec",
   "metadata": {},
   "source": [
    "## Task 2: Fitting simple linear regression using least squares\n",
    "\n",
    "For this task, we will fit the regression step by step, calculating each value with NumPy to familiarise ourselves with its functions.\n",
    "\n",
    "**Note:** We are only going to use NumPy's sum function. In the next task we will use the functions to directly calculate the mean of an array, standard deviations or covariance."
   ]
  },
  {
   "cell_type": "code",
   "execution_count": null,
   "id": "919f7af3-3e63-42e9-aa30-92426332bfc2",
   "metadata": {},
   "outputs": [],
   "source": [
    "import numpy as np"
   ]
  },
  {
   "cell_type": "markdown",
   "id": "a90818e5-051c-41bc-b489-024b52dc5063",
   "metadata": {},
   "source": [
    "### Import the datasets into NumPy\n",
    "\n",
    "Execute the following cell to import the dataset as a NumPy array, making sure that the dataset name is correct and that the file is in the same directory as the notebook.\n",
    "\n",
    "*NOTA:* Si utilizas Google Colab, utiliza estos métodos para subir el archivo desde local o Google Drive: [External data: Local Files, Drive, Sheets, and Cloud Storage](https://colab.research.google.com/notebooks/io.ipynb)"
   ]
  },
  {
   "cell_type": "code",
   "execution_count": null,
   "id": "ef567219-93d8-404b-80cd-f2296bdd6f38",
   "metadata": {},
   "outputs": [],
   "source": [
    "import csv\n",
    "\n",
    "with open('M1U1-2-dataset_tarea2.csv') as csvfile:\n",
    "    read_csv = list(csv.reader(csvfile))\n",
    "    \n",
    "# Delete header\n",
    "read_csv = read_csv[1:]\n",
    "\n",
    "# Change the decimal comma characters to periods\n",
    "for line in read_csv:\n",
    "    for i in [0, 1]:\n",
    "        line[i] = line[i].replace(',', '.')\n",
    "    \n",
    "    \n",
    "# Load as a NumPy array\n",
    "dataset = np.asarray(read_csv).astype(np.float)\n",
    "\n",
    "print(dataset)"
   ]
  },
  {
   "cell_type": "markdown",
   "id": "9829d322-e107-48ac-96c3-514cf8f1aec9",
   "metadata": {},
   "source": [
    "We already have the data in a 2D NumPy array.\n",
    "\n",
    "Now, fill in the code in the following cells to fit the linear regression:"
   ]
  },
  {
   "cell_type": "code",
   "execution_count": null,
   "id": "33cbd408-f9e0-4a8e-b0c2-a29708ad27b8",
   "metadata": {},
   "outputs": [],
   "source": [
    "## TODO: Create 2 1D arrays from the imported dataset corresponding to the X and Y columns of the CSV file\n",
    "\n",
    "X = [...]\n",
    "Y = [...]"
   ]
  },
  {
   "cell_type": "code",
   "execution_count": null,
   "id": "34d8e1fc-6dbb-488b-8ea7-2f312ecc5c87",
   "metadata": {},
   "outputs": [],
   "source": [
    "## TODO: Before training the model, plot the data on a Matplotlib dot plot.\n",
    "\n",
    "import matplotlib.pyplot as plt\n",
    "\n",
    "# You can use the scatter () function\n",
    "\n",
    "plt.show()"
   ]
  },
  {
   "cell_type": "markdown",
   "id": "20d5871f-dae6-4a24-b16f-0994ab3c52ea",
   "metadata": {},
   "source": [
    "Recall the linear regression equations:\n",
    "\n",
    "$$Y=m \\times X + b$$\n",
    "\n",
    "$$m=\\frac{\\sum XY - \\frac{(\\sum X)(\\sum Y)}{n}}{\\sum X^2-\\frac{(\\sum X)^2}{n}}$$\n",
    "\n",
    "$$b=\\overline{Y} - m \\times \\overline{X}$$"
   ]
  },
  {
   "cell_type": "code",
   "execution_count": null,
   "id": "2213caf3-c5a1-416e-9157-e0fe0c7b0909",
   "metadata": {},
   "outputs": [],
   "source": [
    "## TODO: Calculate m using the function np.sum(ndarray) or ndarray.sum(), where ndarray is the array to be summed\n",
    "n = [...]\n",
    "\n",
    "# Remember, it's an element-to-element vector multiplication. Use the np.multiply() function\n",
    "# In other exercises in the course we will use np.matmul() to multiply 2D matrices instead\n",
    "XY = [...]\n",
    "\n",
    "X2 = [...]    # Array X-squared\n",
    "\n",
    "m = [...]"
   ]
  },
  {
   "cell_type": "code",
   "execution_count": null,
   "id": "698fb7fb-ef75-49a3-b2fc-35c348f357a8",
   "metadata": {},
   "outputs": [],
   "source": [
    "## TODO: Calculate b\n",
    "\n",
    "# TODO: Replace \"sum_y\" y \"sum_x\" with the corresponding code or variables\n",
    "y_avg = sum_y / n\n",
    "x_avg = sum_x / n\n",
    "\n",
    "b = [...]"
   ]
  },
  {
   "cell_type": "markdown",
   "id": "1f12efa1-8eec-4c4f-b0ea-0124c847259c",
   "metadata": {},
   "source": [
    "Evaluate the model by calculating its R<sup>2</sup>.\n",
    "\n",
    "Recall the equations for calculating the correlation coefficient:\n",
    "\n",
    "$$R^2 = \\frac{\\sigma_{XY}}{\\sigma_X \\cdot \\sigma_Y};$$\n",
    "\n",
    "$$S_{XY} = \\frac{1}{n - 1} [\\sum_{i = 1}^{n}{x_i y_i - \\bar{x}\\bar{y}}]$$\n",
    "\n",
    "$$\\sigma_X = \\sqrt{\\frac{\\sum X^2}{n} - \\bar{X}^2};$$\n",
    "\n",
    "$$\\sigma_Y = \\sqrt{\\frac{\\sum Y^2}{n} - \\bar{Y}^2}$$\n",
    "\n",
    "*Note:* We will use a slightly different formula for covariance than the one used in previous exercises."
   ]
  },
  {
   "cell_type": "code",
   "execution_count": null,
   "id": "e7404c96-db6f-4858-b543-9766a90cf6ab",
   "metadata": {},
   "outputs": [],
   "source": [
    "## TODO: Calculate R**2\n",
    "\n",
    "x_std = [...]\n",
    "y_std = [...]\n",
    "cov_xy = [...]\n",
    "\n",
    "r2 = [...]"
   ]
  },
  {
   "cell_type": "markdown",
   "id": "904e932d-f9c7-4615-8dd9-4fe4b3fc71df",
   "metadata": {},
   "source": [
    "Calculate the predictions of Y as *y_pred* for the original X values, with the coefficients of the fitted model:\n",
    "\n",
    "$y\\_pred = m \\times X + b$"
   ]
  },
  {
   "cell_type": "code",
   "execution_count": null,
   "id": "cec3b5c2-31a5-4bcd-860d-e38100184a9c",
   "metadata": {},
   "outputs": [],
   "source": [
    "## TODO: Calculate y_pred\n",
    "y_pred = [...]"
   ]
  },
  {
   "cell_type": "code",
   "execution_count": null,
   "id": "160d75fd-5c06-4b27-a214-17e954f2058e",
   "metadata": {},
   "outputs": [],
   "source": [
    "# TODO: Using Matplotlib, plot a graph with 2 series in different colours: Y vs X, y_pred vs X\n",
    "# Use a dot plot for Y vs X and a line chart for y_pred vs X\n",
    "\n",
    "[...]"
   ]
  },
  {
   "cell_type": "markdown",
   "id": "8cdd11f5-535a-4ee9-95a3-365882ff6a45",
   "metadata": {},
   "source": [
    "## Task 3: Fitting linear regression using NumPy's mathematical functions\n",
    "\n",
    "Now, repeat the steps above to fit the linear regression taking full advantage of NumPy's capabilities, its functions for calculating the sum, mean, standard deviation, and covariance of arrays."
   ]
  },
  {
   "cell_type": "code",
   "execution_count": null,
   "id": "0d9af855-ae41-45d3-84b5-2bfecd9abb57",
   "metadata": {},
   "outputs": [],
   "source": [
    "## TODO: Solve the linear regression using NumPy's advanced functions\n",
    "## Use new variable names such as np_x_avg, np_x_std, np_r2, etc.\n",
    "\n",
    "np_m = [...]\n",
    "np_b = [...]\n",
    "np_r2 = [...]"
   ]
  },
  {
   "cell_type": "markdown",
   "id": "af7aae8e-bd19-4be7-8b91-897447cd4b5d",
   "metadata": {},
   "source": [
    "## Task 4: Calculate the residuals and make predictions\n",
    "\n",
    "Calculate the residuals of your model:\n",
    "\n",
    "$residuos = Y - Y\\_pred$"
   ]
  },
  {
   "cell_type": "code",
   "execution_count": null,
   "id": "7fb0dc6d-3457-4ceb-84ef-91945c865461",
   "metadata": {},
   "outputs": [],
   "source": [
    "## TODO: Calculate the residuals and plot them with Matplotlib on a dot plot vs X\n",
    "\n",
    "res = [...]\n",
    "\n",
    "# Matplotlib graphs"
   ]
  },
  {
   "cell_type": "markdown",
   "id": "af7cc76d-4683-473c-a8d0-ab44c302441d",
   "metadata": {},
   "source": [
    "Make predictions for 2 (or more) new values of X, 1 value for interpolation and 1 value for extrapolation."
   ]
  },
  {
   "cell_type": "code",
   "execution_count": null,
   "id": "aada49b7-7cc0-4a73-9780-93dbea3b934e",
   "metadata": {},
   "outputs": [],
   "source": [
    "# TODO: Makes predictions with the fitted model\n",
    "\n",
    "x_interpol = [...]\n",
    "y_interpol = [...]\n",
    "\n",
    "x_extrapol = [...]\n",
    "y_extrapol = [...]"
   ]
  },
  {
   "cell_type": "markdown",
   "id": "3b22110e-860e-4e63-99bb-02bb235f604b",
   "metadata": {},
   "source": [
    "Graphically represent the predictions for the training values."
   ]
  },
  {
   "cell_type": "code",
   "execution_count": null,
   "id": "24cd1e05-4fad-4aa8-b6ad-a1b74717e08f",
   "metadata": {},
   "outputs": [],
   "source": [
    "# TODO: Represents the predictions as points of a different series on the training Y vs X point cloud\n"
   ]
  },
  {
   "cell_type": "markdown",
   "id": "ab83d264-1f48-4ff5-993e-af9bebbc0cfa",
   "metadata": {},
   "source": [
    "## Task 5: Resolution with Scikit-learn\n",
    "\n",
    "*Do you dare to solve a simple linear regression using Scikit-learn? And to evaluate it and make predictions?*\n",
    "\n",
    "Revise the code from this notebook and adapt it to use our data: [https://scikit-learn.org/stable/auto_examples/linear_model/plot_ols.html](https://scikit-learn.org/stable/auto_examples/linear_model/plot_ols.html)"
   ]
  },
  {
   "cell_type": "code",
   "execution_count": null,
   "id": "98d7ba99-7b09-4a7a-b30c-bba72cdb393d",
   "metadata": {},
   "outputs": [],
   "source": [
    "# TODO: Solve the simple linear regression from the said example using Scikit-learn"
   ]
  }
 ],
 "metadata": {
  "environment": {
   "kernel": "python3",
   "name": "common-cpu.m87",
   "type": "gcloud",
   "uri": "gcr.io/deeplearning-platform-release/base-cpu:m87"
  },
  "kernelspec": {
   "display_name": "Python 3",
   "language": "python",
   "name": "python3"
  },
  "language_info": {
   "codemirror_mode": {
    "name": "ipython",
    "version": 3
   },
   "file_extension": ".py",
   "mimetype": "text/x-python",
   "name": "python",
   "nbconvert_exporter": "python",
   "pygments_lexer": "ipython3",
   "version": "3.7.12"
  }
 },
 "nbformat": 4,
 "nbformat_minor": 5
}
