{
 "cells": [
  {
   "cell_type": "markdown",
   "id": "698d5c36-4987-499b-bf55-0a49e04ff20b",
   "metadata": {},
   "source": [
    "# SVM: Scikit-learn on the Labeled Faces in the Wild dataset\n",
    "M2U5 - Exercise 13\n",
    "\n",
    "## What are we going to do?\n",
    "- We will download and analyse the Labeled Faces in the Wild (LFW) dataset\n",
    "- We will preprocess the dataset\n",
    "- We will train a multiclass classification model using SVM\n",
    "- We will evaluate the accuracy of the model and represent it graphically\n",
    "\n",
    "Remember to follow the instructions for the submission of assignments indicated in [Submission Instructions](https://github.com/Tokio-School/Machine-Learning-EN/blob/main/Submission_instructions.md).\n",
    "\n",
    "## Instructions\n",
    "This will be a challenging exercise, without instructions, but very similar to the previous ones:\n",
    "1. Train an SVM model to classify images from the \"Labeled Faces in the Wild\" or LFW dataset, available from Scikit-learn\n",
    "1. Load the dataset for the multiclass classification task or \"Face Identification task\"\n",
    "1. The dataset has a disk size of 200 Mb, so it will take a few seconds to load the first time.\n",
    "1. Load and preprocess the data, train an initial model, optimise its regularisation, evaluate it, and plot some of its predictions and all its errors, and process them manually.\n",
    "\n",
    "*Psst, remember that there is probably information and examples about this online. Cheer up!*"
   ]
  }
 ],
 "metadata": {
  "environment": {
   "kernel": "python3",
   "name": "common-cpu.m87",
   "type": "gcloud",
   "uri": "gcr.io/deeplearning-platform-release/base-cpu:m87"
  },
  "kernelspec": {
   "display_name": "Python 3",
   "language": "python",
   "name": "python3"
  },
  "language_info": {
   "codemirror_mode": {
    "name": "ipython",
    "version": 3
   },
   "file_extension": ".py",
   "mimetype": "text/x-python",
   "name": "python",
   "nbconvert_exporter": "python",
   "pygments_lexer": "ipython3",
   "version": "3.7.12"
  }
 },
 "nbformat": 4,
 "nbformat_minor": 5
}
