{
 "cells": [
  {
   "cell_type": "markdown",
   "id": "8199a0fd-7f83-4390-a6c0-06b3a5e5ed92",
   "metadata": {},
   "source": [
    "# Logistic Regression: The Iris dataset\n",
    "M2U5 - Exercise 7\n",
    "\n",
    "## What are we going to do?\n",
    "- We will download and analyse the Iris dataset\n",
    "- We will preprocess the dataset\n",
    "- We will train a classification model on the Iris dataset\n",
    "- We will optimise our model using validation\n",
    "\n",
    "Remember to follow the instructions for the submission of assignments indicated in [Submission Instructions](https://github.com/Tokio-School/Machine-Learning-EN/blob/main/Submission_instructions.md).\n",
    "\n",
    "## Instructions\n",
    "The Iris dataset is one of the best known and most widely used datasets in ML. It is commonly used as an example to explain model algorithms and is also widely used to compare various models with each other, based on their accuracy on the dataset.\n",
    "\n",
    "You can learn more about this dataset on Wikipedia: [Iris flower dataset](https://en.wikipedia.org/wiki/Iris_flower_data_set)\n",
    "\n",
    "You can find this model on Scikit-learn as [example dataset](https://scikit-learn.org/stable/datasets/toy_dataset.html#iris-dataset) and load it with the function [sklearn.datasets.load_iris](https://scikit-learn.org/stable/modules/generated/sklearn.datasets.load_iris.html).\n",
    "\n",
    "In this exercise you will follow the same steps from the previous exercise to solve a 3-class classification model, in this case using a real dataset."
   ]
  },
  {
   "cell_type": "code",
   "execution_count": null,
   "id": "64a72dff-c3be-4a65-944e-73b65030b909",
   "metadata": {},
   "outputs": [],
   "source": [
    "# TODO: Import all the necessary modules into this cell"
   ]
  },
  {
   "cell_type": "markdown",
   "id": "9ff80868-03e7-434c-ad4a-c12a49bd3a29",
   "metadata": {},
   "source": [
    "## Load the Iris dataset\n",
    "\n",
    "Load the dataset and analyse some of the examples to learn more about it.\n",
    "\n",
    "To plot them graphically, you can follow this example: [The Iris Dataset](https://scikit-learn.org/stable/auto_examples/datasets/plot_iris_dataset.html)"
   ]
  },
  {
   "cell_type": "code",
   "execution_count": null,
   "id": "2c431506-794f-4380-920c-81df66eaeb14",
   "metadata": {},
   "outputs": [],
   "source": [
    "# TODO: Load the Iris dataset as X and Y arrays\n",
    "# Check to see what format Y is encoded in"
   ]
  },
  {
   "cell_type": "code",
   "execution_count": null,
   "id": "a92380df-b9a9-4a6f-837d-61d17c091b8b",
   "metadata": {},
   "outputs": [],
   "source": [
    "# TODO: Plot the distribution of examples on a 3D graph"
   ]
  },
  {
   "cell_type": "markdown",
   "id": "2ef83629-aefd-4adb-a79a-ac8432f2e69c",
   "metadata": {},
   "source": [
    "## Preprocess the data\n",
    "\n",
    "Preprocess the data following the usual steps:\n",
    "- Randomly reorder the data.\n",
    "- Normalise the data, only if necessary.\n",
    "- Divide the dataset into training, validation, and test subsets.\n",
    "\n",
    "*Note*: Be careful when dividing them into subsets, *how many examples does the original dataset have?*"
   ]
  },
  {
   "cell_type": "code",
   "execution_count": null,
   "id": "b4ecc41a-1fe6-4baa-88d9-5c9730eaab36",
   "metadata": {},
   "outputs": [],
   "source": [
    "# TODO: Randomly reorder the data, normalise it only if necessary and divide it into training, validation, and test subsets"
   ]
  },
  {
   "cell_type": "markdown",
   "id": "56e7d878-abf6-4f4e-b554-e1f31b18a2fe",
   "metadata": {},
   "source": [
    "## Implement the sigmoid activation function, the regularised cost function and the regularised gradient descent training function\n",
    "\n",
    "Copy code from previous exercises to implement these functions:"
   ]
  },
  {
   "cell_type": "code",
   "execution_count": null,
   "id": "621fd9ac-f9dd-4111-ac7a-a3c85f07fa3b",
   "metadata": {},
   "outputs": [],
   "source": [
    "# TODO: Implement the sigmoid function"
   ]
  },
  {
   "cell_type": "code",
   "execution_count": null,
   "id": "b165be9d-e4be-4353-95da-b49a531ef2dd",
   "metadata": {},
   "outputs": [],
   "source": [
    "# TODO: Implement the regularised cost and gradient descent functions"
   ]
  },
  {
   "cell_type": "markdown",
   "id": "512d5fe3-c7ea-4391-833d-18fb12c3969b",
   "metadata": {},
   "source": [
    "## Train an initial model for each class\n",
    "\n",
    "To make sure your implementation works well with the dataset format, train a simple initial model for each class without regularisation.\n",
    "\n",
    "Check to see if your implementation works well with the dataset format. If necessary, modify the dataset so that you can use it with your code.\n",
    "\n",
    "Modify the training parameters and retrain if necessary:"
   ]
  },
  {
   "cell_type": "code",
   "execution_count": null,
   "id": "13c95387-addc-4930-91e3-ca9964af9d5e",
   "metadata": {},
   "outputs": [],
   "source": [
    "# TODO: Train your models on the unregularised training subset"
   ]
  },
  {
   "cell_type": "markdown",
   "id": "21a787be-f3a4-4f9f-b832-3dbf0f07ad8a",
   "metadata": {},
   "source": [
    "## Find the optimal *lambda* hyperparameter using validation\n",
    "\n",
    "Once the initial model has been trained, and we have verified its performance, we are going to train a model for each of the 3 classes, with various values of *lambda*, as in previous exercises:"
   ]
  },
  {
   "cell_type": "code",
   "execution_count": null,
   "id": "8432c9dd-b5c6-4a6d-8fb9-7a7cdb7fb1d7",
   "metadata": {},
   "outputs": [],
   "source": [
    "# TODO: Train a model for each different lambda value for each of the classes, and evaluate it on X_val\n",
    "\n",
    "# Use a logarithmic space between 10 and 10^3 with 5 elements with non-zero decimal values starting with a 1 or a 3\n",
    "# By training more models, we can evaluate fewer lambda values to reduce the training time\n",
    "lambdas = [...]"
   ]
  },
  {
   "cell_type": "code",
   "execution_count": null,
   "id": "23aaf395-42cd-4034-9920-ba493c257f11",
   "metadata": {},
   "outputs": [],
   "source": [
    "# TODO: Plot the final error for each lambda value with one plot per class"
   ]
  },
  {
   "cell_type": "markdown",
   "id": "580f652d-c6c7-441e-9eb4-e5f79f0989c4",
   "metadata": {},
   "source": [
    "### Choosing the best model for each class\n",
    "\n",
    "Copy the code cells from the previous exercises and modify them as is necessary:"
   ]
  },
  {
   "cell_type": "code",
   "execution_count": null,
   "id": "24bc1176-4619-4065-b30d-6909f5728f26",
   "metadata": {},
   "outputs": [],
   "source": [
    "# TODO: Choose the optimal models and lambda values for each class on the validation subset"
   ]
  },
  {
   "cell_type": "markdown",
   "id": "04198b68-e1bd-413d-b7ad-1f891893f260",
   "metadata": {},
   "source": [
    "## Evaluate the models on the test subset\n",
    "\n",
    "Once the models have been trained, evaluate them on the test subset in the same way as you did in previous exercises: for the whole test subset, make a prediction for each model in each class and choose the one with the best result after the sigmoid.\n",
    "\n",
    "Calculate the residuals for these predictions and plot them graphically.\n",
    "\n",
    "In this way, we are evaluating our model in a much more realistic environment, while also using a real dataset:"
   ]
  },
  {
   "cell_type": "code",
   "execution_count": null,
   "id": "5e83798f-7a09-49ca-86f7-9c1b6f5d26e4",
   "metadata": {},
   "outputs": [],
   "source": [
    "# TODO: Calculate the model error with the residuals on the test subset and plot them graphically"
   ]
  }
 ],
 "metadata": {
  "environment": {
   "kernel": "python3",
   "name": "common-cpu.m87",
   "type": "gcloud",
   "uri": "gcr.io/deeplearning-platform-release/base-cpu:m87"
  },
  "kernelspec": {
   "display_name": "Python 3",
   "language": "python",
   "name": "python3"
  },
  "language_info": {
   "codemirror_mode": {
    "name": "ipython",
    "version": 3
   },
   "file_extension": ".py",
   "mimetype": "text/x-python",
   "name": "python",
   "nbconvert_exporter": "python",
   "pygments_lexer": "ipython3",
   "version": "3.7.12"
  }
 },
 "nbformat": 4,
 "nbformat_minor": 5
}
