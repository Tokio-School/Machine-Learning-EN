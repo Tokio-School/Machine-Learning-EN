{
 "cells": [
  {
   "cell_type": "markdown",
   "id": "618abd8b-9a93-4355-bcdf-ad6a4d2b0f6a",
   "metadata": {},
   "source": [
    "# SSVM: Scikit-learn on the Digits dataset\n",
    "M2U5 - Exercise 12\n",
    "\n",
    "## What are we going to do?\n",
    "- We will download the Digits dataset to classify it using OCR\n",
    "- We will preprocess the dataset using Scikit-learn methods\n",
    "- We will train a multiclass classification model using SVM\n",
    "- We will evaluate the accuracy of the model and represent it graphically\n",
    "\n",
    "Remember to follow the instructions for the submission of assignments indicated in [Submission Instructions](https://github.com/Tokio-School/Machine-Learning-EN/blob/main/Submission_instructions.md).\n",
    "\n",
    "## Instructions\n",
    "In a previous exercise, we solved the problem of OCR handwritten digit classification by logistic regression using Scikit-learn.\n",
    "\n",
    "This application and dataset can be complex, so we expect an SVM classification model to be more accurate than a linear logistic regression one.\n",
    "\n",
    "Repeat the steps to train an SVM model on this dataset, optimise it by CV with K-fold and finally, evaluate it.\n",
    "\n",
    "References:\n",
    "- You can find the features of the dataset here: [Optical recognition of handwritten digits dataset](https://scikit-learn.org/stable/datasets/toy_dataset.html#digits-dataset)\n",
    "- Loading function: [sklearn.datasets.load_digits](https://scikit-learn.org/stable/modules/generated/sklearn.datasets.load_digits.html)\n",
    "- You can use this notebook as a reference: [Recognising hand-written digits](https://scikit-learn.org/stable/auto_examples/classification/plot_digits_classification.html)"
   ]
  },
  {
   "cell_type": "code",
   "execution_count": null,
   "id": "17dbdde5-6267-41c9-9688-13a1bd278b42",
   "metadata": {},
   "outputs": [],
   "source": [
    "# TODO: Import all the necessary modules into this cell"
   ]
  },
  {
   "cell_type": "markdown",
   "id": "e0d21357-631e-4d60-9d47-f3947970af95",
   "metadata": {},
   "source": [
    "## Load the Digits dataset\n",
    "\n",
    "Plot some of the examples and their associated classes or digits:"
   ]
  },
  {
   "cell_type": "code",
   "execution_count": null,
   "id": "d1acf85e-d09c-4382-8a4b-2963d0fe99d0",
   "metadata": {},
   "outputs": [],
   "source": [
    "# TODO: Load the Digits dataset as X and Y arrays representing some of the examples"
   ]
  },
  {
   "cell_type": "markdown",
   "id": "56ecfe35-a31e-49a4-a739-20396aaf5c51",
   "metadata": {},
   "source": [
    "## Preprocess the data\n",
    "\n",
    "Preprocess the data using Scikit-learn methods, as you did in the Scikit-learn logistic regression exercise:\n",
    "\n",
    "- Randomly reorder the data.\n",
    "- Normalise the data, if necessary.\n",
    "- Divide the dataset into training and test subsets.\n",
    "\n",
    "On this occasion, we will once again use K-fold for cross-validation."
   ]
  },
  {
   "cell_type": "code",
   "execution_count": null,
   "id": "d5daf04c-1e71-44da-a390-8b07259e872f",
   "metadata": {},
   "outputs": [],
   "source": [
    "# TODO: Randomly reorder the data"
   ]
  },
  {
   "cell_type": "code",
   "execution_count": null,
   "id": "dcd58951-5534-4fd9-85c0-a7bd9d2ecced",
   "metadata": {},
   "outputs": [],
   "source": [
    "# TODO: Normalise the data, only if necessary"
   ]
  },
  {
   "cell_type": "code",
   "execution_count": null,
   "id": "4a296801-2dab-4a87-af79-8dd3d6e020ea",
   "metadata": {},
   "outputs": [],
   "source": [
    "# TODO: Divide the dataset into training and test subsets"
   ]
  },
  {
   "cell_type": "markdown",
   "id": "01014324-4b90-4a25-b7e5-86c20895242f",
   "metadata": {},
   "source": [
    "## Train an initial classification model using SVM\n",
    "\n",
    "To check the performance of our SVC classifier, we will train an initial model on the training subset and validate it on the test subset.\n",
    "\n",
    "Remember, use the [decision_function_shape](https://scikit-learn.org/stable/modules/svm.html#multi-class-classification) function to use the \"one versus the rest\" (OVR) scheme.\n",
    "\n",
    "Use the default values for *C* and *gamma* so as not to influence their regularisation:"
   ]
  },
  {
   "cell_type": "code",
   "execution_count": null,
   "id": "c4a17d31-5678-4073-8dad-12831c79ddd5",
   "metadata": {},
   "outputs": [],
   "source": [
    "# TODO: Train an SVC model without modifying the regularisation parameters on the training subset"
   ]
  },
  {
   "cell_type": "markdown",
   "id": "c75b9417-633c-4a48-9833-46570d582d7b",
   "metadata": {},
   "source": [
    "To evaluate the model, we can use a confusion matrix. In this matrix we represent, for each of the classes (10 in this case), how many examples have been predicted correctly, how many have been misclassified, and which classes we had predicted for them.\n",
    "\n",
    "You can represent the confusion matrix using the [sklearn.metrics.plot_confusion_matrix](https://scikit-learn.org/stable/modules/generated/sklearn.metrics.plot_confusion_matrix.html) function that you can find in this example: [Recognising hand-written digits](https://scikit-learn.org/stable/auto_examples/classification/plot_digits_classification.html)\n",
    "\n",
    "*NOTE:* Do you have the courage to use a more appropriate colour scale for this case?"
   ]
  },
  {
   "cell_type": "code",
   "execution_count": null,
   "id": "6523e812-57bb-4986-8e51-98d10eadd398",
   "metadata": {},
   "outputs": [],
   "source": [
    "# TODO: Evaluate the model with its model.score() on the test subset."
   ]
  },
  {
   "cell_type": "code",
   "execution_count": null,
   "id": "d1889b36-744d-41e0-a5d6-d9c4b1b64264",
   "metadata": {},
   "outputs": [],
   "source": [
    "# TODO: Plot the confusion matrix for the model"
   ]
  }
 ],
 "metadata": {
  "environment": {
   "kernel": "python3",
   "name": "common-cpu.m87",
   "type": "gcloud",
   "uri": "gcr.io/deeplearning-platform-release/base-cpu:m87"
  },
  "kernelspec": {
   "display_name": "Python 3",
   "language": "python",
   "name": "python3"
  },
  "language_info": {
   "codemirror_mode": {
    "name": "ipython",
    "version": 3
   },
   "file_extension": ".py",
   "mimetype": "text/x-python",
   "name": "python",
   "nbconvert_exporter": "python",
   "pygments_lexer": "ipython3",
   "version": "3.7.12"
  }
 },
 "nbformat": 4,
 "nbformat_minor": 5
}
