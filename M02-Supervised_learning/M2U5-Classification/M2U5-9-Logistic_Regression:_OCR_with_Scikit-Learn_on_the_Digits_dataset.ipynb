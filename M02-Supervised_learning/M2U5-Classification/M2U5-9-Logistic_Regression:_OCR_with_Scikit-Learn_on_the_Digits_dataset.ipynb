{
 "cells": [
  {
   "cell_type": "markdown",
   "id": "da2bd14f-37ec-4dc8-ab9a-2f391efef395",
   "metadata": {},
   "source": [
    "# Logistic Regression: OCR with Scikit-Learn on the Digits dataset\n",
    "\n",
    "## What are we going to do?\n",
    "- We will download the handwritten digits dataset to classify it using OCR (\"optical character recognition\").\n",
    "- We will preprocess the dataset using Scikit-learn methods.\n",
    "- We will train a multiclass classification model using Scikit-learn.\n",
    "\n",
    "OCR is a set of techniques related to machine-learning and deep-learning or neural networks that attempts to visually recognise handwritten characters.\n",
    "\n",
    "As the character set is relatively small (10 classes), it is a model that we can sometimes simply solve using logistic classification or SVM.\n",
    "\n",
    "- You can find the features of the dataset here: [Optical recognition of handwritten digits dataset](https://scikit-learn.org/stable/datasets/toy_dataset.html#digits-dataset)\n",
    "- You can load it with this function: [sklearn.datasets.load_digits](https://scikit-learn.org/stable/modules/generated/sklearn.datasets.load_digits.html)\n",
    "- You can use this notebook as a reference: [Recognising hand-written digits](https://scikit-learn.org/stable/auto_examples/classification/plot_digits_classification.html)\n",
    "\n",
    "Repeat the steps of the previous exercise to train an OCR ML model on this dataset with Scikit learn's [LogisticRegression](https://scikit-learn.org/stable/modules/generated/sklearn.linear_model.LogisticRegression.html) function:"
   ]
  },
  {
   "cell_type": "code",
   "execution_count": null,
   "id": "db3892d8-aa23-41b1-93e3-3cfa05bcd74f",
   "metadata": {},
   "outputs": [],
   "source": [
    "# TODO: Import all the necessary modules into this cell"
   ]
  },
  {
   "cell_type": "markdown",
   "id": "ce3120e4-a247-4790-b7cc-f2554e174bb5",
   "metadata": {},
   "source": [
    "## Load the Digits dataset\n",
    "\n",
    "Before starting to work with the dataset, graph some of the examples and their associated classes or digits:"
   ]
  },
  {
   "cell_type": "code",
   "execution_count": null,
   "id": "b8caed93-016d-485a-845c-3f70f640dfa6",
   "metadata": {},
   "outputs": [],
   "source": [
    "# TODO: Load the Digits dataset as X and Y arrays representing some of the examples"
   ]
  },
  {
   "cell_type": "markdown",
   "id": "5c408285-2b9b-4c4a-80d6-93d2a49ac9c2",
   "metadata": {},
   "source": [
    "## Preprocess the data\n",
    "\n",
    "Preprocess the data using Scikit-learn methods, as you did in the Scikit-learn linear regression exercise:\n",
    "\n",
    "- Randomly reorder the data.\n",
    "- Normalise the data, if necessary.\n",
    "- Divide the dataset into training and test subsets.\n",
    "\n",
    "On this occasion, we will use K-fold cross-validation, as the dataset is very small (150 examples)."
   ]
  },
  {
   "cell_type": "code",
   "execution_count": null,
   "id": "cdbab10d-7840-49d2-99f3-95991210e9bb",
   "metadata": {},
   "outputs": [],
   "source": [
    "# TODO: Randomly reorder the data, normalize it only if necessary, and divide it into training and test subsets."
   ]
  },
  {
   "cell_type": "markdown",
   "id": "6638cb72-22c0-485d-9235-c721e1a96f16",
   "metadata": {},
   "source": [
    "## Train an initial model\n",
    "- Train an initial model on the training subset without regularisation.\n",
    "- Test the suitability of the model and retrain it if necessary.\n",
    "\n",
    "The Scikit-learn function that you can use is [sklearn.linear_model.LogisticRegression](https://scikit-learn.org/stable/modules/generated/sklearn.linear_model.LogisticRegression.html) with an OvR scheme (\"one-vs-rest\", one class versus the rest).\n",
    "\n",
    "Evaluate it on the test subset using its `model.score()`:"
   ]
  },
  {
   "cell_type": "code",
   "execution_count": null,
   "id": "b21f1f2c-dec4-4179-b19e-9ad11d0dd7df",
   "metadata": {},
   "outputs": [],
   "source": [
    "# TODO: Train your model on the unregularised training subset and evaluate it on the test subset"
   ]
  },
  {
   "cell_type": "markdown",
   "id": "33e2e070-50df-44b0-bf15-866eecae6341",
   "metadata": {},
   "source": [
    "## Find the optimal regularisation using cross-validation\n",
    "- Train a model for each regularisation value to be considered.\n",
    "- Train and evaluate them on a training subset fold using K-fold.\n",
    "- Choose the optimal model and its regularisation.\n",
    "\n",
    "The LogisticRegression function applies an L2 regularisation by default, although it uses the *C* parameter which represents the inverse of *lambda*:"
   ]
  },
  {
   "cell_type": "code",
   "execution_count": null,
   "id": "71b26477-8580-46a9-b5a5-b360ae4a597d",
   "metadata": {},
   "outputs": [],
   "source": [
    "# TODO: Train a different model for each C on a different K-fold"
   ]
  },
  {
   "cell_type": "markdown",
   "id": "e591f224-77f2-4628-bf6b-2308f02deebf",
   "metadata": {},
   "source": [
    "## Finally, evaluate the model on the test subset\n",
    "\n",
    "- Display the coefficients and intercept of the best model.\n",
    "- Evaluate the best model on the initial test subset.\n",
    "- Calculate the hits and misses on the test subset and plot them graphically.\n",
    "\n",
    "As this dataset is very visual, try to also show the examples where the model has failed visually, and consider whether you would be able to recognise that number.\n",
    "\n",
    "*Sometimes even a human would have trouble deciphering it based on the handwriting of the writer 8-).*"
   ]
  },
  {
   "cell_type": "code",
   "execution_count": null,
   "id": "1b209256-d61a-43f9-a571-ff03ee256e64",
   "metadata": {},
   "outputs": [],
   "source": [
    "# TODO: Evaluate the best model on the initial test subset and plot its misses graphically."
   ]
  }
 ],
 "metadata": {
  "environment": {
   "kernel": "python3",
   "name": "common-cpu.m94",
   "type": "gcloud",
   "uri": "gcr.io/deeplearning-platform-release/base-cpu:m94"
  },
  "kernelspec": {
   "display_name": "Python 3",
   "language": "python",
   "name": "python3"
  },
  "language_info": {
   "codemirror_mode": {
    "name": "ipython",
    "version": 3
   },
   "file_extension": ".py",
   "mimetype": "text/x-python",
   "name": "python",
   "nbconvert_exporter": "python",
   "pygments_lexer": "ipython3",
   "version": "3.7.12"
  }
 },
 "nbformat": 4,
 "nbformat_minor": 5
}
