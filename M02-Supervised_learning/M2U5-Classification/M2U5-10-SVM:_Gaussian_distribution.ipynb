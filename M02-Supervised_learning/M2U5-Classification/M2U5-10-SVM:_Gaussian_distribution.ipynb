{
 "cells": [
  {
   "cell_type": "markdown",
   "id": "d729d579-4381-4f15-9b99-7a0afa61cdc6",
   "metadata": {
    "tags": []
   },
   "source": [
    "# SVM: Gaussian distribution\n",
    "M2U5 - Exercise 10\n",
    "\n",
    "## What are we going to do?\n",
    "- We will implement the probability density function of a multivariate Gaussian/normal distribution\n",
    "- Plot them graphically\n",
    "- We will check how its behaviour varies by modifying its mean and covariance parameters\n",
    "\n",
    "Remember to follow the instructions for the submission of assignments indicated in [Submission Instructions](https://github.com/Tokio-School/Machine-Learning-EN/blob/main/Submission_instructions.md).\n",
    "\n",
    "## Instructions\n",
    "The normal or Gaussian distribution is used in ML in models such as Gaussian kernel SVMs or anomaly detection, which we will see in a later module.\n",
    "\n",
    "The distribution can be univariate (1 single characteristic) or multivariate (2 or more), which we will use in this exercise.\n",
    "\n",
    "This distribution is defined by 2 parameters:\n",
    "- The mean *mu* of the features, a vector of size *n*.\n",
    "- The *Sigma* covariance matrix between the features, a 2D vector of size *n x n*."
   ]
  },
  {
   "cell_type": "code",
   "execution_count": null,
   "id": "b6c9e684-5f24-4c20-ab2b-02a9618fa07f",
   "metadata": {},
   "outputs": [],
   "source": [
    "import numpy as np\n",
    "\n",
    "from scipy.stats import multivariate_normal\n",
    "from matplotlib import pyplot as plt\n",
    "from matplotlib import cm\n",
    "from mpl_toolkits.mplot3d import Axes3D"
   ]
  },
  {
   "cell_type": "markdown",
   "id": "80a54427-8975-4e86-ac1b-d019ce58bdbd",
   "metadata": {},
   "source": [
    "## Implement the probability density function of a Gaussian distribution\n",
    "\n",
    "This PDF can be implemented with the SciPy method [scipy.stats.multivariate_normal](https://docs.scipy.org/doc/scipy/reference/generated/scipy.stats.multivariate_normal.html):"
   ]
  },
  {
   "cell_type": "code",
   "execution_count": null,
   "id": "ba123994-4bd3-4c09-8746-bd598914ee7c",
   "metadata": {},
   "outputs": [],
   "source": [
    "# TODO: Define mu and sigma ndarrays for 2 features or dimensions\n",
    "\n",
    "# Define the mean as a 1D ndarray with any 2 values\n",
    "mu = [...]\n",
    "\n",
    "# Define Sigma as a 2D ndarray with any 2x2 values\n",
    "sigma = [...]"
   ]
  },
  {
   "cell_type": "markdown",
   "id": "7f50a3b9-1e82-4e98-a3ca-d020c4cb9543",
   "metadata": {},
   "source": [
    "## Plot it graphically within a range of possible values\n",
    "\n",
    "To do this, create a linear space with Numpy of 100 values in the range `[-5, 5]` as an example:"
   ]
  },
  {
   "cell_type": "code",
   "execution_count": null,
   "id": "89d3f490-a71b-4189-9ea7-68665e4e34cc",
   "metadata": {},
   "outputs": [],
   "source": [
    "# TODO: Calculate the PDF over a 2D linear space\n",
    "\n",
    "# Create a meshgrid with this linear space: 100 values between [-5, 5]\n",
    "x1 = np.linspace([...])\n",
    "x2 = np.linspace([...])\n",
    "x1, x2 = np.meshgrid(x1, x2)\n",
    "\n",
    "xy = np.empty(x1.shape + (2,))\n",
    "xy[:,:,0] = x1\n",
    "xy[:,:,1] = x2\n",
    "\n",
    "# Calculate the PDF for this XY meshgrid, with the previously established mu and sigma\n",
    "z = multivariate_normal([...])"
   ]
  },
  {
   "cell_type": "code",
   "execution_count": null,
   "id": "1b63e653-f9a4-4b35-8924-3b3ea6806572",
   "metadata": {},
   "outputs": [],
   "source": [
    "# TODO: Plot the PDF in 3D on the space in question\n",
    "fig = plt.figure(1)\n",
    "\n",
    "ax = fig.gca(projection='3d')\n",
    "ax.plot_surface(x1, x2, z, rstride=3, cstride=3, linewidth=1, antialiased=True, cmap=cm.viridis)\n",
    "\n",
    "cset = ax.contour(x1, x2, z, zdir='z', offset=-0.5, cmap=cm.viridis)\n",
    "\n",
    "ax.set_zlim(-0.15, 0.2)\n",
    "ax.set_zticks(np.linspace(0, 0.2, 5))\n",
    "ax.view_init(27, -21)\n",
    "\n",
    "plt.show()"
   ]
  },
  {
   "cell_type": "markdown",
   "id": "00de69e5-3d2a-4b83-8619-cfdcc37d648d",
   "metadata": {},
   "source": [
    "*Bonus*: *Feel like experimenting?* You can modify the parameters of the above representation to see how it affects the Matplotlib 3D plot."
   ]
  },
  {
   "cell_type": "markdown",
   "id": "5d292c18-7bbf-45a7-9332-0de73c41ac10",
   "metadata": {},
   "source": [
    "## Check how its behaviour varies by modifying its parameters\n",
    "\n",
    "We have represented the PDF of the Gaussian distribution in 3D, using its 2 parameters, *mu* and *Sigma*.\n",
    "\n",
    "*Why don't you check what happens when you change mu and Sigma?*\n",
    "*How does the graph vary when you change the 2 values of mu, separately, and at the same time?*\n",
    "*How does it vary when you change the 4 values of Sigma?*"
   ]
  },
  {
   "cell_type": "markdown",
   "id": "945ccd32-44ff-4bae-8b31-2f8f63d7ccd1",
   "metadata": {},
   "source": [
    "Answer these questions with your conclusions:\n",
    "- Varying *mu*...\n",
    "- Varying *Sigma*..."
   ]
  }
 ],
 "metadata": {
  "environment": {
   "kernel": "python3",
   "name": "common-cpu.m87",
   "type": "gcloud",
   "uri": "gcr.io/deeplearning-platform-release/base-cpu:m87"
  },
  "kernelspec": {
   "display_name": "Python 3",
   "language": "python",
   "name": "python3"
  },
  "language_info": {
   "codemirror_mode": {
    "name": "ipython",
    "version": 3
   },
   "file_extension": ".py",
   "mimetype": "text/x-python",
   "name": "python",
   "nbconvert_exporter": "python",
   "pygments_lexer": "ipython3",
   "version": "3.7.12"
  }
 },
 "nbformat": 4,
 "nbformat_minor": 5
}
