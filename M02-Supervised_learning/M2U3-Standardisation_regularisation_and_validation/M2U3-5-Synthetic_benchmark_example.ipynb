{
 "cells": [
  {
   "cell_type": "markdown",
   "id": "6051a930-e5d1-4e37-a0c9-22929ea3cf14",
   "metadata": {},
   "source": [
    "# Linear Regression: Synthetic Benchmark Example\n",
    "M2U3 - Exercise 5\n",
    "\n",
    "## What are we going to do?\n",
    "- We will create a reference notebook with all the steps to train a multivariate linear regression model\n",
    "- We will clean up the code of any leftover comments or explanations\n",
    "- We will modify the original dataset to see how it affects the trained model\n",
    "\n",
    "Remember to follow the instructions for the submission of assignments indicated in [Submission Instructions](https://github.com/Tokio-School/Machine-Learning-EN/blob/main/Submission_instructions.md)."
   ]
  },
  {
   "cell_type": "markdown",
   "id": "b5c11f34-3150-4459-acc6-30a700f6e561",
   "metadata": {},
   "source": [
    "This exercise will be different. The last notebook was quite long and contained a lot of additional information and explanations.\n",
    "\n",
    "We will create a reference notebook with all the steps to train a multivariate linear regression model.\n",
    "We will also use this notebook as a reference to train other, non-linear regression models, and optimise their hyperparameters with a validation subset.\n",
    "\n",
    "We also want you to take the opportunity to clean up your code cells, removing any instruction comments, hints, etc., so that you can use these cells or notebook directly in the future.\n",
    "\n",
    "Therefore, your task in this exercise will be simple: copy the code cells from previous exercises, clean them up and leave them ready as a reference for training linear regression models.\n",
    "\n",
    "*Note*: You can modify and add any markdown cell to add some explanation or summary to help you understand the steps to follow."
   ]
  },
  {
   "cell_type": "markdown",
   "id": "95947358-f014-44c7-ae97-416596d6bdf2",
   "metadata": {},
   "source": [
    "## Create a synthetic dataset for linear regression\n",
    "\n",
    "- Create it manually or with Scikit-learn's specific methods.\n",
    "- Add a modifiable bias and error term."
   ]
  },
  {
   "cell_type": "markdown",
   "id": "8fff0e45-2cff-40ea-9028-cef22440bebd",
   "metadata": {},
   "source": [
    "## Preprocess the data\n",
    "\n",
    "- Randomly reorder the data.\n",
    "- Normalise the data.\n",
    "- Divide the dataset into training, validation, and test subsets."
   ]
  },
  {
   "cell_type": "markdown",
   "id": "38da9fd3-e834-4621-b325-f08b0f84af98",
   "metadata": {},
   "source": [
    "## Train an initial model\n",
    "\n",
    "- Train an initial model on the training subset without regularisation.\n",
    "- Plot the history of the cost function to check its evolution.\n",
    "- Test the suitability of the model.\n",
    "- Retrain the model by varying the hyperparameters if necessary.\n",
    "- Check if there is any deviation or overfitting.."
   ]
  },
  {
   "cell_type": "markdown",
   "id": "f2573e33-4174-4602-bd4f-d1e6cbd6a38f",
   "metadata": {},
   "source": [
    "## Find the optimal *lambda* on the validation subset\n",
    "\n",
    "- Train a model for each lambda value to be considered\n",
    "- Plot the final error over the training and validation subset of each model/*lambda*.\n",
    "- Choose the optimal model and *lambda* value"
   ]
  },
  {
   "cell_type": "markdown",
   "id": "2a385ed8-2a78-46b5-8661-ce83a7a2b457",
   "metadata": {},
   "source": [
    "## Finally, evaluate the model on the test subset\n",
    "\n",
    "- Calculate the cost of the model on the test subset using the corresponding *theta* and *lambda*.\n",
    "- Display a summary of your evaluation metric(s): RMSE, R^2, etc.\n",
    "- Calculate the residuals on the test subset and plot them.."
   ]
  },
  {
   "cell_type": "markdown",
   "id": "d5247344-5e1e-47dd-92e6-77962e7959ef",
   "metadata": {},
   "source": [
    "## Make predictions about new examples\n",
    "\n",
    "- Generate a new example, following the same pattern as the original dataset.\n",
    "- Normalise its features.\n",
    "- Generate a prediction for this new example."
   ]
  },
  {
   "cell_type": "markdown",
   "id": "16392578-bcec-47e4-9d48-d0559a7321a3",
   "metadata": {},
   "source": [
    "## Additional challenge\n",
    "\n",
    "Imagine that in a real-world event that we want to model, we have not collected all the features that really affect the event. E.g., if it was affected by 25 features and we only estimated or were able to capture 12 of them.\n",
    "\n",
    "How might this affect the model?\n",
    "\n",
    "*Can you create a synthetic dataset with a larger number of features that determine Y than the number of features used to train the model, and test it?*"
   ]
  }
 ],
 "metadata": {
  "environment": {
   "kernel": "python3",
   "name": "common-cpu.m87",
   "type": "gcloud",
   "uri": "gcr.io/deeplearning-platform-release/base-cpu:m87"
  },
  "kernelspec": {
   "display_name": "Python 3",
   "language": "python",
   "name": "python3"
  },
  "language_info": {
   "codemirror_mode": {
    "name": "ipython",
    "version": 3
   },
   "file_extension": ".py",
   "mimetype": "text/x-python",
   "name": "python",
   "nbconvert_exporter": "python",
   "pygments_lexer": "ipython3",
   "version": "3.7.12"
  }
 },
 "nbformat": 4,
 "nbformat_minor": 5
}
