{
 "cells": [
  {
   "cell_type": "markdown",
   "id": "f4dca5f6-059d-47c6-ac45-5c51b5b14091",
   "metadata": {},
   "source": [
    "# Linear Regression with Scikit-learn: The Diabetes dataset\n",
    "M2U3 - Exercise 7\n",
    "\n",
    "## What are we going to do?\n",
    "- We will analyse the Scikit-learn diabetes sample dataset\n",
    "- We will train a multivariate linear regression model on the dataset\n",
    "- Examine the Lasso linear regression model\n",
    "- We will compare the CV included in LassoCV with a manual CV\n",
    "\n",
    "Remember to follow the instructions for the submission of assignments indicated in [Submission Instructions](https://github.com/Tokio-School/Machine-Learning-EN/blob/main/Submission_instructions.md)."
   ]
  },
  {
   "cell_type": "markdown",
   "id": "3d7a9094-8412-4d53-b47a-c5c7847c07a3",
   "metadata": {},
   "source": [
    "# Linear Regression: Scikit-learn Diabetes dataset\n",
    "\n",
    "## What are we going to do?\n",
    "- We will analyse the Scikit-learn diabetes sample dataset\n",
    "- We will train a multivariate linear regression model on the dataset\n",
    "- We will examine the Lasso linear regression model\n",
    "- We will compare the CV included in LassoCV with a manual CV\n",
    "\n",
    " For this exercise you can use the following references, among others:\n",
    "- [Diabetes dataset](https://scikit-learn.org/stable/datasets/toy_dataset.html#diabetes-dataset)\n",
    "- [sklearn.datasets.load_diabetes](https://scikit-learn.org/stable/modules/generated/sklearn.datasets.load_diabetes.html#sklearn.datasets.load_diabetes)\n",
    "- [Cross-validation on Diabetes dataset exercise](https://scikit-learn.org/stable/auto_examples/exercises/plot_cv_diabetes.html)\n",
    "- [sklearn.model_selection.GridSearchCV](https://scikit-learn.org/stable/modules/generated/sklearn.model_selection.GridSearchCV.html)"
   ]
  },
  {
   "cell_type": "code",
   "execution_count": null,
   "id": "d1d5132d-b5d5-471f-b472-aeebad2a2fa5",
   "metadata": {},
   "outputs": [],
   "source": [
    "# TODO: Import all the necessary modules into this cell"
   ]
  },
  {
   "cell_type": "markdown",
   "id": "19a08b87-37b8-4c56-8ab5-e51de965c84e",
   "metadata": {},
   "source": [
    "## Load the Diabetes dataset\n",
    "\n",
    "Before starting to work with a new dataset, it is worth reviewing its features and displaying some examples on screen to get an idea of what data it contains, in which format, etc:\n",
    "\n",
    "*NOTE:* If you have experience using Pandas, you can use the dataframe.describe() function"
   ]
  },
  {
   "cell_type": "code",
   "execution_count": null,
   "id": "ff614b53-792a-47b0-92c5-8502d3ff7582",
   "metadata": {},
   "outputs": [],
   "source": [
    "# TODO: Load the Diabetes dataset\n",
    "# First, load it as a Bunch object, analyse its features and show some examples\n",
    "# Then modify your code and load it as a tuple (X, Y) or as a Pandas dataset, if you prefer"
   ]
  },
  {
   "cell_type": "markdown",
   "id": "7a0fad93-7978-42ec-86a1-ed9f40c3cb9c",
   "metadata": {},
   "source": [
    "## Preprocess the data\n",
    "- Randomly reorder the data\n",
    "- Normalise the data\n",
    "- Divide the dataset into training and test subsets\n",
    "\n",
    "*Note*: Before normalising the data from a new dataset, check whether it is necessary and ensure it has not already been normalised.\n",
    "\n",
    "*Hint*: [Diabetes dataset](https://scikit-learn.org/stable/datasets/toy_dataset.html#:~:text=blood%20sugar%20level-,Note,-%3A%20Each%20of%20these)"
   ]
  },
  {
   "cell_type": "code",
   "execution_count": null,
   "id": "d6917d8e-ebc1-49c6-b3b7-0721172257ad",
   "metadata": {},
   "outputs": [],
   "source": [
    "# TODO: Randomly reorder and normalise the data and split the dataset into 2 subsets, as needed"
   ]
  },
  {
   "cell_type": "markdown",
   "id": "2ef3caf7-23c2-453f-b8f4-b644d64db35b",
   "metadata": {},
   "source": [
    "## Train an initial model\n",
    "\n",
    "- Train an initial model on the training subset without regularisation.\n",
    "- Test the suitability of the model.\n",
    "- Check if there is any deviation or overfitting on the test subset(on this occasion).\n",
    "\n",
    "If so, revert to using a simpler linear regression model, such as LinearRegression:"
   ]
  },
  {
   "cell_type": "code",
   "execution_count": null,
   "id": "d151c30b-09e3-4b2b-842c-cbe6e492d947",
   "metadata": {},
   "outputs": [],
   "source": [
    "# TODO: Train a simpler linear regression model on the training subset without regularisation."
   ]
  },
  {
   "cell_type": "code",
   "execution_count": null,
   "id": "d1ef5fc6-d813-4e92-8172-c1787c71a55f",
   "metadata": {},
   "outputs": [],
   "source": [
    "# TODO: Test the suitability of the model by evaluating it on the test set using various metrics"
   ]
  },
  {
   "cell_type": "code",
   "execution_count": null,
   "id": "87d635f9-2673-428b-ab57-b8a58925af11",
   "metadata": {},
   "outputs": [],
   "source": [
    "# TODO: Check if the evaluation on both subsets is similar with the RMSE"
   ]
  },
  {
   "cell_type": "markdown",
   "id": "6e62b0fc-bd3e-4366-ac41-c09394807c74",
   "metadata": {},
   "source": [
    "## Train the model with CV\n",
    "\n",
    "- Train a model for each regularisation value to be considered.\n",
    "- Train and evaluate them on the training subset using K-fold.\n",
    "- Choose the optimal model and its regularisation.\n",
    "\n",
    "Train the model using the [Lasso algorithm](https://scikit-learn.org/stable/modules/linear_model.html#lasso):\n",
    "\n",
    "*NOTE:* You can refer to the notebook for the referenced exercise.\n",
    "\n",
    "*QUESTION:* What kind of regularisation does this algorithm implement?"
   ]
  },
  {
   "cell_type": "code",
   "execution_count": null,
   "id": "88fb43a1-cc7e-4346-830a-370a67b4a690",
   "metadata": {},
   "outputs": [],
   "source": [
    "# TODO: Train a different model for each alpha on a different K-fold, evaluate them and select\n",
    "# the most accurate model using GridSearchCV"
   ]
  },
  {
   "cell_type": "markdown",
   "id": "09d495fd-0c01-4976-8af8-2502de6c0f6b",
   "metadata": {},
   "source": [
    "*Optional bonus*: : Do you have the courage to plot the same graphical representation of the evaluation of each model for multiple *alphas*?"
   ]
  },
  {
   "cell_type": "markdown",
   "id": "72453f4a-c81c-43ca-8435-115230ac5831",
   "metadata": {},
   "source": [
    "## Finally, evaluate the model on the test subset\n",
    "\n",
    "- Display the coefficients (bias and intercept) of the best model.\n",
    "- Evaluate the best model on the initial test subset.\n",
    "- Calculate the residuals for the test subset and plot them."
   ]
  },
  {
   "cell_type": "code",
   "execution_count": null,
   "id": "b10c55b9-7bed-42a0-86e3-d8669a4d402c",
   "metadata": {},
   "outputs": [],
   "source": [
    "# TODO: Evaluate the best model on the initial test subset and calculate its residuals"
   ]
  },
  {
   "cell_type": "markdown",
   "id": "e1d136b8-f9c2-4883-b46e-d18dc8b74bbd",
   "metadata": {},
   "source": [
    "## *Bonus*: Compare the results of our CV with those of the LassoCV\n",
    "\n",
    "Several algorithms use an additional implementation that performs a prior CV optimisation internally, as is the case with [assoCV(https://scikit-learn.org/stable/modules/generated/sklearn.linear_model.LassoCV.html#sklearn.linear_model.LassoCV).\n",
    "\n",
    "Sin embargo, en muchos casos no podemos confiar del todo en que hayan escogido el mejor *alpha*. Por ello, puede ser interesante comparar los resultados de LassoCV con los de nuestro modelo de Lasso con CV manual.\n",
    "\n",
    "*¿Te atreves a implementarlo por ti mismo?*"
   ]
  },
  {
   "cell_type": "code",
   "execution_count": null,
   "id": "ca954453-453d-4fe2-861c-622e1d542ab0",
   "metadata": {
    "tags": []
   },
   "outputs": [],
   "source": [
    "# TODO: Compara los resultados de nuestro modelo entrenado por CV manualmente frente a los de LassoCV"
   ]
  },
  {
   "cell_type": "markdown",
   "id": "c22bfe52-5ad9-4542-8dea-2b581a89ab7d",
   "metadata": {},
   "source": [
    "*PREGUNTAS:*\n",
    "- ¿Cuánto puedes confiar en la selección de *alpha* de LassoCV?\n",
    "- ¿Son similares los *alpha*s escogidos por LassoCV y sus precisiones a las de nuestro modelo?"
   ]
  }
 ],
 "metadata": {
  "environment": {
   "kernel": "python3",
   "name": "common-cpu.m87",
   "type": "gcloud",
   "uri": "gcr.io/deeplearning-platform-release/base-cpu:m87"
  },
  "kernelspec": {
   "display_name": "Python 3",
   "language": "python",
   "name": "python3"
  },
  "language_info": {
   "codemirror_mode": {
    "name": "ipython",
    "version": 3
   },
   "file_extension": ".py",
   "mimetype": "text/x-python",
   "name": "python",
   "nbconvert_exporter": "python",
   "pygments_lexer": "ipython3",
   "version": "3.7.12"
  }
 },
 "nbformat": 4,
 "nbformat_minor": 5
}
