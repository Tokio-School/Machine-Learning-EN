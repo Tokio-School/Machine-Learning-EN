{
 "cells": [
  {
   "cell_type": "markdown",
   "id": "4852003a-8978-4850-8f14-a2f007ed61f8",
   "metadata": {},
   "source": [
    "# Linear Regression with Scikit-learn: Boston Housing Dataset\n",
    "M2U3 - Exercise 8\n",
    "\n",
    "## What are we going to do?\n",
    "- We will analyse the Scikit-learn Boston Housing real estate sample dataset.\n",
    "- We will train a multivariate linear regression model on the dataset.\n",
    "\n",
    "Remember to follow the instructions for the submission of assignments indicated in [Submission Instructions](https://github.com/Tokio-School/Machine-Learning-EN/blob/main/Submission_instructions.md)."
   ]
  },
  {
   "cell_type": "markdown",
   "id": "a451e552-bec3-4b9f-ac66-eb1941201cb1",
   "metadata": {},
   "source": [
    "# Linear Regression: Scikit-learn on the Boston Housing dataset\n",
    "\n",
    "## What are we going to do?\n",
    "- We will analyse the Scikit-learn Boston Housing real estate sample dataset.\n",
    "- We will train a multivariate linear regression model on the dataset.\n",
    "\n",
    "Once again, we are going to fully train another linear regression model using Scikit-learn, and since we are generally going to follow the same steps as in the previous exercise, we are going to minimise the prompts so as not to distract you.\n",
    "\n",
    " For this exercise you can use the following references, among others:\n",
    "- [Boston Housing dataset](https://scikit-learn.org/stable/modules/generated/sklearn.datasets.load_boston.html#sklearn.datasets.load_boston)\n",
    "\n",
    "*NOTE:* This function and dataset will be deprecated in Scikit-learn v1.2."
   ]
  },
  {
   "cell_type": "code",
   "execution_count": null,
   "id": "4ebdd2ce-6aa2-4660-8cff-2e190502c899",
   "metadata": {},
   "outputs": [],
   "source": [
    "# TODO: Import all the necessary modules into this cell"
   ]
  },
  {
   "cell_type": "markdown",
   "id": "42f3ed77-f4ea-4dc7-ad1c-e00fcf67abdc",
   "metadata": {},
   "source": [
    "## Load the Boston Housing dataset\n",
    "\n",
    "Before starting to work with the dataset, analyse its features and some of the examples included."
   ]
  },
  {
   "cell_type": "code",
   "execution_count": null,
   "id": "7f354478-2145-4db3-af9e-c91d9d9731ff",
   "metadata": {},
   "outputs": [],
   "source": [
    "# TODO: Load the Boston Housing dataset, analyse its features and examples and finally load it as\n",
    "# an (X, Y) tuple"
   ]
  },
  {
   "cell_type": "markdown",
   "id": "d023fa91-91d3-40c3-9ff8-231a9c0fb06f",
   "metadata": {},
   "source": [
    "## Preprocess the data\n",
    "- Randomly reorder the data\n",
    "- Normalise the data\n",
    "- Divide the dataset into training and test subsets\n",
    "\n",
    "*Note*: Before normalising the data from a new dataset, check whether it is necessary and ensure it has not already been normalised."
   ]
  },
  {
   "cell_type": "code",
   "execution_count": null,
   "id": "1ed3a1ce-6f1d-4834-8ccb-1b43e864984c",
   "metadata": {},
   "outputs": [],
   "source": [
    "# TODO: Randomly reorder and normalise the data and split the dataset into 2 subsets, as needed"
   ]
  },
  {
   "cell_type": "markdown",
   "id": "2cd6b9b4-4ad1-4167-b4cd-c97a03edb3a9",
   "metadata": {},
   "source": [
    "## Train an initial model\n",
    "\n",
    "- Train an initial model on the training subset without regularisation.\n",
    "- Test the suitability of the model.\n",
    "- Check if there is any deviation or overfitting.\n",
    "\n",
    "If so, revert to using a linear regression model, such as the [Lasso](https://scikit-learn.org/stable/modules/linear_model.html#lasso) (without regularisation):"
   ]
  },
  {
   "cell_type": "code",
   "execution_count": null,
   "id": "9f5a8996-86c0-478f-be24-4db28564e2e7",
   "metadata": {},
   "outputs": [],
   "source": [
    "# TODO: Train a simpler linear regression model on the training subset without regularisation"
   ]
  },
  {
   "cell_type": "code",
   "execution_count": null,
   "id": "fffc53fe-db1d-45af-89d1-49e0210b6f1d",
   "metadata": {},
   "outputs": [],
   "source": [
    "# TODO: Test the suitability of the model by evaluating it on the test set with several metrics"
   ]
  },
  {
   "cell_type": "code",
   "execution_count": null,
   "id": "ae473d20-2cb5-4ac4-95a6-dd2df948d943",
   "metadata": {},
   "outputs": [],
   "source": [
    "# TODO: Check if the evaluation on both subsets is similar with the RMSE"
   ]
  },
  {
   "cell_type": "markdown",
   "id": "205c985f-4b71-482b-a729-999a62e02059",
   "metadata": {},
   "source": [
    "## Train the model with CV\n",
    "\n",
    "- Train a model for each regularisation value to be considered.\n",
    "- Train and evaluate them on the training subset using K-fold.\n",
    "- Choose the optimal model and its regularisation.\n",
    "\n",
    "Train the model using the [Lasso algorithm](https://scikit-learn.org/stable/modules/linear_model.html#lasso) and optimise the regularisation using GridSearchCV:"
   ]
  },
  {
   "cell_type": "code",
   "execution_count": null,
   "id": "134e87ed-863e-4081-8eb6-0e0a57110bbe",
   "metadata": {},
   "outputs": [],
   "source": [
    "# TODO: Train a different model for each alpha on a different K-fold, evaluate them and select\n",
    "# the most accurate model using GridSearchCV"
   ]
  },
  {
   "cell_type": "markdown",
   "id": "1b03dce4-636f-49ec-a627-8931b785e1e1",
   "metadata": {},
   "source": [
    "## Finally, evaluate the model on the test subset\n",
    "\n",
    "- Display the coefficients and RMSE of the best model.\n",
    "- Evaluate the best model on the initial test subset.\n",
    "- Calculate the residuals for the test subset and plot them."
   ]
  },
  {
   "cell_type": "code",
   "execution_count": null,
   "id": "19558e0f-6927-4564-9641-fabaf5120ca8",
   "metadata": {},
   "outputs": [],
   "source": [
    "# TODO: Evaluate the best model on the initial test subset and calculate its residuals"
   ]
  }
 ],
 "metadata": {
  "environment": {
   "kernel": "python3",
   "name": "common-cpu.m87",
   "type": "gcloud",
   "uri": "gcr.io/deeplearning-platform-release/base-cpu:m87"
  },
  "kernelspec": {
   "display_name": "Python 3",
   "language": "python",
   "name": "python3"
  },
  "language_info": {
   "codemirror_mode": {
    "name": "ipython",
    "version": 3
   },
   "file_extension": ".py",
   "mimetype": "text/x-python",
   "name": "python",
   "nbconvert_exporter": "python",
   "pygments_lexer": "ipython3",
   "version": "3.7.12"
  }
 },
 "nbformat": 4,
 "nbformat_minor": 5
}
