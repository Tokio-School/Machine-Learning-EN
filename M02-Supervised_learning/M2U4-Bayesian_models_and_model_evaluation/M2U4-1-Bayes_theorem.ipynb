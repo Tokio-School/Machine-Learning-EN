{
 "cells": [
  {
   "cell_type": "markdown",
   "id": "90f48229-b57a-43c6-b2eb-679f380446c8",
   "metadata": {},
   "source": [
    "# Bayes’ Theorem: Sensitivity and Specificity\n",
    "M2U4 - Exercise 1\n",
    "\n",
    "## What are we going to do?\n",
    "- We will implement the computation of probabilities using Bayes' Theorem in Python\n",
    "- We will conduct several experiments to test sensitivity and specificity effects\n",
    "\n",
    "Remember to follow the instructions for the submission of assignments indicated in [Submission Instructions](https://github.com/Tokio-School/Machine-Learning-EN/blob/main/Submission_instructions.md).\n",
    "\n",
    "## Instructions\n",
    "\n",
    "This will be a short and quick exercise, in which we will not introduce any new concepts.\n",
    "\n",
    "In the course session, the slides, and the student manual we have solved a few exercises on Bayes' Theorem to get an idea of how it behaves, and how it can differ from our intuition.\n",
    "\n",
    "We will now implement it programmatically to have the opportunity to repeat more of these examples, solving the calculations with Python, and graphing the results."
   ]
  },
  {
   "cell_type": "markdown",
   "id": "42d03e3e-3fd3-4750-94e7-f205f237276f",
   "metadata": {},
   "source": [
    "## Implement Bayes' Theorem in a function\n",
    "\n",
    "Let's start by implementing Bayes' Theorem with a Python function.\n",
    "\n",
    "To do this, fill in the code in the following cell:"
   ]
  },
  {
   "cell_type": "code",
   "execution_count": null,
   "id": "c4b87594-c66d-4ea6-b5b7-b9f699091c2c",
   "metadata": {},
   "outputs": [],
   "source": [
    "# TODO: Implement Bayes' Theorem in a function\n",
    "\n",
    "def bayes_theorem(p_a, p_b_given_a, p_b_given_not_a):\n",
    "    \"\"\" Returns the probability of B given A according to Bayes' Theorem\n",
    "    \n",
    "    All variables are percentages in float format (i.e., 10% -> 0.1)\n",
    "    \n",
    "    Positional arguments:\n",
    "    p_a -- a priori probability\n",
    "    p_b_given_a -- probability of occurrence of event B given event A\n",
    "    p_b_given_not_a -- probability that event B will not occur given event A\n",
    "    \n",
    "    Return:\n",
    "    p_a_given_b -- probability of occurrence of event A given event B\n",
    "    \"\"\"\n",
    "    \n",
    "    pass\n",
    "    \n",
    "    return p_a_given_b"
   ]
  },
  {
   "cell_type": "markdown",
   "id": "e7721ea6-c0c0-494e-8529-9608a3924905",
   "metadata": {},
   "source": [
    "## Solve several examples and check the results\n",
    "\n",
    "To test your implementation, check it against the already solved examples in the slides:\n",
    "\n",
    "Example 1:\n",
    "$$ P(C) = 0.01 $$\n",
    "$$ P(+|C) = 0.9 $$\n",
    "$$ P(+|!C) = 0.2 $$\n",
    "$$ P(C|+) = 0.0435 $$\n",
    "\n",
    "Example 2:\n",
    "$$ P(C) = 0.01 $$\n",
    "$$ P(+|C) = 0.85 $$\n",
    "$$ P(+|!C) = 0.15 $$\n",
    "$$ P(C|+) = 0.0541 $$\n",
    "\n",
    "Example 3:\n",
    "$$ P(C) = 0.01 $$\n",
    "$$ P(+|C) = 0.9 $$\n",
    "$$ P(+|!C) = 0.05 $$\n",
    "$$ P(C|+) = 0.1538 $$\n",
    "\n",
    "Copy the code cell and display the 3 results:"
   ]
  },
  {
   "cell_type": "code",
   "execution_count": null,
   "id": "435d395c-cdf8-4761-999a-bbd7020dad28",
   "metadata": {},
   "outputs": [],
   "source": [
    "# TODO: Solve the previous examples\n",
    "\n",
    "p_a = 0.01\n",
    "p_b_given_a = 0.9\n",
    "p_b_given_not_a = 0.2\n",
    "\n",
    "p_a_given_b = [...]\n",
    "\n",
    "print('a priori probability of cancer:', p_a)\n",
    "print('Test sensitivity:', p_b_given_a)\n",
    "print('Test specificity:', p_b_given_not_a)\n",
    "print('Probability of cancer if test positive:', p_a_given_b)"
   ]
  },
  {
   "cell_type": "markdown",
   "id": "41a376c2-f9be-4411-8ccd-32e4c78d1649",
   "metadata": {},
   "source": [
    "## Plot the sensitivity and specificity effects graphically\n",
    "\n",
    "As we have seen, the a posteriori probability varied greatly depending on the sensitivity and specificity chosen.\n",
    "\n",
    "To conclude the exercise, plot how the a posteriori probability varies as a function of sensitivity on one graph, and as a function of specificity on the other.\n",
    "\n",
    "For this purpose, it establishes constant specificity in the first graph and constant sensitivity in the second graph:"
   ]
  },
  {
   "cell_type": "code",
   "execution_count": null,
   "id": "92524d6c-f709-494a-9006-14003be69606",
   "metadata": {},
   "outputs": [],
   "source": [
    "# TODO: Plot the sensitivity and specificity effects in Bayes’ theorem graphically\n",
    "\n",
    "p_a = 0.01\n",
    "\n",
    "# Create an array with a linear spacing of +/- 25% over the base values of 0.9 and 0.2, respectively, with 10 values\n",
    "sensitivity = [...]\n",
    "specificity = [...]\n",
    "\n",
    "# Calculate the results of the a posteriori probabilities\n",
    "# Keep the central value of sensitivity and specificity constant, respectively\n",
    "res1 = [...]\n",
    "res2 = [...]\n",
    "\n",
    "fig, axs = plt.subplot(2)\n",
    "\n",
    "plt.title()\n",
    "\n",
    "axs[0] = plt.plot(res1)\n",
    "axs[1] = plt.plot(res2)\n",
    "\n",
    "plt.show()"
   ]
  }
 ],
 "metadata": {
  "environment": {
   "kernel": "python3",
   "name": "common-cpu.m87",
   "type": "gcloud",
   "uri": "gcr.io/deeplearning-platform-release/base-cpu:m87"
  },
  "kernelspec": {
   "display_name": "Python 3",
   "language": "python",
   "name": "python3"
  },
  "language_info": {
   "codemirror_mode": {
    "name": "ipython",
    "version": 3
   },
   "file_extension": ".py",
   "mimetype": "text/x-python",
   "name": "python",
   "nbconvert_exporter": "python",
   "pygments_lexer": "ipython3",
   "version": "3.7.12"
  }
 },
 "nbformat": 4,
 "nbformat_minor": 5
}
