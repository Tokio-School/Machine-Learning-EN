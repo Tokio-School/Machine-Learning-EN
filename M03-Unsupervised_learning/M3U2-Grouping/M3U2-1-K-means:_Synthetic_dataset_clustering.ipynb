{
 "cells": [
  {
   "cell_type": "markdown",
   "id": "0502b7a7-32f1-4f0f-899e-43f70d06d534",
   "metadata": {},
   "source": [
    "# K-means: Synthetic dataset clustering\n",
    "M3U2 - Exercise 1\n",
    "\n",
    "## What are we going to do?\n",
    "- Create a synthetic clustering dataset\n",
    "- Preprocess the data\n",
    "- We will implement the K-means clustering algorithm and test the implementation\n",
    "- We will train a K-means model with multiple initialisations\n",
    "- We will evaluate the model and represent its results graphically\n",
    "- We will choose an optimal number of clusters using the elbow rule\n",
    "\n",
    "Remember to follow the instructions for the submission of assignments indicated in [Submission Instructions](https://github.com/Tokio-School/Machine-Learning-EN/blob/main/Submission_instructions.md).\n",
    "\n",
    "## Instructions\n",
    "In this exercise we will implement a K-means clustering model training algorithm.\n",
    "\n",
    "To do this, we will create a synthetic clustering dataset, develop our K-means implementation and test it.\n",
    "\n",
    "As we know, clustering models are very sensitive to initialisation conditions, so we are going to train several models and check graphically whether their results are noticeably different.\n",
    "\n",
    "We will evaluate them graphically, plotting the final result."
   ]
  },
  {
   "cell_type": "code",
   "execution_count": null,
   "id": "1952fc37-c724-40ca-8b7e-ff1f46e1bb93",
   "metadata": {},
   "outputs": [],
   "source": [
    "# TODO: Import all the necessary modules into this cell"
   ]
  },
  {
   "cell_type": "markdown",
   "id": "70e210fc-07c1-4765-9d60-7a6c606868f9",
   "metadata": {},
   "source": [
    "## Create a synthetic dataset\n",
    "\n",
    "We are going to create a synthetic classification dataset. This dataset will have a set number of clusters with a number of examples and an associated standard deviation.\n",
    "\n",
    "To make it easier, you can use the [sklearn.datasets.make_blobs](https://scikit-learn.org/stable/modules/generated/sklearn.datasets.make_blobs.html) function."
   ]
  },
  {
   "cell_type": "code",
   "execution_count": null,
   "id": "b40f356a-a4db-4de5-b257-507a409c2d5d",
   "metadata": {},
   "outputs": [],
   "source": [
    "# TODO: Create a synthetic clustering dataset\n",
    "\n",
    "n_samples = 1000\n",
    "n_features = 2\n",
    "centers = 5\n",
    "cluster_std = [1., 1.5, 0.5, 2., 3.]\n",
    "return_centers = True\n",
    "random_state = 42\n",
    "\n",
    "X, y = [...]\n",
    "\n",
    "# Display the first X rows and columns and their dimensions\n",
    "print('First 10 rows and 5 columns of X and Y and their dimensions:')\n",
    "print()\n",
    "print()\n",
    "print()\n",
    "print()"
   ]
  },
  {
   "cell_type": "markdown",
   "id": "ca9409d8-16a0-4139-9119-1fbbfa292b0e",
   "metadata": {},
   "source": [
    "## Preprocess the data\n",
    "\n",
    "Preprocess the data with the usual steps, if necessary:\n",
    "\n",
    "- Randomly reorder the data.\n",
    "- Normalise the data.\n",
    "\n",
    "As clustering is an unsupervised learning model, we will not evaluate it by the conventional method, i.e., comparing its results with previously known results."
   ]
  },
  {
   "cell_type": "code",
   "execution_count": null,
   "id": "00c7598b-a88a-45c7-8691-c805799f2d7a",
   "metadata": {},
   "outputs": [],
   "source": [
    "# TODO: Randomly reorder the data"
   ]
  },
  {
   "cell_type": "code",
   "execution_count": null,
   "id": "a6da6583-00dd-405d-b1e7-34574e57fd48",
   "metadata": {},
   "outputs": [],
   "source": [
    "# TODO: Normalise the data, if necessary"
   ]
  },
  {
   "cell_type": "markdown",
   "id": "c3d78d7a-5376-4337-9b10-a1fbcaa0feb9",
   "metadata": {},
   "source": [
    "## Implement the K-means algorithm\n",
    "\n",
    "Now implement the K-means clustering algorithm.\n",
    "\n",
    "Remember the steps of the algorithm:\n",
    "1. Define the Nº of clusters to be considered.\n",
    "1. Initialise the centroids of each cluster, e.g., by choosing the first *k* examples of the dataset.\n",
    "1. Assign each example in the dataset to its nearest centroid.\n",
    "1. Calculate the midpoint of each cluster in the n-dimensional space of the dataset.\n",
    "1. Update the centroid corresponding to that point.\n",
    "1. Reassign each example to its new nearest centroid.\n",
    "1. Continue iterating until the training converges: the centroids do not vary in position, or vary less than the given tolerance, or we reach the maximum number of iterations.\n",
    "\n",
    "The output of the model will be the training data with its nearest assigned centroid, and the position of the centroids:"
   ]
  },
  {
   "cell_type": "code",
   "execution_count": null,
   "id": "885330a1-ef56-4dc4-9ce6-b80147f97a87",
   "metadata": {},
   "outputs": [],
   "source": [
    "# TODO: Implement an auxiliary function to calculate the distance between the examples and a given point\n",
    "def dist_examples(x, centroid):\n",
    "    \"\"\" Calculates the Euclidean distance between point x and the centroid in n-dimensional space\n",
    "    \n",
    "    Arguments:\n",
    "    x -- ndarray 1D with the features of the example\n",
    "    centroid -- ndarray 1D with the location of the centroid\n",
    "    \n",
    "    Return:\n",
    "    dist -- Euclidean distance between x and the centroid in n-dimensional space\n",
    "    \"\"\"\n",
    "    return dist"
   ]
  },
  {
   "cell_type": "code",
   "execution_count": null,
   "id": "633afc2c-6231-4111-a407-7fa0bab2fb2b",
   "metadata": {},
   "outputs": [],
   "source": [
    "# TODO: Implement the K-means clustering algorithm\n",
    "n_clusters = 5\n",
    "n_iter = 100\n",
    "tol = 1e-3\n",
    "\n",
    "# Initialise the centroids as a 2D ndarray with the n-dimensional position of the first n_clusters examples, size (n_clusters x n)\n",
    "centroids = [...]\n",
    "\n",
    "# Iterate over the maximum nº of iterations\n",
    "for i in range(n_iter):\n",
    "    # Assign each example to its nearest centroid using dist_examples()\n",
    "    for x in n_samples:\n",
    "        cluster_assigned_examples = [...]    # size m, values [0, n_clusters - 1], according to the centroid closest to each example\n",
    "    \n",
    "    # Calculate the n-dimensional midpoint for each cluster with its assigned examples\n",
    "    for c in n_clusters:\n",
    "        for n in n_features:\n",
    "            # Tips: You can use Numpy functions to calculate the average of an array or a slice of an array\n",
    "            centroid[...] = [...]\n",
    "    \n",
    "        # Update the centroid of each cluster to that midpoint\n",
    "        centroids[...] = centroid\n",
    "\n",
    "    # Check if the model converges: all the centroids move less than the tolerance tol\n",
    "    if [...]:\n",
    "        print('Model converges at iteration no:', i)\n",
    "        \n",
    "        break\n",
    "else:\n",
    "    print('Max. numbers of iterations reached')\n",
    "    \n",
    "print('Final centroid locations:')\n",
    "print(centroids)\n",
    "\n",
    "print('Centroids assigned to each example (0-{}):'.format(n_clusters - 1))\n",
    "print(cluster_assigned_examples)"
   ]
  },
  {
   "cell_type": "markdown",
   "id": "fd2b2241-0165-423e-92a1-eff27223c74e",
   "metadata": {},
   "source": [
    "*Note*: Remember that the code template cells are always just suggested guidelines for implementing your code. If you prefer to modify them to develop your code with a different structure, you may do so at any time. The only important thing is that the final calculation is correct and returns the final results to be reviewed."
   ]
  },
  {
   "cell_type": "markdown",
   "id": "c1804055-75f7-4cbc-8399-ac4b5b3f9a0e",
   "metadata": {},
   "source": [
    "## Evaluate and plot the results\n",
    "\n",
    "We will plot a 2D graph with the results of our training: the centroid of each cluster and the examples assigned to it. Similarly, we will use appropriate evaluation metrics for clustering (different from those used for classification).\n",
    "\n",
    "For this purpose, you can use this example as a reference: [A demo of K-Means clustering on the handwritten digits data](https://scikit-learn.org/stable/auto_examples/cluster/plot_kmeans_digits.html).\n",
    "\n",
    "By creating the original dataset, we have retrieved the centroid of each cluster used to create it, *and* the *ground truth* of this dataset, which we can use in this evaluation.\n",
    "\n",
    "In our case, our *n* (number of dimensions) or *n_features* is also 2, so we do not have to reduce the dimensionality (we will introduce this concept in a later session)."
   ]
  },
  {
   "cell_type": "code",
   "execution_count": null,
   "id": "5693c16e-628f-46c0-ac54-c8fd7aa4af60",
   "metadata": {},
   "outputs": [],
   "source": [
    "# TODO: Evaluate your model with the metrics of homogeneity, completeness, V-measure, adjusted Rand index, adjusted mutual information index, and the silhouette coefficient"
   ]
  },
  {
   "cell_type": "markdown",
   "id": "bc8c8d00-5b25-4359-8dc5-dff53b1973ef",
   "metadata": {},
   "source": [
    "*Note*: Take the opportunity to dive into the literature and learn more about these coefficients, used to evaluate clustering, which are different from those used in classification: [Clustering performance evaluation](https://scikit-learn.org/stable/modules/clustering.html#clustering-evaluation)."
   ]
  },
  {
   "cell_type": "code",
   "execution_count": null,
   "id": "e7252459-a403-4d38-9fd0-d7b0ad9ab57d",
   "metadata": {},
   "outputs": [],
   "source": [
    "# TODO: Represent your trained model: the centroids of each cluster and the examples assigned to each one"
   ]
  },
  {
   "cell_type": "markdown",
   "id": "7112b06a-031c-4ac0-a8db-0636732eba76",
   "metadata": {},
   "source": [
    "## Train a K-means model with multiple initialisations\n",
    "\n",
    "As mentioned above, K-means clustering is an algorithm that is quite sensitive to the initialisation used, as the final result may vary. To check this graphically, retrain the model again, choosing different initial centroids, for which you can randomly reorder the data.\n",
    "\n",
    "To do this, copy the code cells below that train the model, evaluate it and plot its results graphically. This way you can compare the results of both cases at the same time.\n",
    "\n",
    "*Note*: For the graphical representation, change the number of the figure to *plt.figure(1)*."
   ]
  },
  {
   "cell_type": "code",
   "execution_count": null,
   "id": "a18f7cdf-86d7-427b-9298-8810bca17e99",
   "metadata": {},
   "outputs": [],
   "source": [
    "# TODO: Implement the K-means clustering algorithm"
   ]
  },
  {
   "cell_type": "code",
   "execution_count": null,
   "id": "2592f0cf-28bf-4508-8927-0980605ac008",
   "metadata": {},
   "outputs": [],
   "source": [
    "# TODO: Evaluate your model with the metrics of homogeneity, completeness, V-measure, adjusted Rand index, adjusted mutual information index, and the silhouette coefficient"
   ]
  },
  {
   "cell_type": "code",
   "execution_count": null,
   "id": "1a6d0fe1-215b-4108-a015-728e46ae2e95",
   "metadata": {},
   "outputs": [],
   "source": [
    "# TODO: Represent your trained model: the centroids of each cluster and the examples assigned to each one"
   ]
  },
  {
   "cell_type": "markdown",
   "id": "5160363d-59b6-4c49-b2e0-73b8549063a8",
   "metadata": {},
   "source": [
    "*How do the results of your model vary with another random initialisation, its evaluation metrics, and the graph of results?*\n",
    "\n",
    "You can also recreate the original dataset, even changing the size or standard deviation of each cluster, and see if it affects the results and the variance between clusters."
   ]
  },
  {
   "cell_type": "markdown",
   "id": "1164a97a-cd4a-4d52-8971-a9907ab5722a",
   "metadata": {},
   "source": [
    "### Multiple models in parallel\n",
    "\n",
    "We will now train multiple models in parallel with different initialisations and compare their results.\n",
    "\n",
    "To do this, copy and modify the corresponding cells again, and train 10 different models, on the same data, with 10 different random initialisations of the centroids.\n",
    "\n",
    "Finally, graphically compare the adjusted Rand index for all the models:"
   ]
  },
  {
   "cell_type": "code",
   "execution_count": null,
   "id": "b763cb35-5523-4d3f-8a82-5345db18b6b8",
   "metadata": {},
   "outputs": [],
   "source": [
    "# TODO: Train 10 models on the same data with 10 random centroid initialisations"
   ]
  },
  {
   "cell_type": "code",
   "execution_count": null,
   "id": "5948a180-e8c8-4d45-8c14-7f5e0a9dda7f",
   "metadata": {},
   "outputs": [],
   "source": [
    "# TODO: Graphically represent the comparison of their adjusted Rand indices on a line and dot plot"
   ]
  },
  {
   "cell_type": "markdown",
   "id": "92503a04-49e9-491f-b5ca-0c32f78845f6",
   "metadata": {},
   "source": [
    "## Choosing the optimal number of clusters\n",
    "\n",
    "Having created a synthetic dataset, we have chosen the \"correct\" number of clusters for it. However, in a real dataset we will not know this number, and on many occasions, there will not be a correct number of clusters, since detecting the separation between one cluster or another, if they are very close, can be a non-trivial and subjective task.\n",
    "\n",
    "By mathematical logic, the lower the number of clusters, the greater the average distance between each example and its assigned cluster, and the higher the number of clusters, the smaller the distance. In a reductio ad absurdum, when we use a number of clusters equal to the number of examples, each centroid will ideally correspond to the position of each example, and the average distance to the nearest cluster will be 0.\n",
    "\n",
    "Therefore, to choose the optimal number of clusters when we do not have any external considerations or constraints, we can use the so-called \"elbow rule\".\n",
    "\n",
    "Let's apply this rule for our dataset:\n",
    "1. Train a model for each number of clusters to be considered in a range, e.g. `[1, 10]`, more in a case where `n_clusteres = n_samples`.\n",
    "1. For each number of clusters, we train several models with multiple random initializations, and we choose the one with the best [silhouette coefficient](https://scikit-learn.org/stable/modules/clustering.html#silhouette-coefficient)\n",
    "1. We plot the best evaluation metric of the best model vs. the number of clusters considered\n",
    "1. We choose as the \"optimal\" number of clusters the one where there is a \"bend\" in the graph, where the trend or slope changes most abruptly.\n",
    "\n",
    "En un dataset real no contaremos con su *ground truth*, los centroides correctos, por lo que como evaluación utilizaremos la métrica del coeficiente de silueta.\n",
    "\n",
    "Implementa la regla del codo para escoger un nº óptimo de clústeres para este dataset:"
   ]
  },
  {
   "cell_type": "code",
   "execution_count": null,
   "id": "be24d10b-87b3-49ca-884a-f9b740e4cd67",
   "metadata": {},
   "outputs": [],
   "source": [
    "# TODO: Implementa la regla del codo para escoger un nº óptimo de clústeres\n",
    "n_clusters = [...]    # Array [1, 2, 3, ..., 10, n_samples]\n",
    "n_iter = 100\n",
    "tol = 1e-3\n",
    "\n",
    "# Itera sobre el nº de clústeres a considerar\n",
    "for n_c in n_clusters:\n",
    "    # Entrena varios modelos con inicializaciones aleatorias\n",
    "    for _ in range(5):\n",
    "        # Usa tu código modificado de celdas anteriores para entrenar los modelos\n",
    "        [...]\n",
    "\n",
    "        # Evalúa cada modelo por el coeficiente de silueta y quédate con el mejor\n",
    "        # Pseudo-código\n",
    "        if evaluacion > mejor_evaluacion:\n",
    "            mejor_modelo = modelo    \n",
    "\n",
    "# Como resultado final buscamos:\n",
    "print('Centroides de cada modelo, según el nº de clústeres:')\n",
    "print()\n",
    "\n",
    "print('Coeficiente de silueta de cada modelo, según el nº de clústeres:')\n",
    "print()"
   ]
  },
  {
   "cell_type": "code",
   "execution_count": null,
   "id": "cfb1d1b2-d786-4340-b75a-73648f224b7c",
   "metadata": {},
   "outputs": [],
   "source": [
    "# TODO: Representa gráficamente la regla del codo en una gráfica de líneas y puntos: coeficiente de silueta del mejor modelo vs nº de clústeres considerados\n",
    "plt.figure()\n",
    "\n",
    "plt.plot()"
   ]
  },
  {
   "cell_type": "markdown",
   "id": "7d29e41b-2ded-4e80-b8d6-a5cbbc4faec4",
   "metadata": {},
   "source": [
    "Escoge un nº de clústeres óptimo en tu último resultado e indícalo en esta celda:\n",
    "\n",
    "- Nº de clústeres óptimo por la regla del codo: X"
   ]
  },
  {
   "cell_type": "markdown",
   "id": "c41c9df3-ddb4-4f4e-b4ab-14d1d57dbfae",
   "metadata": {},
   "source": [
    "*¿Y si cambiamos el nº de clústeres originales del dataset? ¿Sigue apreciándose el nº óptimo en la gráfica con la misma claridad?*\n",
    "\n",
    "Modifica el dataset original y ejecuta de nuevo la resolución de la regla del codo para compararlo. Usa varios nº de clústeres diferentes."
   ]
  },
  {
   "cell_type": "markdown",
   "id": "66d84795-f219-4701-a1e4-0cc67d5d01d4",
   "metadata": {},
   "source": [
    "Por último, representa de nuevo gráficamente los resultados del modelo seleccionado, con el nº de clústeres óptimo:"
   ]
  },
  {
   "cell_type": "code",
   "execution_count": null,
   "id": "6495c3a0-7cc0-4799-bc4b-d18c6825608b",
   "metadata": {},
   "outputs": [],
   "source": [
    "# TODO: Representa tu modelo entrenado: los centroides de cada clúster y los ejemplos asignados a cada uno"
   ]
  }
 ],
 "metadata": {
  "environment": {
   "kernel": "python3",
   "name": "common-cpu.m87",
   "type": "gcloud",
   "uri": "gcr.io/deeplearning-platform-release/base-cpu:m87"
  },
  "kernelspec": {
   "display_name": "Python 3",
   "language": "python",
   "name": "python3"
  },
  "language_info": {
   "codemirror_mode": {
    "name": "ipython",
    "version": 3
   },
   "file_extension": ".py",
   "mimetype": "text/x-python",
   "name": "python",
   "nbconvert_exporter": "python",
   "pygments_lexer": "ipython3",
   "version": "3.7.12"
  }
 },
 "nbformat": 4,
 "nbformat_minor": 5
}
