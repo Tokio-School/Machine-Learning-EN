{
 "cells": [
  {
   "cell_type": "markdown",
   "id": "80c4fd02-5ac3-41a8-851e-4bd6c7e7e564",
   "metadata": {},
   "source": [
    "# Comparison of clustering algorithms with Scikit-learn\n",
    "M3U2 - Exercise 3\n",
    "\n",
    "## What are we going to do?\n",
    "- We will compare the different clustering algorithms available in Scikit-learn\n",
    "- We will check the initial assumptions for the case of K-Means\n",
    "\n",
    "Remember to follow the instructions for the submission of assignments indicated in [Submission Instructions](https://github.com/Tokio-School/Machine-Learning-EN/blob/main/Submission_instructions.md).\n",
    "\n",
    "## Instructions\n",
    "In this exercise you will not develop new code, but simply download and run 2 notebooks from the Scikit-learn documentation:\n",
    "- [Comparing different clustering algorithms on toy datasets](https://scikit-learn.org/stable/auto_examples/cluster/plot_cluster_comparison.html)\n",
    "- [Demonstration of k-means assumptions](https://scikit-learn.org/stable/auto_examples/cluster/plot_kmeans_assumptions.html)\n",
    "\n",
    "There are many conclusions we could add, e.g.:\n",
    "- No single clustering algorithm works well in all cases, with all possible data distributions.\n",
    "- Prior data analysis is even more critical when training clustering algorithms.\n",
    "- Pre-visualisation will help a lot, although it is quite difficult without dimensionality reduction.\n",
    "- The problem with clustering is that it is often inherently difficult to solve.\n",
    "\n",
    "\n",
    "Copy the code cells from the examples in the documentation, analyse the results, modify some parameters to experiment and test your intuition and answer the questions at the end of the exercise."
   ]
  },
  {
   "cell_type": "markdown",
   "id": "a27d0ac4-1194-4ab9-a09c-0688c78df865",
   "metadata": {},
   "source": [
    "## Comparing different clustering algorithms on sample datasets\n",
    "\n",
    "The clustering problem is an inherently difficult problem to solve accurately, since there are no known prior results that we can use to monitor our learning, and choosing the right clusters can be quite difficult, in addition to always being subjective.\n",
    "\n",
    "There are many different clustering algorithms we can use, in addition to K-means and its variants, and each of them will perform better or worse depending on the data distribution of the dataset.\n",
    "\n",
    "Copy the code of the exercise **Comparing different clustering algorithms on toy datasets** and see for yourself:"
   ]
  },
  {
   "cell_type": "code",
   "execution_count": null,
   "id": "92826d53-ade7-4a9c-8783-b8ee6b142a87",
   "metadata": {},
   "outputs": [],
   "source": [
    "# TODO: Execute the code of the corresponding exercise"
   ]
  },
  {
   "cell_type": "markdown",
   "id": "a866ca24-31cd-47ec-ba18-b2c79574021a",
   "metadata": {},
   "source": [
    "## Demonstration of the assumptions of the K-means algorithm\n",
    "\n",
    "As a general rule, the K-means algorithm and its variations will perform poorly on datasets with the following distributions of examples:\n",
    "- An incorrect number of blobs or clusters used to train the model.\n",
    "- Datasets with non-spherical shapes close together.\n",
    "- Variance between nearby clusters that are very different from each other.\n",
    "\n",
    "In contrast, it works quite well on separate clusters with similar variance, even if the number of examples is very different.\n",
    "\n",
    "Copy the code of the exercise **Demonstration of k-means assumptions** and see for yourself:"
   ]
  },
  {
   "cell_type": "code",
   "execution_count": null,
   "id": "d077f7e4-3c57-4a67-8705-f9aae6cd998d",
   "metadata": {},
   "outputs": [],
   "source": [
    "# TODO: Execute the code of the corresponding exercise"
   ]
  },
  {
   "cell_type": "markdown",
   "id": "9a653f4c-7adb-4730-88ab-dc9defb8621e",
   "metadata": {},
   "source": [
    "Modify the parameters of the dataset used to see if the assumptions hold true."
   ]
  },
  {
   "cell_type": "markdown",
   "id": "5324b7d3-c07f-42a3-b3cb-c3747e07a9bf",
   "metadata": {},
   "source": [
    "## Questions to answer\n",
    "\n",
    "Please answer the following questions by adding a new cell after this Markdown cell with your answers following the same list. We have divided the questions into 2 blocks, each relating to one of the Scikit-learn documentation notebooks, so when we mention datasets and algorithms we are referring to those in the Scikit-learn notebook.\n",
    "\n",
    "### Comparing different clustering algorithms on sample datasets\n",
    "1. *QUESTION:* Can you describe in your own words the 6 different datasets used?\n",
    "    1.  Note: This may seem like a silly question, but although the differences are obvious, having to pause and describe the differences helps you to really look at them, and documenting it will help you to see if it fits with some features of another real-life dataset.\n",
    "    1. Dataset 1:\n",
    "    1. Dataset 2:\n",
    "    1. Dataset 3:\n",
    "    1. Dataset 4:\n",
    "    1. Dataset 5:\n",
    "    1. Dataset 6:\n",
    "1. *QUESTION:* Compare the results of all the algorithms on the datasets. Give a \"grade\" between 1 and 5 to each to compare them:\n",
    "    1. Example: Ward: [1, 2, 2, 1, 5, 3]\n",
    "    1. Mini-batch KMeans: []\n",
    "    1. Affinity propagation: []\n",
    "    1. Mean shift: []\n",
    "    1. Spectral clustering: []\n",
    "    1. Ward: []\n",
    "    1. Agglomerative clustering: []\n",
    "    1. DB Scan: []\n",
    "    1. Optics: []\n",
    "    1. Birch: []\n",
    "    1. Gaussian mixture: []\n",
    "1. *QUESTION:* Choose the most optimal algorithm to solve each dataset or situation and justify your answer:\n",
    "    1. Dataset 1:\n",
    "    1. Dataset 2:\n",
    "    1. Dataset 3:\n",
    "    1. Dataset 4:\n",
    "    1. Dataset 5:\n",
    "    1. Dataset 6:\n",
    "    \n",
    "### Demonstration of the assumptions of the K-means algorithm\n",
    "1. *QUESTION:* Describe this dataset (\"Unevenly sized blobs\") just as you described the datasets in the previous question:\n",
    "    1. Answer:\n",
    "1. *QUESTION:* For each dataset or instance, describe the KMeans assumption that you think it fulfils or fails to fulfil in order to apply it correctly.\n",
    "    1. Dataset 1:\n",
    "    1. Dataset 2:\n",
    "    1. Dataset 3:\n",
    "    1. Dataset 4:\n",
    "1. *QUESTION:* For each dataset or instance, can you think of any possible transformation of the data to another variable space or any other type of transformation that would help us to solve such a problem with KMeans?\n",
    "    1. Note: It's a complex question, so don't worry if you don't have an answer for each case, or can't think of anything, although we encourage you to try :).\n",
    "    1. Dataset 1:\n",
    "    1. Dataset 2:\n",
    "    1. Dataset 3:\n",
    "    1. Dataset 4:"
   ]
  }
 ],
 "metadata": {
  "environment": {
   "kernel": "python3",
   "name": "common-cpu.m87",
   "type": "gcloud",
   "uri": "gcr.io/deeplearning-platform-release/base-cpu:m87"
  },
  "kernelspec": {
   "display_name": "Python 3",
   "language": "python",
   "name": "python3"
  },
  "language_info": {
   "codemirror_mode": {
    "name": "ipython",
    "version": 3
   },
   "file_extension": ".py",
   "mimetype": "text/x-python",
   "name": "python",
   "nbconvert_exporter": "python",
   "pygments_lexer": "ipython3",
   "version": "3.7.12"
  }
 },
 "nbformat": 4,
 "nbformat_minor": 5
}
