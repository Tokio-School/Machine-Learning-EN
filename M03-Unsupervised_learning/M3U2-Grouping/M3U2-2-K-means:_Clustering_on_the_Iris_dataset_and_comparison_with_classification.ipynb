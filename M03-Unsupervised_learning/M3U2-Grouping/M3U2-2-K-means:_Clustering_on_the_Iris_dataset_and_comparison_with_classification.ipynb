{
 "cells": [
  {
   "cell_type": "markdown",
   "id": "7eda123c-c621-46ab-b23d-abb27ff12e34",
   "metadata": {},
   "source": [
    "# K-means: Clustering on the Iris dataset and comparison with classification\n",
    "M3U2 - Exercise 2\n",
    "\n",
    "## What are we going to do?\n",
    "- We will download the Iris dataset\n",
    "- We will train a K-means clustering model using Scikit-learn\n",
    "- We will evaluate the results of the model graphically\n",
    "- We will train a classification model on the same dataset using SVM\n",
    "- We will evaluate the results of the classification\n",
    "- We will compare both models and their results\n",
    "\n",
    "Remember to follow the instructions for the submission of assignments indicated in [Submission Instructions](https://github.com/Tokio-School/Machine-Learning-EN/blob/main/Submission_instructions.md).\n",
    "\n",
    "## Instructions\n",
    "In this exercise, we will compare both algorithms on the Iris dataset, which we had previously used in classification. In this way we will be able to compare both types of learning; supervised classification learning and unsupervised clustering learning.\n",
    "\n",
    "We may often confuse the two types of models or think that we can use them for similar use cases. However, we must always remember the fundamental difference between them: that classification is supervised learning (where we have previously annotated and known results) and clustering is unsupervised (we do not have results)."
   ]
  },
  {
   "cell_type": "code",
   "execution_count": null,
   "id": "45265144-50db-465c-aec3-c50b4e56f9dc",
   "metadata": {},
   "outputs": [],
   "source": [
    "# TODO: Import all the necessary modules into this cell"
   ]
  },
  {
   "cell_type": "markdown",
   "id": "8f9da86e-2482-4c2b-9799-2e580c33a421",
   "metadata": {},
   "source": [
    "## Download the Iris dataset\n",
    "\n",
    "Download the Iris dataset in *X* and *Y* format for use in this exercise.\n",
    "\n",
    "You can use this link: [sklearn.datasets.load_iris](https://scikit-learn.org/stable/modules/generated/sklearn.datasets.load_iris.html)."
   ]
  },
  {
   "cell_type": "code",
   "execution_count": null,
   "id": "5ac7ecbd-9c76-481b-a209-9a0a6a2ea18f",
   "metadata": {},
   "outputs": [],
   "source": [
    "# TODO: Download the Iris dataset"
   ]
  },
  {
   "cell_type": "markdown",
   "id": "786f40a6-3696-419f-a142-d6fb6f8c0926",
   "metadata": {},
   "source": [
    "*Do you have the courage to represent the first 3 features in 3D? Sepal length, sepal width, and petal length*.\n",
    "\n",
    "*Is there a clear differentiation between the classes? Do you see multiple data clusters?*\n",
    "\n",
    "You can use these exercises as a reference:\n",
    "- [The Iris Dataset](https://scikit-learn.org/stable/modules/generated/sklearn.datasets.load_iris.html)\n",
    "- [3D scatterplot](https://matplotlib.org/3.1.1/gallery/mplot3d/scatter3d.html)\n",
    "- [K-means Clustering](https://scikit-learn.org/stable/auto_examples/cluster/plot_cluster_iris.html)\n",
    "\n",
    "*NOTE:* We will use these same 3 features and the same 3D rendering technique when rendering results throughout the exercise."
   ]
  },
  {
   "cell_type": "code",
   "execution_count": null,
   "id": "e3f9511c-8865-44c7-b8fb-dd65b06d920d",
   "metadata": {},
   "outputs": [],
   "source": [
    "# TODO: Represent 3 features from the 4-dimensional dataset in 3D"
   ]
  },
  {
   "cell_type": "markdown",
   "id": "c295a255-2e9d-4e0a-97a0-03942f9a2562",
   "metadata": {},
   "source": [
    "To better analyse the dataset, try to represent another set of 3 different features, also including the petal width.\n",
    "\n",
    "Among these combinations of features, represented on different graphs, *can you find a clear difference between classes? Several clusters of data grouped together? More descriptor variables?*\n",
    "\n",
    "In view of this data, which may also be difficult to appreciate for our models, we will check their results."
   ]
  },
  {
   "cell_type": "markdown",
   "id": "86f2fcdb-2cc4-4070-b08d-15a030adcc88",
   "metadata": {},
   "source": [
    "## Preprocess the data\n",
    "\n",
    "We will preprocess the data in the usual way:\n",
    "- Randomly reorder the examples.\n",
    "- Normalise them only if necessary.\n",
    "- Divide them into training and test subsets.\n",
    "\n",
    "We will use the training subset exclusively to train our models and the test subset to evaluate them, with cross-validation by K-means. This will ensure that both types of models are trained and evaluated on equal terms."
   ]
  },
  {
   "cell_type": "code",
   "execution_count": null,
   "id": "6add6120-33af-4a52-ac10-793050b55419",
   "metadata": {},
   "outputs": [],
   "source": [
    "# TODO: Randomly reorder the data, normalise it if necessary, and split it into training and test subsets"
   ]
  },
  {
   "cell_type": "markdown",
   "id": "abe7d289-ef69-4534-8651-230d9b0b3176",
   "metadata": {},
   "source": [
    "## Train a K-means clustering model using Scikit-learn\n",
    "\n",
    "We will train a K-means clustering model using the Scikit-learn method [sklearn.cluster.KMeans](https://scikit-learn.org/stable/modules/generated/sklearn.cluster.KMeans.html).\n",
    "\n",
    "This method accepts an *n_clusters* number of clusters and performs several initialisations with different original centroids, so we will not have to perform cross-validation on it.\n",
    "\n",
    "Train a K-means model for 3 clusters on the training subset:"
   ]
  },
  {
   "cell_type": "code",
   "execution_count": null,
   "id": "7f49ca63-0cdb-4b6c-b6d7-0c238970c456",
   "metadata": {},
   "outputs": [],
   "source": [
    "# TODO: Train a K-means model for 3 clusters on the training subset"
   ]
  },
  {
   "cell_type": "markdown",
   "id": "b632cdfc-6d40-488f-a7a1-6d9c7410899d",
   "metadata": {},
   "source": [
    "## Evaluate your results graphically"
   ]
  },
  {
   "cell_type": "markdown",
   "id": "bb2c4456-88e4-4073-9e04-5d0b01dd5848",
   "metadata": {},
   "source": [
    "On this occasion, to evaluate the K-means model, we will use the final test subset since we have it.\n",
    "\n",
    "Evaluate this model with its `model.score()` and silhouette coefficient:\n",
    "\n",
    "*NOTE:* Although implemented for consistency, `model.score()` does not use *Y*."
   ]
  },
  {
   "cell_type": "code",
   "execution_count": null,
   "id": "3b6b5388-a73f-4687-b569-8e5135b42f38",
   "metadata": {},
   "outputs": [],
   "source": [
    "# TODO: Evaluate this model without using Y on the test subset"
   ]
  },
  {
   "cell_type": "markdown",
   "id": "11ebd51b-b1b8-4124-83dd-d232c9367f46",
   "metadata": {},
   "source": [
    "Plot the results:"
   ]
  },
  {
   "cell_type": "code",
   "execution_count": null,
   "id": "a3da25ec-aba4-42a7-8829-ea812a57c232",
   "metadata": {},
   "outputs": [],
   "source": [
    "# TODO: Plot the centroids and the examples assigned to each cluster in 3D"
   ]
  },
  {
   "cell_type": "markdown",
   "id": "c613604e-c033-451c-9f12-5391cf85c247",
   "metadata": {},
   "source": [
    "## Train an SVM classification model on the Iris dataset\n",
    "\n",
    "Now train an SVM classification model using [sklearn.svm.SVC](https://scikit-learn.org/stable/modules/generated/sklearn.svm.SVC.html) on the Iris dataset.\n",
    "\n",
    "Evaluate various values of the *C* hyperparameter and available kernels using K-fold with [sklearn.model_selection.GridSearchCV](https://scikit-learn.org/stable/modules/generated/sklearn.model_selection.GridSearchCV.html).\n",
    "\n",
    "For *gamma* you can use the default value or `auto`.\n",
    "\n",
    "You can use these exercises as a reference: [Plot differente SVM classifiers in the Iris Dataset](https://scikit-learn.org/stable/auto_examples/svm/plot_iris_svc.html)."
   ]
  },
  {
   "cell_type": "code",
   "execution_count": null,
   "id": "3d8fc597-b702-40f0-9371-52bfaf931ae7",
   "metadata": {},
   "outputs": [],
   "source": [
    "# TODO: Train an SVC model, optimising its hyperparameters and kernel using CV with K-fold"
   ]
  },
  {
   "cell_type": "markdown",
   "id": "dae325a7-7153-421f-8ec4-23f33f433c3e",
   "metadata": {},
   "source": [
    "## Evaluate your results graphically\n",
    "\n",
    "Finally, as we did in the exercises of the previous session, evaluate the model on the test subset and plot its predictions graphically:"
   ]
  },
  {
   "cell_type": "code",
   "execution_count": null,
   "id": "c70d8d9d-b2b6-49ca-aac5-50b69082933b",
   "metadata": {},
   "outputs": [],
   "source": [
    "# TODO: Evaluate the model on the test subset"
   ]
  },
  {
   "cell_type": "code",
   "execution_count": null,
   "id": "b15332ec-0e13-4fd3-9a8b-418481808037",
   "metadata": {},
   "outputs": [],
   "source": [
    "# TODO: Plot its predictions graphically in 3D"
   ]
  },
  {
   "cell_type": "markdown",
   "id": "d5b3a584-17bf-4bd6-898a-61f0b4eb8ce6",
   "metadata": {},
   "source": [
    "## Compare both models and their results\n",
    "\n",
    "Although the two tasks, clustering and classification, are inherently different, we can compare these results to highlight their differences.\n",
    "\n",
    "To do this, you can compare the assignment of examples to each cluster in grouping and to each class in classification.\n",
    "\n",
    "*Note*: Please consider the inherent complexity of the examples and features of this Iris dataset.\n",
    "\n",
    "- *Is there a big difference between the number of examples that would be assigned to a cluster in clustering and to a different class in classification?*\n",
    "- *Which model is more accurate? Is a clustering model able to deliver similar results to a classification model, when we can evaluate the actual class?*\n",
    "- *How is the partitioning of the n-dimensional space in both cases? Is the space assigned to classes and the space assigned to clusters similar in the graphical representations?*"
   ]
  }
 ],
 "metadata": {
  "environment": {
   "kernel": "python3",
   "name": "common-cpu.m87",
   "type": "gcloud",
   "uri": "gcr.io/deeplearning-platform-release/base-cpu:m87"
  },
  "kernelspec": {
   "display_name": "Python 3",
   "language": "python",
   "name": "python3"
  },
  "language_info": {
   "codemirror_mode": {
    "name": "ipython",
    "version": 3
   },
   "file_extension": ".py",
   "mimetype": "text/x-python",
   "name": "python",
   "nbconvert_exporter": "python",
   "pygments_lexer": "ipython3",
   "version": "3.7.12"
  }
 },
 "nbformat": 4,
 "nbformat_minor": 5
}
