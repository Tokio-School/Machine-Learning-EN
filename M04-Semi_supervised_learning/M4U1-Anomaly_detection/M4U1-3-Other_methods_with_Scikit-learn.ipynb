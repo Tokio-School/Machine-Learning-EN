{
 "cells": [
  {
   "cell_type": "markdown",
   "id": "fa006ebc-665a-499d-a3fc-3ff94d1a23e2",
   "metadata": {},
   "source": [
    "# Detection of Anomalies: Other methods with Scikit-learn\n",
    "M4U1 - Exercise 3\n",
    "\n",
    "## What are we going to do?\n",
    "- We are going to solve an anomaly detection dataset with Scikit-learn\n",
    "\n",
    "Remember to follow the instructions for the submission of assignments indicated in [Submission Instructions](https://github.com/Tokio-School/Machine-Learning-EN/blob/main/Submission_instructions.md).\n",
    "\n",
    "## Instructions\n",
    "This time, we are going to use another of the methods included in Scikit-learn to detect anomalies (outliers).\n",
    "\n",
    "The method we are going to use is [EllipticEnvelope](https://scikit-learn.org/stable/modules/generated/sklearn.covariance.EllipticEnvelope.html).\n",
    "\n",
    "To do this, first download the first example from [Outlier detection on a real data set](https://scikit-learn.org/stable/auto_examples/applications/plot_outlier_detection_wine.html#first-example) and copy it into the next cell, modifying it so that it only trains an (\"Empirical Covariance\") model:"
   ]
  },
  {
   "cell_type": "code",
   "execution_count": null,
   "id": "df04311d-aca8-424c-ae21-ae20c5ca9b62",
   "metadata": {},
   "outputs": [],
   "source": [
    "# TODO: Copy the first example in Elliptic Envelope and train only an empirical covariance model"
   ]
  },
  {
   "cell_type": "markdown",
   "id": "8ea1071e-f061-41d7-aae6-910c768075d0",
   "metadata": {},
   "source": [
    "Finally, we will compare it with our implementation, following the same steps as in the previous synthetic dataset exercise:\n",
    "\n",
    "1. Create a synthetic dataset for anomaly detection with normal and anomalous data datasets.\n",
    "1. Normalise and randomly rearrange the data in both datasets.\n",
    "1. Divide them into training and test subsets, with normal data and outliers equally distributed.\n",
    "1. Plot the 2 subsets on a graph.\n",
    "1. Train the EllipticEnvelope model on the training subset.\n",
    "1. Calculate the F1-score of the model on the test subset.\n",
    "1. Plot the differentiated normal data and outliers together with the decision function of the model on a contour line."
   ]
  },
  {
   "cell_type": "code",
   "execution_count": null,
   "id": "a8f3d97d-fddc-48a0-acc1-5b9be7183ec4",
   "metadata": {},
   "outputs": [],
   "source": [
    "# TODO: Create a synthetic dataset, preprocess the data, train a model and evaluate it, following the steps below"
   ]
  },
  {
   "cell_type": "markdown",
   "id": "e1e906f4-8d02-4777-8778-05fe2d39c81d",
   "metadata": {},
   "source": [
    "We have now used one of the methods available in Scikit-learn to solve an anomaly detection problem."
   ]
  }
 ],
 "metadata": {
  "environment": {
   "kernel": "python3",
   "name": "common-cpu.m87",
   "type": "gcloud",
   "uri": "gcr.io/deeplearning-platform-release/base-cpu:m87"
  },
  "kernelspec": {
   "display_name": "Python 3",
   "language": "python",
   "name": "python3"
  },
  "language_info": {
   "codemirror_mode": {
    "name": "ipython",
    "version": 3
   },
   "file_extension": ".py",
   "mimetype": "text/x-python",
   "name": "python",
   "nbconvert_exporter": "python",
   "pygments_lexer": "ipython3",
   "version": "3.7.12"
  }
 },
 "nbformat": 4,
 "nbformat_minor": 5
}
