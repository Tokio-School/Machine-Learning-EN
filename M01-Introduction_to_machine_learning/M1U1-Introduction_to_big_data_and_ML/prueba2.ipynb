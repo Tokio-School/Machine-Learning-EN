{
 "cells": [
  {
   "cell_type": "markdown",
   "id": "565e9f17-04b9-43ef-9694-d20e6b4a521e",
   "metadata": {},
   "source": [
    "# Linear Algebra\n",
    "M1U1 - Exercise 2\n",
    "\n",
    "## What are we going to do?\n",
    "- Solving a series of linear algebra mathematical operations problems\n",
    "\n",
    "Remember to follow the instructions for the submission of assignments indicated in [Submission Instructions](https://github.com/Tokio-School/Machine-Learning-EN/blob/main/Submission_instructions.md).\n",
    "\n",
    "## Instructions\n",
    "\n",
    "We will perform a series of linear algebra mathematical operations, to help us to fully internalise these concepts.\n",
    "\n",
    "For this exercise you are asked to solve these exercises in the way you prefer: using a text editor capable of including mathematical formulas, LaTeX, a scanned document, or even a photograph of a sheet where the solution is clearly visible.\n",
    "\n",
    "Please remember to solve them manually, step by step. Of course, you can use any calculator to check the result, but we want to set out the features of the operation in order for you to understand it clearly.\n",
    "\n",
    "Once you have completed these operations manually, this will ensure that you will not have any problems performing them using code in more complex implementations, such as the ones we will do during the course.\n",
    "\n",
    "*Note from the teacher: Although it may not sound very sexy to do a high school maths exercise, being able to solve it without any problem and internalising these concepts will help you avoid many problems during the course and in your work, in my experience with ML :).*"
   ]
  },
  {
   "cell_type": "markdown",
   "id": "9407f0bb-63a3-41ca-9a1e-a7e5e9a0f7c6",
   "metadata": {},
   "source": [
    "### Matrices y vectors\n",
    "\n",
    "$A_{3\\times3} = \\begin{bmatrix}\n",
    "1 & 2 & 3 \\\\\n",
    "4 & 5 & 6 \\\\\n",
    "7 & 8 & 9 \\\\\n",
    "\\end{bmatrix}$\n",
    "\n",
    "$B_{3\\times3} = \\begin{bmatrix}\n",
    "10 & 20 & 30 \\\\\n",
    "40 & 50 & 60 \\\\\n",
    "70 & 80 & 90 \\\\\n",
    "\\end{bmatrix}$\n",
    "\n",
    "$V_{3\\times1} = \\begin{bmatrix}\n",
    "a \\\\\n",
    "b \\\\\n",
    "c \\\\\n",
    "\\end{bmatrix}$\n",
    "\n",
    "$C_{3\\times2} = \\begin{bmatrix}\n",
    "a & b \\\\\n",
    "c & d \\\\\n",
    "e & f \\\\\n",
    "\\end{bmatrix}$\n",
    "\n",
    "$D_{2\\times3} = \\begin{bmatrix}\n",
    "g & h & i \\\\\n",
    "j & k & l\n",
    "\\end{bmatrix}$\n",
    "\n",
    "$Y_{4\\times1} = \\begin{bmatrix}\n",
    "y_1 \\\\\n",
    "y_2 \\\\\n",
    "y_3 \\\\\n",
    "y_4\n",
    "\\end{bmatrix}$\n",
    "\n",
    "$\\Theta_{1\\times3} = \\begin{bmatrix}\n",
    "\\theta_1 & \\theta_2 & \\theta_3\n",
    "\\end{bmatrix}$\n",
    "\n",
    "$X_{4\\times3} = \\begin{bmatrix}\n",
    "1 & 2 & 3 \\\\\n",
    "4 & 5 & 6 \\\\\n",
    "7 & 8 & 9 \\\\\n",
    "10 & 11 & 12\n",
    "\\end{bmatrix}$"
   ]
  },
  {
   "cell_type": "markdown",
   "id": "c0ba2cfc-fc36-4f5b-8a07-261b698f39d1",
   "metadata": {},
   "source": [
    "### Exercises\n",
    "\n",
    "1. Transpose matrix *A*.\n",
    "1. Find the sum of matrix *A* and *B*.\n",
    "1. Multiply matrix *A* by the scalar number 3\n",
    "1. Multiply matrix *A* by the vector *V*.\n",
    "1. Multiply matrix *A* by matrix *C*.\n",
    "1. Multiply matrix *B* by matrix *C*.\n",
    "1. Multiply matrix *B* by matrix *D*.\n",
    "1. Given that in a linear regression *Y* is equal to the product of the vector *Θ* and matrix *X*, state the equation and solve it for each element of *Y*, taking into account:\n",
    "    1. *Y* and *Theta* are row or column vectors, we can transpose them without any problem.\n",
    "    1. We can transpose *X* only if there is no other option.\n",
    "    1. We can choose the order of the multiplication as we wish."
   ]
  },
  {
   "cell_type": "markdown",
   "id": "cbade501-7db3-490f-82a9-cc32082ffd7e",
   "metadata": {},
   "source": [
    "## We have learned that......\n",
    "\n",
    "- The implementation of machine learning relies on linear algebra calculations.\n",
    "- We need to know how to multiply matrices step by step in order to know how to utilise these operations when implementing machine learning algorithms.\n",
    "- Not all operations are always possible.\n",
    "- Be careful with the dimensions of vectors and matrices, *extremely careful!*."
   ]
  }
 ],
 "metadata": {
  "environment": {
   "kernel": "python3",
   "name": "common-cpu.m87",
   "type": "gcloud",
   "uri": "gcr.io/deeplearning-platform-release/base-cpu:m87"
  },
  "kernelspec": {
   "display_name": "Python 3",
   "language": "python",
   "name": "python3"
  },
  "language_info": {
   "codemirror_mode": {
    "name": "ipython",
    "version": 3
   },
   "file_extension": ".py",
   "mimetype": "text/x-python",
   "name": "python",
   "nbconvert_exporter": "python",
   "pygments_lexer": "ipython3",
   "version": "3.7.12"
  }
 },
 "nbformat": 4,
 "nbformat_minor": 5
}
