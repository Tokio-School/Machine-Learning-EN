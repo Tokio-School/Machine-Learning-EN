{
 "cells": [
  {
   "cell_type": "markdown",
   "id": "c0423d2a-05e4-46ee-a987-10182e69754e",
   "metadata": {},
   "source": [
    "# PCA: Scikit-learn sobre dataset Iris\n",
    "M5U3 - Ejercicio 1\n",
    "\n",
    "## ¿Qué vamos a hacer?\n",
    "- Reducir la dimensionalidad de un dataset por PCA\n",
    "- Implementar PCA con Scikit-learn\n",
    "- Representar gráficamente las nuevas dimensiones\n",
    "\n",
    "Recuerda seguir las instrucciones para las entregas de prácticas indicadas en [Instrucciones entregas](https://github.com/Tokio-School/Machine-Learning/blob/main/Instrucciones%20entregas.md).\n",
    "\n",
    "## Instrucciones\n",
    "### El dataset Iris\n",
    "\n",
    "Aunque ya hemos trabajado previamente con él, vamos a recordar sus características principales:\n",
    "- Dataset con la información de plantas de iris para clasificación.\n",
    "- 3 clases: Iris Setosa, Iris Versicolor o Iris Virgínica.\n",
    "- Una de las clases es linealmente separable del resto, las otras 2 no.\n",
    "- 4 dimensiones: longitud y anchura de los sépalos y de los pétalos, en cm.\n",
    "- 150 ejemplos, 50 de cada una de las 3 clases.\n",
    "\n",
    "A priori no es un dataset de alta dimensionalidad que necesite de reducción por PCA, pero al tener pocas dimensiones nos permite visualizarlas de forma más sencilla.\n",
    "\n",
    "Para este ejercicio, puedes fijarte en los siguientes ejemplos de la documentación de Scikit-learn:\n",
    "- [The Iris Dataset](https://scikit-learn.org/stable/auto_examples/datasets/plot_iris_dataset.html).\n",
    "- [PCA example with Iris Data-set](https://scikit-learn.org/stable/auto_examples/decomposition/plot_pca_iris.html).\n",
    "- [Comparison of LDA and PCA 2D projection of Iris dataset](https://scikit-learn.org/stable/auto_examples/decomposition/plot_pca_vs_lda.html).\n",
    "- [K-means Clustering](https://scikit-learn.org/stable/auto_examples/cluster/plot_cluster_iris.html)."
   ]
  },
  {
   "cell_type": "code",
   "execution_count": null,
   "id": "290ad6a3-d58d-4e3a-8a22-13960ea0cbf8",
   "metadata": {},
   "outputs": [],
   "source": [
    "# TODO: Importa todas las librerías necesarias aquí\n",
    "\n",
    "import numpy as np\n",
    "import matpltolib as plt\n",
    "\n",
    "from sklearn import datasets\n",
    "from sklearn.decomposition import PCA\n",
    "from mpl_toolkits.mplot3d import Axes3D\n",
    "\n",
    "plot_n = 1"
   ]
  },
  {
   "cell_type": "markdown",
   "id": "77ac4512-aac8-4a95-8479-59c2553c5625",
   "metadata": {},
   "source": [
    "Sigue las instrucciones para descargar y visualizar el dataset en la siguiente celda de código:\n",
    "\n",
    "*NOTA:* Utiliza un gráfico de puntos para todas las gráficas e incluye título, etiquetas de cada dimensión, una rejilla y la leyenda con las 3 clases."
   ]
  },
  {
   "cell_type": "code",
   "execution_count": null,
   "id": "55132183-3317-4d1e-bec5-f951fb8dcfda",
   "metadata": {},
   "outputs": [],
   "source": [
    "# TODO: Descarga el dataset de Iris y represéntalo gráficamente\n",
    "\n",
    "# Descarga el dataset de Iris\n",
    "X, y = [...]\n",
    "\n",
    "# Crea una gráfica con 4 subgráficas 3D y representa las 3 clases con etiquetas y colores diferentes en cada una con:\n",
    "# - longitud de los sépalos, anchura de los sépalos, longitud de los pétalos\n",
    "# - longitud de los sépalos, anchura de los sépalos, anchura de los pétalos\n",
    "# - longitud de los pétalos, anchura de los pétalos, longitud de los sépalos\n",
    "# - longitud de los pétalos, anchura de los pétalos, anchura de los sépalos\n",
    "fig = plt.figure(plot_n, figsize=(4, 3))\n",
    "ax = Axes3D([...])\n",
    "\n",
    "[...]\n",
    "\n",
    "fig.show()\n",
    "\n",
    "plot_n += 1"
   ]
  },
  {
   "cell_type": "markdown",
   "id": "99ca9075-7a91-49ff-b8f4-8195004e303f",
   "metadata": {},
   "source": [
    "*¿Eres capaz de separar linealmente con un plano las 3 clases? ¿Qué clases están más cerca o lejos del resto?*"
   ]
  },
  {
   "cell_type": "markdown",
   "id": "5962a392-57aa-4ba1-ac36-ce85c6490aff",
   "metadata": {},
   "source": [
    "## Reducción de dimensionalidad\n",
    "\n",
    "Es difícil representar en una gráfica un dataset de 4D. Podemos representarlo en 4 gráficas diferentes, como hemos hecho, representar la 4ª dimensión en la misma gráfica con formas, tamaños o colores diferentes, etc., o reducir su dimensionalidad a 3D o 2D.\n",
    "\n",
    "Vamos a transformar el espacio dimensional del dataset por PCA a un espacio de dimensiones diferentes. En este caso lo haremos para intentar mejorar la clasificación de las clases de forma visual, como también sería indicado para reducir la complejidad/dimensionalidad de un modelo.\n",
    "\n",
    "Para ello, vamos a reducir la dimensionalidad del dataset a sus 3 primeros componentes principales, o las 3 primeras dimensiones tras transformar por PCA:"
   ]
  },
  {
   "cell_type": "code",
   "execution_count": null,
   "id": "3d2e7e9f-f789-479e-a007-0915b909e492",
   "metadata": {},
   "outputs": [],
   "source": [
    "# TODO: Reduce la dimensionalidad del dataset a los 3 primeros componentes principales\n",
    "\n",
    "# Reduce la dimensionalidad de X a sus 3 primeros componentes principales\n",
    "pca_3 = PCA([...])\n",
    "\n",
    "X_pca_3 = pca_3.fit_transform([...])\n",
    "\n",
    "# Representa gráficamente sus 3 primeros componentes principales, utilizando colores diferentes para cada clase\n",
    "plt.figure(plot_n, figsize=(8, 6))\n",
    "\n",
    "ax = Axes3D([...])\n",
    "\n",
    "[...]\n",
    "\n",
    "plt.show()\n",
    "\n",
    "plot_n += 1"
   ]
  },
  {
   "cell_type": "markdown",
   "id": "a3f34a3f-4a85-4c1c-8cba-ae5830cc69cc",
   "metadata": {},
   "source": [
    "Analiza los resultados de la reducción de dimensionalidad:\n",
    "\n",
    "*¿Es ahora más fácil diferenciar las 3 clases?*\n",
    "\n",
    "Recuerda que las 3 dimensiones tras la reducción no se corresponden con las dimensiones iniciales, las longitudes y anchura de los pétalos y sépalos en cm."
   ]
  },
  {
   "cell_type": "markdown",
   "id": "843b9b7d-eea6-4734-bbdc-782c2ffc5599",
   "metadata": {},
   "source": [
    "### Reducción de dimensionalidad a 2 componentes principales\n",
    "\n",
    "Prueba también a representar el dataset en sólo 2D, reduciéndolo a sus 2 primeros componentes principales y representa el resultado:"
   ]
  },
  {
   "cell_type": "code",
   "execution_count": null,
   "id": "31d5c265-26af-4665-a3af-a6059218d431",
   "metadata": {},
   "outputs": [],
   "source": [
    "# TODO: Reduce la dimensionalidad del dataset a los 2 primeros componentes principales\n",
    "\n",
    "# Reduce la dimensionalidad de X a sus 2 primeros componentes principales\n",
    "pca_2 = PCA([...])\n",
    "\n",
    "X_pca_2 = pca_2.fit_transform([...])\n",
    "\n",
    "# Representa gráficamente sus 2 primeros componentes principales, utilizando colores diferentes para cada clase\n",
    "plt.figure(plot_n, figsize=(8, 6))\n",
    "\n",
    "[...]\n",
    "\n",
    "plt.show()\n",
    "\n",
    "plot_n += 1"
   ]
  },
  {
   "cell_type": "markdown",
   "id": "96dee5fd-9b52-4525-a019-37108b76bce7",
   "metadata": {},
   "source": [
    "Vuelve a analizar los resultados de esta última gráfica:\n",
    "\n",
    "*¿Es ahora más o menos sencillo diferenciar las 3 clases que en la gráfica de los 3 primeros componentes principales?*\n",
    "\n",
    "*¿Y en comparación con las gráficas originales, sigue siendo más o menos sencillo?*"
   ]
  }
 ],
 "metadata": {
  "environment": {
   "kernel": "python3",
   "name": "common-cpu.m87",
   "type": "gcloud",
   "uri": "gcr.io/deeplearning-platform-release/base-cpu:m87"
  },
  "kernelspec": {
   "display_name": "Python 3",
   "language": "python",
   "name": "python3"
  },
  "language_info": {
   "codemirror_mode": {
    "name": "ipython",
    "version": 3
   },
   "file_extension": ".py",
   "mimetype": "text/x-python",
   "name": "python",
   "nbconvert_exporter": "python",
   "pygments_lexer": "ipython3",
   "version": "3.7.12"
  }
 },
 "nbformat": 4,
 "nbformat_minor": 5
}
