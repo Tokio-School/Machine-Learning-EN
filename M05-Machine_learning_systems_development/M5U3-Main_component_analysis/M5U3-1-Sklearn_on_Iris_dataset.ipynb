{
 "cells": [
  {
   "cell_type": "markdown",
   "id": "c0423d2a-05e4-46ee-a987-10182e69754e",
   "metadata": {},
   "source": [
    "# PCA: Scikit-learn on Iris dataset\n",
    "M5U3 - Exercise 1\n",
    "\n",
    "## What are we going to do?\n",
    "- Reduce the dimensionality of a dataset by PCA\n",
    "- Implement PCA with Scikit-learn\n",
    "- Graphically represent the new dimensions\n",
    "\n",
    "Remember to follow the instructions for the practice deliveries indicated in the [Submission instructions](https://github.com/Tokio-School/Machine-Learning-EN/blob/main/Submission_instructions.md).\n",
    "\n",
    "## Instructions\n",
    "### The Iris dataset\n",
    "\n",
    "Although we have already worked with it previously, let's remember its main features:\n",
    "- Dataset with the information of iris plants for classification.\n",
    "- 3 classes: Iris Setosa, Iris Versicolor or Iris Virginica.\n",
    "- One of the classes is linearly separable from the rest, the other 2 are not.\n",
    "- 4 dimensions: length and width of sepals and petals, in cm.\n",
    "- 150 examples, 50 from each of the 3 classes.\n",
    "\n",
    "A priori it is not a high dimensionality dataset that needs reduction by PCA, but having few dimensions allows us to visualise them in a simpler way.\n",
    "\n",
    "For this exercise, you can look at the following examples from the Scikit-learn documentation:\n",
    "- [The Iris Dataset](https://scikit-learn.org/stable/auto_examples/datasets/plot_iris_dataset.html).\n",
    "- [PCA example with Iris Data-set](https://scikit-learn.org/stable/auto_examples/decomposition/plot_pca_iris.html).\n",
    "- [Comparison of LDA and PCA 2D projection of Iris dataset](https://scikit-learn.org/stable/auto_examples/decomposition/plot_pca_vs_lda.html).\n",
    "- [K-means Clustering](https://scikit-learn.org/stable/auto_examples/cluster/plot_cluster_iris.html)."
   ]
  },
  {
   "cell_type": "code",
   "execution_count": null,
   "id": "290ad6a3-d58d-4e3a-8a22-13960ea0cbf8",
   "metadata": {},
   "outputs": [],
   "source": [
    "# TODO: Import all the necessary libraries here.\n",
    "\n",
    "import numpy as np\n",
    "import matpltolib as plt\n",
    "\n",
    "from sklearn import datasets\n",
    "from sklearn.decomposition import PCA\n",
    "from mpl_toolkits.mplot3d import Axes3D\n",
    "\n",
    "plot_n = 1"
   ]
  },
  {
   "cell_type": "markdown",
   "id": "77ac4512-aac8-4a95-8479-59c2553c5625",
   "metadata": {},
   "source": [
    "Follow the instructions to download and display the dataset in the following code cell:\n",
    "\n",
    "*NOTE:* Use a dot plot for all graphs and include title, labels for each dimension, a grid and the legend with the 3 classes."
   ]
  },
  {
   "cell_type": "code",
   "execution_count": null,
   "id": "55132183-3317-4d1e-bec5-f951fb8dcfda",
   "metadata": {},
   "outputs": [],
   "source": [
    "# TODO: Download the Iris dataset and represent it graphically\n",
    "\n",
    "# Download the Iris dataset\n",
    "X, y = [...]\n",
    "\n",
    "# Create a graph with 4 3D subgraphs and represent the 3 classes with different labels and colours in each one with:\n",
    "# - length of sepals, width of sepals, length of petals\n",
    "# - length of the sepals, width of the sepals, width of the petals\n",
    "# - length of petals, width of petals, length of sepals\n",
    "# - length of petals, width of petals, width of sepals\n",
    "fig = plt.figure(plot_n, figsize=(4, 3))\n",
    "ax = Axes3D([...])\n",
    "\n",
    "[...]\n",
    "\n",
    "fig.show()\n",
    "\n",
    "plot_n += 1"
   ]
  },
  {
   "cell_type": "markdown",
   "id": "99ca9075-7a91-49ff-b8f4-8195004e303f",
   "metadata": {},
   "source": [
    "*Are you able to separate the 3 classes linearly with a plane? Which classes are closer or further away from each other?*"
   ]
  },
  {
   "cell_type": "markdown",
   "id": "5962a392-57aa-4ba1-ac36-ce85c6490aff",
   "metadata": {},
   "source": [
    "## Dimensionality reduction\n",
    "\n",
    "It is difficult to represent a 4D dataset in a graph. We can represent it in 4 different graphs, as we have done, represent the 4th dimension in the same graph with different shapes, sizes or colours, etc., or reduce its dimensionality to 3D or 2D.\n",
    "\n",
    "We are going to transform the dimensional space of the dataset by PCA to a different dimensional space. In this case we will do it to try to improve the classification of the classes in a visual way, as well as to reduce the complexity/dimensionality of a model.\n",
    "\n",
    "To do so, we will reduce the dimensionality of the dataset to its first 3 principal components, or the first 3 dimensions after transforming by PCA:"
   ]
  },
  {
   "cell_type": "code",
   "execution_count": null,
   "id": "3d2e7e9f-f789-479e-a007-0915b909e492",
   "metadata": {},
   "outputs": [],
   "source": [
    "# TODO: Reduce la dimensionalidad del dataset a los 3 primeros componentes principales\n",
    "\n",
    "# Reduce la dimensionalidad de X a sus 3 primeros componentes principales\n",
    "pca_3 = PCA([...])\n",
    "\n",
    "X_pca_3 = pca_3.fit_transform([...])\n",
    "\n",
    "# Representa gráficamente sus 3 primeros componentes principales, utilizando colores diferentes para cada clase\n",
    "plt.figure(plot_n, figsize=(8, 6))\n",
    "\n",
    "ax = Axes3D([...])\n",
    "\n",
    "[...]\n",
    "\n",
    "plt.show()\n",
    "\n",
    "plot_n += 1"
   ]
  },
  {
   "cell_type": "markdown",
   "id": "a3f34a3f-4a85-4c1c-8cba-ae5830cc69cc",
   "metadata": {},
   "source": [
    "Analiza los resultados de la reducción de dimensionalidad:\n",
    "\n",
    "*¿Es ahora más fácil diferenciar las 3 clases?*\n",
    "\n",
    "Recuerda que las 3 dimensiones tras la reducción no se corresponden con las dimensiones iniciales, las longitudes y anchura de los pétalos y sépalos en cm."
   ]
  },
  {
   "cell_type": "markdown",
   "id": "843b9b7d-eea6-4734-bbdc-782c2ffc5599",
   "metadata": {},
   "source": [
    "### Reducción de dimensionalidad a 2 componentes principales\n",
    "\n",
    "Prueba también a representar el dataset en sólo 2D, reduciéndolo a sus 2 primeros componentes principales y representa el resultado:"
   ]
  },
  {
   "cell_type": "code",
   "execution_count": null,
   "id": "31d5c265-26af-4665-a3af-a6059218d431",
   "metadata": {},
   "outputs": [],
   "source": [
    "# TODO: Reduce la dimensionalidad del dataset a los 2 primeros componentes principales\n",
    "\n",
    "# Reduce la dimensionalidad de X a sus 2 primeros componentes principales\n",
    "pca_2 = PCA([...])\n",
    "\n",
    "X_pca_2 = pca_2.fit_transform([...])\n",
    "\n",
    "# Representa gráficamente sus 2 primeros componentes principales, utilizando colores diferentes para cada clase\n",
    "plt.figure(plot_n, figsize=(8, 6))\n",
    "\n",
    "[...]\n",
    "\n",
    "plt.show()\n",
    "\n",
    "plot_n += 1"
   ]
  },
  {
   "cell_type": "markdown",
   "id": "96dee5fd-9b52-4525-a019-37108b76bce7",
   "metadata": {},
   "source": [
    "Vuelve a analizar los resultados de esta última gráfica:\n",
    "\n",
    "*¿Es ahora más o menos sencillo diferenciar las 3 clases que en la gráfica de los 3 primeros componentes principales?*\n",
    "\n",
    "*¿Y en comparación con las gráficas originales, sigue siendo más o menos sencillo?*"
   ]
  }
 ],
 "metadata": {
  "environment": {
   "kernel": "python3",
   "name": "common-cpu.m87",
   "type": "gcloud",
   "uri": "gcr.io/deeplearning-platform-release/base-cpu:m87"
  },
  "kernelspec": {
   "display_name": "Python 3",
   "language": "python",
   "name": "python3"
  },
  "language_info": {
   "codemirror_mode": {
    "name": "ipython",
    "version": 3
   },
   "file_extension": ".py",
   "mimetype": "text/x-python",
   "name": "python",
   "nbconvert_exporter": "python",
   "pygments_lexer": "ipython3",
   "version": "3.7.12"
  }
 },
 "nbformat": 4,
 "nbformat_minor": 5
}
