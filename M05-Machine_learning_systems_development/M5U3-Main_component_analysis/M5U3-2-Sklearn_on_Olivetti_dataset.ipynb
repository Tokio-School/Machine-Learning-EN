{
 "cells": [
  {
   "cell_type": "markdown",
   "id": "bd39a592-de96-4cc3-9c82-283290bbf8fd",
   "metadata": {},
   "source": [
    "# PCA: Scikit-learn on Olivetti dataset\n",
    "M5U3 - Exercise 2\n",
    "\n",
    "## What are we going to do?\n",
    "- Reduce the dimensionality of a high dimensional dataset like Labeled Faces in the Wild\n",
    "- Choose a minimum subset of vectors\n",
    "- Represent the principal vectors\n",
    "\n",
    "Remember to follow the instructions for the practice deliverables given in the [Submission instructions](https://github.com/Tokio-School/Machine-Learning-EN/blob/main/Submission_instructions.md).\n",
    "\n",
    "## Instructions\n",
    "In the previous exercise we saw how to implement PCA with Scikit-learn to reduce dimensionality, particularly in terms of data representation.\n",
    "\n",
    "In this exercise we are going to focus on finding the minimum number of principal components to which we can reduce the dimensionality of the dataset by losing as little information or variance as possible.\n",
    "\n",
    "To do this, we are going to use the [Olivetti Faces](https://scikit-learn.org/stable/datasets/real_world.html#olivetti-faces-dataset) dataset.\n",
    "\n",
    "*NOTE:* For this exercise you can base yourself on the following pages of the Scikit-learn documentation:\n",
    "- [Faces dataset decompositions](https://scikit-learn.org/stable/auto_examples/decomposition/plot_faces_decomposition.html).\n",
    "- [Decomposición en componentes principales](https://scikit-learn.org/stable/modules/decomposition.html).\n",
    "- [decomposition.PCA](https://scikit-learn.org/stable/modules/generated/sklearn.decomposition.PCA.html)."
   ]
  },
  {
   "cell_type": "code",
   "execution_count": null,
   "id": "d2e009c2-706a-4b93-b48e-b710a2e3f810",
   "metadata": {},
   "outputs": [],
   "source": [
    "# TODO: Import all the necessary libraries here.\n",
    "\n",
    "import matplotlib.pyplot as plt\n",
    "import numpy as np\n",
    "\n",
    "from sklearn import datasets\n",
    "from sklearn.decomposition import PCA\n",
    "\n",
    "rng = np.random.RandomState(42)\n",
    "\n",
    "plot_n = 1"
   ]
  },
  {
   "cell_type": "markdown",
   "id": "f5314af8-8869-45a0-a8f7-032afef5ef6a",
   "metadata": {},
   "source": [
    "## Import the dataset\n",
    "\n",
    "Import the Olivetti Faces dataset and represent some faces graphically:"
   ]
  },
  {
   "cell_type": "code",
   "execution_count": null,
   "id": "fb27f99f-7024-4427-99f4-8417243a59ab",
   "metadata": {},
   "outputs": [],
   "source": [
    "# TODO: Import the dataset and render some faces graphically"
   ]
  },
  {
   "cell_type": "markdown",
   "id": "7e29d803-1dc1-4a07-b5f2-6ce80bef2488",
   "metadata": {},
   "source": [
    "## Dimensionality reduction by PCA\n",
    "\n",
    "Reduce the dimensionality of the dataset by PCA while maintaining 95% of the variance/information of the original dataset.\n",
    "\n",
    "To do this, use the `n_components` and `svd_solver` argument of the [PCA method](https://scikit-learn.org/stable/modules/generated/sklearn.decomposition.PCA.html#:~:text=If%200%20%3C%20n_components%20%3C%201%20and%20svd_solver%20%3D%3D%20%27full%27%2C%20select%20the%20number%20of%20components%20such%20that%20the%20amount%20of%20variance%20that%20needs%20to%20be%20explained%20is%20greater%20than%20the%20percentage%20specified%20by%20n_components.):"
   ]
  },
  {
   "cell_type": "code",
   "execution_count": null,
   "id": "7f2befd2-b846-430d-b199-7a2a89fc35cb",
   "metadata": {},
   "outputs": [],
   "source": [
    "# TODO: Reduce the dimensionality of the dataset while maintaining a level of information from the original dataset"
   ]
  },
  {
   "cell_type": "markdown",
   "id": "20ccdf60-9978-49e5-a014-9fcaacf175cf",
   "metadata": {},
   "source": [
    "*How many principal components/dimensions has your decomposition returned?*\n",
    "\n",
    "*What if you kept only 90% of the original variance?*"
   ]
  },
  {
   "cell_type": "markdown",
   "id": "43130ae9-6bf5-4ca8-a980-f57847d4e465",
   "metadata": {},
   "source": [
    "## Visual representation\n",
    "\n",
    "Represent graphically some of the faces before and after dimensionality reduction.\n",
    "\n",
    "Básate en el ejemplo mencionado previamente: [Faces dataset decompositions](https://scikit-learn.org/stable/auto_examples/decomposition/plot_faces_decomposition.html)."
   ]
  }
 ],
 "metadata": {
  "environment": {
   "kernel": "python3",
   "name": "common-cpu.m87",
   "type": "gcloud",
   "uri": "gcr.io/deeplearning-platform-release/base-cpu:m87"
  },
  "kernelspec": {
   "display_name": "Python 3",
   "language": "python",
   "name": "python3"
  },
  "language_info": {
   "codemirror_mode": {
    "name": "ipython",
    "version": 3
   },
   "file_extension": ".py",
   "mimetype": "text/x-python",
   "name": "python",
   "nbconvert_exporter": "python",
   "pygments_lexer": "ipython3",
   "version": "3.7.12"
  }
 },
 "nbformat": 4,
 "nbformat_minor": 5
}
