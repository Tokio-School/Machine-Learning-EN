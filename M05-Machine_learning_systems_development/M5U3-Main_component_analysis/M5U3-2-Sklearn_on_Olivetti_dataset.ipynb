{
 "cells": [
  {
   "cell_type": "markdown",
   "id": "bd39a592-de96-4cc3-9c82-283290bbf8fd",
   "metadata": {},
   "source": [
    "# PCA: Scikit-learn sobre dataset Olivetti\n",
    "M5U3 - Ejercicio 2\n",
    "\n",
    "## ¿Qué vamos a hacer?\n",
    "- Reducir la dimensionalidad de un dataset de alta dimensionalidad como el Labeled Faces in the Wild\n",
    "- Escoger un el subconjunto mínimo de vectores\n",
    "- Representar los vectores principales\n",
    "\n",
    "Recuerda seguir las instrucciones para las entregas de prácticas indicadas en [Instrucciones entregas](https://github.com/Tokio-School/Machine-Learning/blob/main/Instrucciones%20entregas.md).\n",
    "\n",
    "## Instrucciones\n",
    "En el ejercicio anterior vimos cómo implementar PCA con Scikit-learn para reducir la dimensionalidad, particularmente de cara a la representación de los datos.\n",
    "\n",
    "En este ejercicio nos vamos a centrar en encontrar el número mínimo de componentes principales al que podemos reducir la dimensionalidad del dataset perdiendo el mínimo de información o varianza posible.\n",
    "\n",
    "Para ello, vamos a utilizar el dataset de [Caras de Olivetti](https://scikit-learn.org/stable/datasets/real_world.html#olivetti-faces-dataset).\n",
    "\n",
    "*NOTA:* Para este ejercicio te puedes basar las siguientes páginas de la documentación de Scikit-learn:\n",
    "- [Faces dataset decompositions](https://scikit-learn.org/stable/auto_examples/decomposition/plot_faces_decomposition.html).\n",
    "- [Decomposición en componentes principales](https://scikit-learn.org/stable/modules/decomposition.html).\n",
    "- [decomposition.PCA](https://scikit-learn.org/stable/modules/generated/sklearn.decomposition.PCA.html)."
   ]
  },
  {
   "cell_type": "code",
   "execution_count": null,
   "id": "d2e009c2-706a-4b93-b48e-b710a2e3f810",
   "metadata": {},
   "outputs": [],
   "source": [
    "# TODO: Importa todas las librerías necesarias aquí\n",
    "\n",
    "import matplotlib.pyplot as plt\n",
    "import numpy as np\n",
    "\n",
    "from sklearn import datasets\n",
    "from sklearn.decomposition import PCA\n",
    "\n",
    "rng = np.random.RandomState(42)\n",
    "\n",
    "plot_n = 1"
   ]
  },
  {
   "cell_type": "markdown",
   "id": "f5314af8-8869-45a0-a8f7-032afef5ef6a",
   "metadata": {},
   "source": [
    "## Importación del dataset\n",
    "\n",
    "Importa el dataset de Caras de Olivetti y representa algunas caras gráficamente:"
   ]
  },
  {
   "cell_type": "code",
   "execution_count": null,
   "id": "fb27f99f-7024-4427-99f4-8417243a59ab",
   "metadata": {},
   "outputs": [],
   "source": [
    "# TODO: Importa el dataset y representa algunas caras gráficamente"
   ]
  },
  {
   "cell_type": "markdown",
   "id": "7e29d803-1dc1-4a07-b5f2-6ce80bef2488",
   "metadata": {},
   "source": [
    "## Reducción de dimensionalidad por PCA\n",
    "\n",
    "Reduce la dimensionalidad del dataset por PCA manteniendo un 95% de la varianza/información del dataset original.\n",
    "\n",
    "Para ello, utiliza el argumento `n_components` y `svd_solver` del método [PCA](https://scikit-learn.org/stable/modules/generated/sklearn.decomposition.PCA.html#:~:text=If%200%20%3C%20n_components%20%3C%201%20and%20svd_solver%20%3D%3D%20%27full%27%2C%20select%20the%20number%20of%20components%20such%20that%20the%20amount%20of%20variance%20that%20needs%20to%20be%20explained%20is%20greater%20than%20the%20percentage%20specified%20by%20n_components.):"
   ]
  },
  {
   "cell_type": "code",
   "execution_count": null,
   "id": "7f2befd2-b846-430d-b199-7a2a89fc35cb",
   "metadata": {},
   "outputs": [],
   "source": [
    "# TODO: Reduce la dimensionalidad del dataset manteniendo un nivel de información del dataset original"
   ]
  },
  {
   "cell_type": "markdown",
   "id": "20ccdf60-9978-49e5-a014-9fcaacf175cf",
   "metadata": {},
   "source": [
    "*¿Cuántos componentes principales/dimensiones ha devuelto tu decomposición?*\n",
    "\n",
    "*¿Y si mantuvieras sólo el 90% de varianza original?*"
   ]
  },
  {
   "cell_type": "markdown",
   "id": "43130ae9-6bf5-4ca8-a980-f57847d4e465",
   "metadata": {},
   "source": [
    "## Representación visual\n",
    "\n",
    "Representa gráficamente algunas de las caras antes y después de reducir la dimensionalidad.\n",
    "\n",
    "Básate en el ejemplo mencionado previamente: [Faces dataset decompositions](https://scikit-learn.org/stable/auto_examples/decomposition/plot_faces_decomposition.html)."
   ]
  }
 ],
 "metadata": {
  "environment": {
   "kernel": "python3",
   "name": "common-cpu.m87",
   "type": "gcloud",
   "uri": "gcr.io/deeplearning-platform-release/base-cpu:m87"
  },
  "kernelspec": {
   "display_name": "Python 3",
   "language": "python",
   "name": "python3"
  },
  "language_info": {
   "codemirror_mode": {
    "name": "ipython",
    "version": 3
   },
   "file_extension": ".py",
   "mimetype": "text/x-python",
   "name": "python",
   "nbconvert_exporter": "python",
   "pygments_lexer": "ipython3",
   "version": "3.7.12"
  }
 },
 "nbformat": 4,
 "nbformat_minor": 5
}
